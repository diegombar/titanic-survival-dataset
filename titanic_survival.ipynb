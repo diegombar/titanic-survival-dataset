{
 "cells": [
  {
   "cell_type": "markdown",
   "metadata": {},
   "source": [
    "# Titanic survival"
   ]
  },
  {
   "cell_type": "markdown",
   "metadata": {},
   "source": [
    "## 1 . Problem definition\n",
    "Predict the survival of people onboard the Titanic (binary classification)"
   ]
  },
  {
   "cell_type": "code",
   "execution_count": 1,
   "metadata": {},
   "outputs": [],
   "source": [
    "import numpy as np\n",
    "import seaborn as sns\n",
    "import pandas as pd\n",
    "from matplotlib import pyplot as plt\n",
    "%matplotlib inline\n",
    "from sklearn import ensemble"
   ]
  },
  {
   "cell_type": "markdown",
   "metadata": {},
   "source": [
    "## 2. Load data\n"
   ]
  },
  {
   "cell_type": "code",
   "execution_count": 2,
   "metadata": {},
   "outputs": [],
   "source": [
    "train_data = pd.read_csv('train.csv')\n",
    "test_data = pd.read_csv('test.csv')"
   ]
  },
  {
   "cell_type": "markdown",
   "metadata": {},
   "source": [
    "Extra info:\n",
    "April 15, 1912\n",
    "1502 deaths out of 2224 (passengers and crew) (32% survival rate)\n",
    "not enough lifeboats\n",
    "More likely to survive: women, children, upper-class"
   ]
  },
  {
   "cell_type": "markdown",
   "metadata": {},
   "source": [
    "## 3. Exploratory Analysis"
   ]
  },
  {
   "cell_type": "markdown",
   "metadata": {},
   "source": [
    "Familiarize with the data: nb of examples, nb of columns, data types, ranges of values, distributions, missing values"
   ]
  },
  {
   "cell_type": "code",
   "execution_count": 3,
   "metadata": {},
   "outputs": [
    {
     "data": {
      "text/html": [
       "<div>\n",
       "<style scoped>\n",
       "    .dataframe tbody tr th:only-of-type {\n",
       "        vertical-align: middle;\n",
       "    }\n",
       "\n",
       "    .dataframe tbody tr th {\n",
       "        vertical-align: top;\n",
       "    }\n",
       "\n",
       "    .dataframe thead th {\n",
       "        text-align: right;\n",
       "    }\n",
       "</style>\n",
       "<table border=\"1\" class=\"dataframe\">\n",
       "  <thead>\n",
       "    <tr style=\"text-align: right;\">\n",
       "      <th></th>\n",
       "      <th>PassengerId</th>\n",
       "      <th>Survived</th>\n",
       "      <th>Pclass</th>\n",
       "      <th>Name</th>\n",
       "      <th>Sex</th>\n",
       "      <th>Age</th>\n",
       "      <th>SibSp</th>\n",
       "      <th>Parch</th>\n",
       "      <th>Ticket</th>\n",
       "      <th>Fare</th>\n",
       "      <th>Cabin</th>\n",
       "      <th>Embarked</th>\n",
       "    </tr>\n",
       "  </thead>\n",
       "  <tbody>\n",
       "    <tr>\n",
       "      <th>0</th>\n",
       "      <td>1</td>\n",
       "      <td>0</td>\n",
       "      <td>3</td>\n",
       "      <td>Braund, Mr. Owen Harris</td>\n",
       "      <td>male</td>\n",
       "      <td>22.0</td>\n",
       "      <td>1</td>\n",
       "      <td>0</td>\n",
       "      <td>A/5 21171</td>\n",
       "      <td>7.2500</td>\n",
       "      <td>NaN</td>\n",
       "      <td>S</td>\n",
       "    </tr>\n",
       "    <tr>\n",
       "      <th>1</th>\n",
       "      <td>2</td>\n",
       "      <td>1</td>\n",
       "      <td>1</td>\n",
       "      <td>Cumings, Mrs. John Bradley (Florence Briggs Th...</td>\n",
       "      <td>female</td>\n",
       "      <td>38.0</td>\n",
       "      <td>1</td>\n",
       "      <td>0</td>\n",
       "      <td>PC 17599</td>\n",
       "      <td>71.2833</td>\n",
       "      <td>C85</td>\n",
       "      <td>C</td>\n",
       "    </tr>\n",
       "    <tr>\n",
       "      <th>2</th>\n",
       "      <td>3</td>\n",
       "      <td>1</td>\n",
       "      <td>3</td>\n",
       "      <td>Heikkinen, Miss. Laina</td>\n",
       "      <td>female</td>\n",
       "      <td>26.0</td>\n",
       "      <td>0</td>\n",
       "      <td>0</td>\n",
       "      <td>STON/O2. 3101282</td>\n",
       "      <td>7.9250</td>\n",
       "      <td>NaN</td>\n",
       "      <td>S</td>\n",
       "    </tr>\n",
       "    <tr>\n",
       "      <th>3</th>\n",
       "      <td>4</td>\n",
       "      <td>1</td>\n",
       "      <td>1</td>\n",
       "      <td>Futrelle, Mrs. Jacques Heath (Lily May Peel)</td>\n",
       "      <td>female</td>\n",
       "      <td>35.0</td>\n",
       "      <td>1</td>\n",
       "      <td>0</td>\n",
       "      <td>113803</td>\n",
       "      <td>53.1000</td>\n",
       "      <td>C123</td>\n",
       "      <td>S</td>\n",
       "    </tr>\n",
       "    <tr>\n",
       "      <th>4</th>\n",
       "      <td>5</td>\n",
       "      <td>0</td>\n",
       "      <td>3</td>\n",
       "      <td>Allen, Mr. William Henry</td>\n",
       "      <td>male</td>\n",
       "      <td>35.0</td>\n",
       "      <td>0</td>\n",
       "      <td>0</td>\n",
       "      <td>373450</td>\n",
       "      <td>8.0500</td>\n",
       "      <td>NaN</td>\n",
       "      <td>S</td>\n",
       "    </tr>\n",
       "  </tbody>\n",
       "</table>\n",
       "</div>"
      ],
      "text/plain": [
       "   PassengerId  Survived  Pclass  \\\n",
       "0            1         0       3   \n",
       "1            2         1       1   \n",
       "2            3         1       3   \n",
       "3            4         1       1   \n",
       "4            5         0       3   \n",
       "\n",
       "                                                Name     Sex   Age  SibSp  \\\n",
       "0                            Braund, Mr. Owen Harris    male  22.0      1   \n",
       "1  Cumings, Mrs. John Bradley (Florence Briggs Th...  female  38.0      1   \n",
       "2                             Heikkinen, Miss. Laina  female  26.0      0   \n",
       "3       Futrelle, Mrs. Jacques Heath (Lily May Peel)  female  35.0      1   \n",
       "4                           Allen, Mr. William Henry    male  35.0      0   \n",
       "\n",
       "   Parch            Ticket     Fare Cabin Embarked  \n",
       "0      0         A/5 21171   7.2500   NaN        S  \n",
       "1      0          PC 17599  71.2833   C85        C  \n",
       "2      0  STON/O2. 3101282   7.9250   NaN        S  \n",
       "3      0            113803  53.1000  C123        S  \n",
       "4      0            373450   8.0500   NaN        S  "
      ]
     },
     "execution_count": 3,
     "metadata": {},
     "output_type": "execute_result"
    }
   ],
   "source": [
    "train_data.head()"
   ]
  },
  {
   "cell_type": "code",
   "execution_count": 4,
   "metadata": {},
   "outputs": [
    {
     "data": {
      "text/html": [
       "<div>\n",
       "<style scoped>\n",
       "    .dataframe tbody tr th:only-of-type {\n",
       "        vertical-align: middle;\n",
       "    }\n",
       "\n",
       "    .dataframe tbody tr th {\n",
       "        vertical-align: top;\n",
       "    }\n",
       "\n",
       "    .dataframe thead th {\n",
       "        text-align: right;\n",
       "    }\n",
       "</style>\n",
       "<table border=\"1\" class=\"dataframe\">\n",
       "  <thead>\n",
       "    <tr style=\"text-align: right;\">\n",
       "      <th></th>\n",
       "      <th>PassengerId</th>\n",
       "      <th>Survived</th>\n",
       "      <th>Pclass</th>\n",
       "      <th>Name</th>\n",
       "      <th>Sex</th>\n",
       "      <th>Age</th>\n",
       "      <th>SibSp</th>\n",
       "      <th>Parch</th>\n",
       "      <th>Ticket</th>\n",
       "      <th>Fare</th>\n",
       "      <th>Cabin</th>\n",
       "      <th>Embarked</th>\n",
       "    </tr>\n",
       "  </thead>\n",
       "  <tbody>\n",
       "    <tr>\n",
       "      <th>886</th>\n",
       "      <td>887</td>\n",
       "      <td>0</td>\n",
       "      <td>2</td>\n",
       "      <td>Montvila, Rev. Juozas</td>\n",
       "      <td>male</td>\n",
       "      <td>27.0</td>\n",
       "      <td>0</td>\n",
       "      <td>0</td>\n",
       "      <td>211536</td>\n",
       "      <td>13.00</td>\n",
       "      <td>NaN</td>\n",
       "      <td>S</td>\n",
       "    </tr>\n",
       "    <tr>\n",
       "      <th>887</th>\n",
       "      <td>888</td>\n",
       "      <td>1</td>\n",
       "      <td>1</td>\n",
       "      <td>Graham, Miss. Margaret Edith</td>\n",
       "      <td>female</td>\n",
       "      <td>19.0</td>\n",
       "      <td>0</td>\n",
       "      <td>0</td>\n",
       "      <td>112053</td>\n",
       "      <td>30.00</td>\n",
       "      <td>B42</td>\n",
       "      <td>S</td>\n",
       "    </tr>\n",
       "    <tr>\n",
       "      <th>888</th>\n",
       "      <td>889</td>\n",
       "      <td>0</td>\n",
       "      <td>3</td>\n",
       "      <td>Johnston, Miss. Catherine Helen \"Carrie\"</td>\n",
       "      <td>female</td>\n",
       "      <td>NaN</td>\n",
       "      <td>1</td>\n",
       "      <td>2</td>\n",
       "      <td>W./C. 6607</td>\n",
       "      <td>23.45</td>\n",
       "      <td>NaN</td>\n",
       "      <td>S</td>\n",
       "    </tr>\n",
       "    <tr>\n",
       "      <th>889</th>\n",
       "      <td>890</td>\n",
       "      <td>1</td>\n",
       "      <td>1</td>\n",
       "      <td>Behr, Mr. Karl Howell</td>\n",
       "      <td>male</td>\n",
       "      <td>26.0</td>\n",
       "      <td>0</td>\n",
       "      <td>0</td>\n",
       "      <td>111369</td>\n",
       "      <td>30.00</td>\n",
       "      <td>C148</td>\n",
       "      <td>C</td>\n",
       "    </tr>\n",
       "    <tr>\n",
       "      <th>890</th>\n",
       "      <td>891</td>\n",
       "      <td>0</td>\n",
       "      <td>3</td>\n",
       "      <td>Dooley, Mr. Patrick</td>\n",
       "      <td>male</td>\n",
       "      <td>32.0</td>\n",
       "      <td>0</td>\n",
       "      <td>0</td>\n",
       "      <td>370376</td>\n",
       "      <td>7.75</td>\n",
       "      <td>NaN</td>\n",
       "      <td>Q</td>\n",
       "    </tr>\n",
       "  </tbody>\n",
       "</table>\n",
       "</div>"
      ],
      "text/plain": [
       "     PassengerId  Survived  Pclass                                      Name  \\\n",
       "886          887         0       2                     Montvila, Rev. Juozas   \n",
       "887          888         1       1              Graham, Miss. Margaret Edith   \n",
       "888          889         0       3  Johnston, Miss. Catherine Helen \"Carrie\"   \n",
       "889          890         1       1                     Behr, Mr. Karl Howell   \n",
       "890          891         0       3                       Dooley, Mr. Patrick   \n",
       "\n",
       "        Sex   Age  SibSp  Parch      Ticket   Fare Cabin Embarked  \n",
       "886    male  27.0      0      0      211536  13.00   NaN        S  \n",
       "887  female  19.0      0      0      112053  30.00   B42        S  \n",
       "888  female   NaN      1      2  W./C. 6607  23.45   NaN        S  \n",
       "889    male  26.0      0      0      111369  30.00  C148        C  \n",
       "890    male  32.0      0      0      370376   7.75   NaN        Q  "
      ]
     },
     "execution_count": 4,
     "metadata": {},
     "output_type": "execute_result"
    }
   ],
   "source": [
    "train_data.tail()"
   ]
  },
  {
   "cell_type": "code",
   "execution_count": 5,
   "metadata": {},
   "outputs": [
    {
     "data": {
      "text/html": [
       "<div>\n",
       "<style scoped>\n",
       "    .dataframe tbody tr th:only-of-type {\n",
       "        vertical-align: middle;\n",
       "    }\n",
       "\n",
       "    .dataframe tbody tr th {\n",
       "        vertical-align: top;\n",
       "    }\n",
       "\n",
       "    .dataframe thead th {\n",
       "        text-align: right;\n",
       "    }\n",
       "</style>\n",
       "<table border=\"1\" class=\"dataframe\">\n",
       "  <thead>\n",
       "    <tr style=\"text-align: right;\">\n",
       "      <th></th>\n",
       "      <th>PassengerId</th>\n",
       "      <th>Pclass</th>\n",
       "      <th>Name</th>\n",
       "      <th>Sex</th>\n",
       "      <th>Age</th>\n",
       "      <th>SibSp</th>\n",
       "      <th>Parch</th>\n",
       "      <th>Ticket</th>\n",
       "      <th>Fare</th>\n",
       "      <th>Cabin</th>\n",
       "      <th>Embarked</th>\n",
       "    </tr>\n",
       "  </thead>\n",
       "  <tbody>\n",
       "    <tr>\n",
       "      <th>0</th>\n",
       "      <td>892</td>\n",
       "      <td>3</td>\n",
       "      <td>Kelly, Mr. James</td>\n",
       "      <td>male</td>\n",
       "      <td>34.5</td>\n",
       "      <td>0</td>\n",
       "      <td>0</td>\n",
       "      <td>330911</td>\n",
       "      <td>7.8292</td>\n",
       "      <td>NaN</td>\n",
       "      <td>Q</td>\n",
       "    </tr>\n",
       "    <tr>\n",
       "      <th>1</th>\n",
       "      <td>893</td>\n",
       "      <td>3</td>\n",
       "      <td>Wilkes, Mrs. James (Ellen Needs)</td>\n",
       "      <td>female</td>\n",
       "      <td>47.0</td>\n",
       "      <td>1</td>\n",
       "      <td>0</td>\n",
       "      <td>363272</td>\n",
       "      <td>7.0000</td>\n",
       "      <td>NaN</td>\n",
       "      <td>S</td>\n",
       "    </tr>\n",
       "    <tr>\n",
       "      <th>2</th>\n",
       "      <td>894</td>\n",
       "      <td>2</td>\n",
       "      <td>Myles, Mr. Thomas Francis</td>\n",
       "      <td>male</td>\n",
       "      <td>62.0</td>\n",
       "      <td>0</td>\n",
       "      <td>0</td>\n",
       "      <td>240276</td>\n",
       "      <td>9.6875</td>\n",
       "      <td>NaN</td>\n",
       "      <td>Q</td>\n",
       "    </tr>\n",
       "    <tr>\n",
       "      <th>3</th>\n",
       "      <td>895</td>\n",
       "      <td>3</td>\n",
       "      <td>Wirz, Mr. Albert</td>\n",
       "      <td>male</td>\n",
       "      <td>27.0</td>\n",
       "      <td>0</td>\n",
       "      <td>0</td>\n",
       "      <td>315154</td>\n",
       "      <td>8.6625</td>\n",
       "      <td>NaN</td>\n",
       "      <td>S</td>\n",
       "    </tr>\n",
       "    <tr>\n",
       "      <th>4</th>\n",
       "      <td>896</td>\n",
       "      <td>3</td>\n",
       "      <td>Hirvonen, Mrs. Alexander (Helga E Lindqvist)</td>\n",
       "      <td>female</td>\n",
       "      <td>22.0</td>\n",
       "      <td>1</td>\n",
       "      <td>1</td>\n",
       "      <td>3101298</td>\n",
       "      <td>12.2875</td>\n",
       "      <td>NaN</td>\n",
       "      <td>S</td>\n",
       "    </tr>\n",
       "  </tbody>\n",
       "</table>\n",
       "</div>"
      ],
      "text/plain": [
       "   PassengerId  Pclass                                          Name     Sex  \\\n",
       "0          892       3                              Kelly, Mr. James    male   \n",
       "1          893       3              Wilkes, Mrs. James (Ellen Needs)  female   \n",
       "2          894       2                     Myles, Mr. Thomas Francis    male   \n",
       "3          895       3                              Wirz, Mr. Albert    male   \n",
       "4          896       3  Hirvonen, Mrs. Alexander (Helga E Lindqvist)  female   \n",
       "\n",
       "    Age  SibSp  Parch   Ticket     Fare Cabin Embarked  \n",
       "0  34.5      0      0   330911   7.8292   NaN        Q  \n",
       "1  47.0      1      0   363272   7.0000   NaN        S  \n",
       "2  62.0      0      0   240276   9.6875   NaN        Q  \n",
       "3  27.0      0      0   315154   8.6625   NaN        S  \n",
       "4  22.0      1      1  3101298  12.2875   NaN        S  "
      ]
     },
     "execution_count": 5,
     "metadata": {},
     "output_type": "execute_result"
    }
   ],
   "source": [
    "test_data.head()"
   ]
  },
  {
   "cell_type": "code",
   "execution_count": 6,
   "metadata": {},
   "outputs": [
    {
     "name": "stdout",
     "output_type": "stream",
     "text": [
      "<class 'pandas.core.frame.DataFrame'>\n",
      "RangeIndex: 891 entries, 0 to 890\n",
      "Data columns (total 12 columns):\n",
      "PassengerId    891 non-null int64\n",
      "Survived       891 non-null int64\n",
      "Pclass         891 non-null int64\n",
      "Name           891 non-null object\n",
      "Sex            891 non-null object\n",
      "Age            714 non-null float64\n",
      "SibSp          891 non-null int64\n",
      "Parch          891 non-null int64\n",
      "Ticket         891 non-null object\n",
      "Fare           891 non-null float64\n",
      "Cabin          204 non-null object\n",
      "Embarked       889 non-null object\n",
      "dtypes: float64(2), int64(5), object(5)\n",
      "memory usage: 83.6+ KB\n"
     ]
    }
   ],
   "source": [
    "train_data.info()"
   ]
  },
  {
   "cell_type": "code",
   "execution_count": 7,
   "metadata": {},
   "outputs": [
    {
     "name": "stdout",
     "output_type": "stream",
     "text": [
      "<class 'pandas.core.frame.DataFrame'>\n",
      "RangeIndex: 418 entries, 0 to 417\n",
      "Data columns (total 11 columns):\n",
      "PassengerId    418 non-null int64\n",
      "Pclass         418 non-null int64\n",
      "Name           418 non-null object\n",
      "Sex            418 non-null object\n",
      "Age            332 non-null float64\n",
      "SibSp          418 non-null int64\n",
      "Parch          418 non-null int64\n",
      "Ticket         418 non-null object\n",
      "Fare           417 non-null float64\n",
      "Cabin          91 non-null object\n",
      "Embarked       418 non-null object\n",
      "dtypes: float64(2), int64(4), object(5)\n",
      "memory usage: 36.0+ KB\n"
     ]
    }
   ],
   "source": [
    "test_data.info()"
   ]
  },
  {
   "cell_type": "markdown",
   "metadata": {},
   "source": [
    "-> Columns containing NaN: Age, Cabin, Embarked, Fare"
   ]
  },
  {
   "cell_type": "code",
   "execution_count": 8,
   "metadata": {},
   "outputs": [
    {
     "data": {
      "text/html": [
       "<div>\n",
       "<style scoped>\n",
       "    .dataframe tbody tr th:only-of-type {\n",
       "        vertical-align: middle;\n",
       "    }\n",
       "\n",
       "    .dataframe tbody tr th {\n",
       "        vertical-align: top;\n",
       "    }\n",
       "\n",
       "    .dataframe thead th {\n",
       "        text-align: right;\n",
       "    }\n",
       "</style>\n",
       "<table border=\"1\" class=\"dataframe\">\n",
       "  <thead>\n",
       "    <tr style=\"text-align: right;\">\n",
       "      <th></th>\n",
       "      <th>PassengerId</th>\n",
       "      <th>Survived</th>\n",
       "      <th>Pclass</th>\n",
       "      <th>Age</th>\n",
       "      <th>SibSp</th>\n",
       "      <th>Parch</th>\n",
       "      <th>Fare</th>\n",
       "    </tr>\n",
       "  </thead>\n",
       "  <tbody>\n",
       "    <tr>\n",
       "      <th>count</th>\n",
       "      <td>891.000000</td>\n",
       "      <td>891.000000</td>\n",
       "      <td>891.000000</td>\n",
       "      <td>714.000000</td>\n",
       "      <td>891.000000</td>\n",
       "      <td>891.000000</td>\n",
       "      <td>891.000000</td>\n",
       "    </tr>\n",
       "    <tr>\n",
       "      <th>mean</th>\n",
       "      <td>446.000000</td>\n",
       "      <td>0.383838</td>\n",
       "      <td>2.308642</td>\n",
       "      <td>29.699118</td>\n",
       "      <td>0.523008</td>\n",
       "      <td>0.381594</td>\n",
       "      <td>32.204208</td>\n",
       "    </tr>\n",
       "    <tr>\n",
       "      <th>std</th>\n",
       "      <td>257.353842</td>\n",
       "      <td>0.486592</td>\n",
       "      <td>0.836071</td>\n",
       "      <td>14.526497</td>\n",
       "      <td>1.102743</td>\n",
       "      <td>0.806057</td>\n",
       "      <td>49.693429</td>\n",
       "    </tr>\n",
       "    <tr>\n",
       "      <th>min</th>\n",
       "      <td>1.000000</td>\n",
       "      <td>0.000000</td>\n",
       "      <td>1.000000</td>\n",
       "      <td>0.420000</td>\n",
       "      <td>0.000000</td>\n",
       "      <td>0.000000</td>\n",
       "      <td>0.000000</td>\n",
       "    </tr>\n",
       "    <tr>\n",
       "      <th>25%</th>\n",
       "      <td>223.500000</td>\n",
       "      <td>0.000000</td>\n",
       "      <td>2.000000</td>\n",
       "      <td>20.125000</td>\n",
       "      <td>0.000000</td>\n",
       "      <td>0.000000</td>\n",
       "      <td>7.910400</td>\n",
       "    </tr>\n",
       "    <tr>\n",
       "      <th>50%</th>\n",
       "      <td>446.000000</td>\n",
       "      <td>0.000000</td>\n",
       "      <td>3.000000</td>\n",
       "      <td>28.000000</td>\n",
       "      <td>0.000000</td>\n",
       "      <td>0.000000</td>\n",
       "      <td>14.454200</td>\n",
       "    </tr>\n",
       "    <tr>\n",
       "      <th>75%</th>\n",
       "      <td>668.500000</td>\n",
       "      <td>1.000000</td>\n",
       "      <td>3.000000</td>\n",
       "      <td>38.000000</td>\n",
       "      <td>1.000000</td>\n",
       "      <td>0.000000</td>\n",
       "      <td>31.000000</td>\n",
       "    </tr>\n",
       "    <tr>\n",
       "      <th>max</th>\n",
       "      <td>891.000000</td>\n",
       "      <td>1.000000</td>\n",
       "      <td>3.000000</td>\n",
       "      <td>80.000000</td>\n",
       "      <td>8.000000</td>\n",
       "      <td>6.000000</td>\n",
       "      <td>512.329200</td>\n",
       "    </tr>\n",
       "  </tbody>\n",
       "</table>\n",
       "</div>"
      ],
      "text/plain": [
       "       PassengerId    Survived      Pclass         Age       SibSp  \\\n",
       "count   891.000000  891.000000  891.000000  714.000000  891.000000   \n",
       "mean    446.000000    0.383838    2.308642   29.699118    0.523008   \n",
       "std     257.353842    0.486592    0.836071   14.526497    1.102743   \n",
       "min       1.000000    0.000000    1.000000    0.420000    0.000000   \n",
       "25%     223.500000    0.000000    2.000000   20.125000    0.000000   \n",
       "50%     446.000000    0.000000    3.000000   28.000000    0.000000   \n",
       "75%     668.500000    1.000000    3.000000   38.000000    1.000000   \n",
       "max     891.000000    1.000000    3.000000   80.000000    8.000000   \n",
       "\n",
       "            Parch        Fare  \n",
       "count  891.000000  891.000000  \n",
       "mean     0.381594   32.204208  \n",
       "std      0.806057   49.693429  \n",
       "min      0.000000    0.000000  \n",
       "25%      0.000000    7.910400  \n",
       "50%      0.000000   14.454200  \n",
       "75%      0.000000   31.000000  \n",
       "max      6.000000  512.329200  "
      ]
     },
     "execution_count": 8,
     "metadata": {},
     "output_type": "execute_result"
    }
   ],
   "source": [
    "train_data.describe()"
   ]
  },
  {
   "cell_type": "code",
   "execution_count": 9,
   "metadata": {
    "scrolled": true
   },
   "outputs": [
    {
     "data": {
      "text/html": [
       "<div>\n",
       "<style scoped>\n",
       "    .dataframe tbody tr th:only-of-type {\n",
       "        vertical-align: middle;\n",
       "    }\n",
       "\n",
       "    .dataframe tbody tr th {\n",
       "        vertical-align: top;\n",
       "    }\n",
       "\n",
       "    .dataframe thead th {\n",
       "        text-align: right;\n",
       "    }\n",
       "</style>\n",
       "<table border=\"1\" class=\"dataframe\">\n",
       "  <thead>\n",
       "    <tr style=\"text-align: right;\">\n",
       "      <th></th>\n",
       "      <th>Name</th>\n",
       "      <th>Sex</th>\n",
       "      <th>Ticket</th>\n",
       "      <th>Cabin</th>\n",
       "      <th>Embarked</th>\n",
       "    </tr>\n",
       "  </thead>\n",
       "  <tbody>\n",
       "    <tr>\n",
       "      <th>count</th>\n",
       "      <td>891</td>\n",
       "      <td>891</td>\n",
       "      <td>891</td>\n",
       "      <td>204</td>\n",
       "      <td>889</td>\n",
       "    </tr>\n",
       "    <tr>\n",
       "      <th>unique</th>\n",
       "      <td>891</td>\n",
       "      <td>2</td>\n",
       "      <td>681</td>\n",
       "      <td>147</td>\n",
       "      <td>3</td>\n",
       "    </tr>\n",
       "    <tr>\n",
       "      <th>top</th>\n",
       "      <td>Danbom, Mr. Ernst Gilbert</td>\n",
       "      <td>male</td>\n",
       "      <td>CA. 2343</td>\n",
       "      <td>G6</td>\n",
       "      <td>S</td>\n",
       "    </tr>\n",
       "    <tr>\n",
       "      <th>freq</th>\n",
       "      <td>1</td>\n",
       "      <td>577</td>\n",
       "      <td>7</td>\n",
       "      <td>4</td>\n",
       "      <td>644</td>\n",
       "    </tr>\n",
       "  </tbody>\n",
       "</table>\n",
       "</div>"
      ],
      "text/plain": [
       "                             Name   Sex    Ticket Cabin Embarked\n",
       "count                         891   891       891   204      889\n",
       "unique                        891     2       681   147        3\n",
       "top     Danbom, Mr. Ernst Gilbert  male  CA. 2343    G6        S\n",
       "freq                            1   577         7     4      644"
      ]
     },
     "execution_count": 9,
     "metadata": {},
     "output_type": "execute_result"
    }
   ],
   "source": [
    "train_data.describe(include=['O'])"
   ]
  },
  {
   "cell_type": "markdown",
   "metadata": {},
   "source": [
    "-> Names are unique, Sex is binary, duplicate values for Tickets and Cabin"
   ]
  },
  {
   "cell_type": "markdown",
   "metadata": {},
   "source": [
    "Look for NaN, zeros, typos, other possible classes at test time:"
   ]
  },
  {
   "cell_type": "code",
   "execution_count": 10,
   "metadata": {
    "scrolled": false
   },
   "outputs": [
    {
     "name": "stdout",
     "output_type": "stream",
     "text": [
      "\n",
      "---------------\n",
      "training set\n",
      "---------------\n",
      "\n",
      "Values/Ranges:\n",
      "  Pclass:  [1, 2, 3]\n",
      "  Sex:     ['male' 'female']\n",
      "  SibSp:   [0, 1, 2, 3, 4, 5, 8]\n",
      "  Parch:   [0, 1, 2, 3, 4, 5, 6]\n",
      "  PassengerId:[1,891]\n",
      "  Age:     [0.42,80.0]\n",
      "  Fare:    [0.0,512.3292]\n",
      "  Embarked:['S' 'C' 'Q' nan]\n",
      "\n",
      "NaN counts:\n",
      "  Age: 177\n",
      "  Cabin: 687\n",
      "  Embarked: 2\n",
      "  No NaN in other columns\n",
      "\n",
      "Zero counts:\n",
      "  Age:   0\n",
      "  Ticket:0\n",
      "  Fare:  15\n",
      "\n",
      "---------------\n",
      "test set\n",
      "---------------\n",
      "\n",
      "Values/Ranges:\n",
      "  Pclass:  [1, 2, 3]\n",
      "  Sex:     ['male' 'female']\n",
      "  SibSp:   [0, 1, 2, 3, 4, 5, 8]\n",
      "  Parch:   [0, 1, 2, 3, 4, 5, 6, 9]\n",
      "  PassengerId:[892,1309]\n",
      "  Age:     [0.17,76.0]\n",
      "  Fare:    [0.0,512.3292]\n",
      "  Embarked:['Q' 'S' 'C']\n",
      "\n",
      "NaN counts:\n",
      "  Age: 86\n",
      "  Fare: 1\n",
      "  Cabin: 327\n",
      "  No NaN in other columns\n",
      "\n",
      "Zero counts:\n",
      "  Age:   0\n",
      "  Ticket:0\n",
      "  Fare:  2\n"
     ]
    }
   ],
   "source": [
    "for set_name, data in [('training set', train_data), ('test set',test_data)]:\n",
    "    print('\\n' + '-'*15)\n",
    "    print(set_name)\n",
    "    print('-'*15)\n",
    "    print('\\nValues/Ranges:')\n",
    "    print('  Pclass:  {}'.format(sorted(data.Pclass.unique())))\n",
    "    print('  Sex:     {}'.format(data.Sex.unique()))\n",
    "    print('  SibSp:   {}'.format(sorted(data.SibSp.unique())))\n",
    "    print('  Parch:   {}'.format(sorted(data.Parch.unique())))\n",
    "    print('  PassengerId:[{},{}]'.format(data.PassengerId.min(), data.PassengerId.max()))\n",
    "    print('  Age:     [{},{}]'.format(data.Age.min(), data.Age.max()))\n",
    "    print('  Fare:    [{},{}]'.format(data.Fare.min(), data.Fare.max()))\n",
    "    print('  Embarked:{}'.format(data.Embarked.unique()))\n",
    "    # print('Name :  {}'.format(data.Name.unique()))\n",
    "    # print('Ticket :{}'.format(data.Ticket.unique()))\n",
    "    # print('Cabin :{}'.format(data.Cabin.unique()))\n",
    "    print('\\nNaN counts:')\n",
    "    for column_name in list(data.columns):\n",
    "        nan_count = data[column_name].isna().sum()\n",
    "        if nan_count != 0:\n",
    "            print('  {}: {}'.format(column_name, nan_count))\n",
    "    print('  No NaN in other columns')\n",
    "    \n",
    "    print('\\nZero counts:')\n",
    "    print('  Age:   {}'.format((data.Age == 0).sum()))\n",
    "    print('  Ticket:{}'.format((data.Ticket == 0).sum()))\n",
    "    print('  Fare:  {}'.format((data.Fare == 0).sum()))"
   ]
  },
  {
   "cell_type": "code",
   "execution_count": 11,
   "metadata": {},
   "outputs": [
    {
     "data": {
      "image/png": "[encoded data removed]",
      "text/plain": [
       "<Figure size 432x288 with 1 Axes>"
      ]
     },
     "metadata": {},
     "output_type": "display_data"
    }
   ],
   "source": [
    "sns.countplot(train_data.Pclass.fillna(value='missing'));"
   ]
  },
  {
   "cell_type": "code",
   "execution_count": 12,
   "metadata": {},
   "outputs": [
    {
     "data": {
      "image/png": "[encoded data removed]",
      "text/plain": [
       "<Figure size 432x288 with 1 Axes>"
      ]
     },
     "metadata": {},
     "output_type": "display_data"
    }
   ],
   "source": [
    "sns.countplot(train_data.Sex.fillna(value='missing'));"
   ]
  },
  {
   "cell_type": "code",
   "execution_count": 13,
   "metadata": {},
   "outputs": [
    {
     "name": "stderr",
     "output_type": "stream",
     "text": [
      "/home/diego/anaconda3/lib/python3.6/site-packages/matplotlib/axes/_axes.py:6462: UserWarning: The 'normed' kwarg is deprecated, and has been replaced by the 'density' kwarg.\n",
      "  warnings.warn(\"The 'normed' kwarg is deprecated, and has been \"\n"
     ]
    },
    {
     "data": {
      "image/png": "[encoded data removed]",
      "text/plain": [
       "<Figure size 432x288 with 1 Axes>"
      ]
     },
     "metadata": {},
     "output_type": "display_data"
    }
   ],
   "source": [
    "sns.distplot(train_data.Age.fillna(value=200), kde=False);\n",
    "plt.xlim([0, None]);"
   ]
  },
  {
   "cell_type": "code",
   "execution_count": 14,
   "metadata": {},
   "outputs": [
    {
     "data": {
      "image/png": "[encoded data removed]",
      "text/plain": [
       "<Figure size 432x288 with 1 Axes>"
      ]
     },
     "metadata": {},
     "output_type": "display_data"
    }
   ],
   "source": [
    "sns.countplot(train_data.SibSp.fillna(value='missing'));"
   ]
  },
  {
   "cell_type": "code",
   "execution_count": 15,
   "metadata": {},
   "outputs": [
    {
     "data": {
      "image/png": "[encoded data removed]",
      "text/plain": [
       "<Figure size 432x288 with 1 Axes>"
      ]
     },
     "metadata": {},
     "output_type": "display_data"
    }
   ],
   "source": [
    "sns.countplot(train_data.Parch.fillna(value='missing'));"
   ]
  },
  {
   "cell_type": "code",
   "execution_count": 16,
   "metadata": {},
   "outputs": [
    {
     "name": "stderr",
     "output_type": "stream",
     "text": [
      "/home/diego/anaconda3/lib/python3.6/site-packages/matplotlib/axes/_axes.py:6462: UserWarning: The 'normed' kwarg is deprecated, and has been replaced by the 'density' kwarg.\n",
      "  warnings.warn(\"The 'normed' kwarg is deprecated, and has been \"\n"
     ]
    },
    {
     "data": {
      "image/png": "[encoded data removed]",
      "text/plain": [
       "<Figure size 432x288 with 1 Axes>"
      ]
     },
     "metadata": {},
     "output_type": "display_data"
    }
   ],
   "source": [
    "sns.distplot(train_data.Fare.fillna(value=600), kde=False);\n",
    "plt.xlim([0, None]);"
   ]
  },
  {
   "cell_type": "code",
   "execution_count": 17,
   "metadata": {},
   "outputs": [
    {
     "data": {
      "image/png": "[encoded data removed]",
      "text/plain": [
       "<Figure size 1152x720 with 1 Axes>"
      ]
     },
     "metadata": {},
     "output_type": "display_data"
    }
   ],
   "source": [
    "plt.figure(figsize=(16,10))\n",
    "# sns.countplot(X_train.Cabin.fillna(value='missing'))\n",
    "sns.countplot(train_data.Cabin)\n",
    "plt.xticks(rotation=-45);"
   ]
  },
  {
   "cell_type": "code",
   "execution_count": 18,
   "metadata": {},
   "outputs": [
    {
     "data": {
      "image/png": "[encoded data removed]",
      "text/plain": [
       "<Figure size 432x288 with 1 Axes>"
      ]
     },
     "metadata": {},
     "output_type": "display_data"
    }
   ],
   "source": [
    "sns.countplot(train_data.Embarked.fillna(value='missing'));"
   ]
  },
  {
   "cell_type": "markdown",
   "metadata": {},
   "source": [
    "### Correlations of single features to target variable"
   ]
  },
  {
   "cell_type": "code",
   "execution_count": 19,
   "metadata": {},
   "outputs": [
    {
     "data": {
      "text/html": [
       "<div>\n",
       "<style scoped>\n",
       "    .dataframe tbody tr th:only-of-type {\n",
       "        vertical-align: middle;\n",
       "    }\n",
       "\n",
       "    .dataframe tbody tr th {\n",
       "        vertical-align: top;\n",
       "    }\n",
       "\n",
       "    .dataframe thead th {\n",
       "        text-align: right;\n",
       "    }\n",
       "</style>\n",
       "<table border=\"1\" class=\"dataframe\">\n",
       "  <thead>\n",
       "    <tr style=\"text-align: right;\">\n",
       "      <th></th>\n",
       "      <th>Pclass</th>\n",
       "      <th>Survived</th>\n",
       "    </tr>\n",
       "  </thead>\n",
       "  <tbody>\n",
       "    <tr>\n",
       "      <th>0</th>\n",
       "      <td>1</td>\n",
       "      <td>0.629630</td>\n",
       "    </tr>\n",
       "    <tr>\n",
       "      <th>1</th>\n",
       "      <td>2</td>\n",
       "      <td>0.472826</td>\n",
       "    </tr>\n",
       "    <tr>\n",
       "      <th>2</th>\n",
       "      <td>3</td>\n",
       "      <td>0.242363</td>\n",
       "    </tr>\n",
       "  </tbody>\n",
       "</table>\n",
       "</div>"
      ],
      "text/plain": [
       "   Pclass  Survived\n",
       "0       1  0.629630\n",
       "1       2  0.472826\n",
       "2       3  0.242363"
      ]
     },
     "execution_count": 19,
     "metadata": {},
     "output_type": "execute_result"
    }
   ],
   "source": [
    "train_data[['Pclass', 'Survived']].groupby(['Pclass'], as_index=False).mean()"
   ]
  },
  {
   "cell_type": "code",
   "execution_count": 20,
   "metadata": {},
   "outputs": [
    {
     "data": {
      "text/html": [
       "<div>\n",
       "<style scoped>\n",
       "    .dataframe tbody tr th:only-of-type {\n",
       "        vertical-align: middle;\n",
       "    }\n",
       "\n",
       "    .dataframe tbody tr th {\n",
       "        vertical-align: top;\n",
       "    }\n",
       "\n",
       "    .dataframe thead th {\n",
       "        text-align: right;\n",
       "    }\n",
       "</style>\n",
       "<table border=\"1\" class=\"dataframe\">\n",
       "  <thead>\n",
       "    <tr style=\"text-align: right;\">\n",
       "      <th></th>\n",
       "      <th>Sex</th>\n",
       "      <th>Survived</th>\n",
       "    </tr>\n",
       "  </thead>\n",
       "  <tbody>\n",
       "    <tr>\n",
       "      <th>0</th>\n",
       "      <td>female</td>\n",
       "      <td>0.742038</td>\n",
       "    </tr>\n",
       "    <tr>\n",
       "      <th>1</th>\n",
       "      <td>male</td>\n",
       "      <td>0.188908</td>\n",
       "    </tr>\n",
       "  </tbody>\n",
       "</table>\n",
       "</div>"
      ],
      "text/plain": [
       "      Sex  Survived\n",
       "0  female  0.742038\n",
       "1    male  0.188908"
      ]
     },
     "execution_count": 20,
     "metadata": {},
     "output_type": "execute_result"
    }
   ],
   "source": [
    "train_data[['Sex', 'Survived']].groupby(['Sex'], as_index=False).mean().sort_values(by='Survived', ascending=False)\n"
   ]
  },
  {
   "cell_type": "code",
   "execution_count": 21,
   "metadata": {},
   "outputs": [
    {
     "data": {
      "text/html": [
       "<div>\n",
       "<style scoped>\n",
       "    .dataframe tbody tr th:only-of-type {\n",
       "        vertical-align: middle;\n",
       "    }\n",
       "\n",
       "    .dataframe tbody tr th {\n",
       "        vertical-align: top;\n",
       "    }\n",
       "\n",
       "    .dataframe thead th {\n",
       "        text-align: right;\n",
       "    }\n",
       "</style>\n",
       "<table border=\"1\" class=\"dataframe\">\n",
       "  <thead>\n",
       "    <tr style=\"text-align: right;\">\n",
       "      <th></th>\n",
       "      <th>Embarked</th>\n",
       "      <th>Survived</th>\n",
       "    </tr>\n",
       "  </thead>\n",
       "  <tbody>\n",
       "    <tr>\n",
       "      <th>0</th>\n",
       "      <td>C</td>\n",
       "      <td>0.553571</td>\n",
       "    </tr>\n",
       "    <tr>\n",
       "      <th>1</th>\n",
       "      <td>Q</td>\n",
       "      <td>0.389610</td>\n",
       "    </tr>\n",
       "    <tr>\n",
       "      <th>2</th>\n",
       "      <td>S</td>\n",
       "      <td>0.336957</td>\n",
       "    </tr>\n",
       "  </tbody>\n",
       "</table>\n",
       "</div>"
      ],
      "text/plain": [
       "  Embarked  Survived\n",
       "0        C  0.553571\n",
       "1        Q  0.389610\n",
       "2        S  0.336957"
      ]
     },
     "execution_count": 21,
     "metadata": {},
     "output_type": "execute_result"
    }
   ],
   "source": [
    "train_data[['Embarked', 'Survived']].groupby(['Embarked'], as_index=False).mean().sort_values(by='Survived', ascending=False)\n"
   ]
  },
  {
   "cell_type": "code",
   "execution_count": 22,
   "metadata": {},
   "outputs": [
    {
     "data": {
      "text/html": [
       "<div>\n",
       "<style scoped>\n",
       "    .dataframe tbody tr th:only-of-type {\n",
       "        vertical-align: middle;\n",
       "    }\n",
       "\n",
       "    .dataframe tbody tr th {\n",
       "        vertical-align: top;\n",
       "    }\n",
       "\n",
       "    .dataframe thead th {\n",
       "        text-align: right;\n",
       "    }\n",
       "</style>\n",
       "<table border=\"1\" class=\"dataframe\">\n",
       "  <thead>\n",
       "    <tr style=\"text-align: right;\">\n",
       "      <th></th>\n",
       "      <th>SibSp</th>\n",
       "      <th>Survived</th>\n",
       "    </tr>\n",
       "  </thead>\n",
       "  <tbody>\n",
       "    <tr>\n",
       "      <th>1</th>\n",
       "      <td>1</td>\n",
       "      <td>0.535885</td>\n",
       "    </tr>\n",
       "    <tr>\n",
       "      <th>2</th>\n",
       "      <td>2</td>\n",
       "      <td>0.464286</td>\n",
       "    </tr>\n",
       "    <tr>\n",
       "      <th>0</th>\n",
       "      <td>0</td>\n",
       "      <td>0.345395</td>\n",
       "    </tr>\n",
       "    <tr>\n",
       "      <th>3</th>\n",
       "      <td>3</td>\n",
       "      <td>0.250000</td>\n",
       "    </tr>\n",
       "    <tr>\n",
       "      <th>4</th>\n",
       "      <td>4</td>\n",
       "      <td>0.166667</td>\n",
       "    </tr>\n",
       "    <tr>\n",
       "      <th>5</th>\n",
       "      <td>5</td>\n",
       "      <td>0.000000</td>\n",
       "    </tr>\n",
       "    <tr>\n",
       "      <th>6</th>\n",
       "      <td>8</td>\n",
       "      <td>0.000000</td>\n",
       "    </tr>\n",
       "  </tbody>\n",
       "</table>\n",
       "</div>"
      ],
      "text/plain": [
       "   SibSp  Survived\n",
       "1      1  0.535885\n",
       "2      2  0.464286\n",
       "0      0  0.345395\n",
       "3      3  0.250000\n",
       "4      4  0.166667\n",
       "5      5  0.000000\n",
       "6      8  0.000000"
      ]
     },
     "execution_count": 22,
     "metadata": {},
     "output_type": "execute_result"
    }
   ],
   "source": [
    "train_data[[\"SibSp\", \"Survived\"]].groupby(['SibSp'], as_index=False).mean().sort_values(by='Survived', ascending=False)"
   ]
  },
  {
   "cell_type": "code",
   "execution_count": 23,
   "metadata": {},
   "outputs": [
    {
     "data": {
      "text/html": [
       "<div>\n",
       "<style scoped>\n",
       "    .dataframe tbody tr th:only-of-type {\n",
       "        vertical-align: middle;\n",
       "    }\n",
       "\n",
       "    .dataframe tbody tr th {\n",
       "        vertical-align: top;\n",
       "    }\n",
       "\n",
       "    .dataframe thead th {\n",
       "        text-align: right;\n",
       "    }\n",
       "</style>\n",
       "<table border=\"1\" class=\"dataframe\">\n",
       "  <thead>\n",
       "    <tr style=\"text-align: right;\">\n",
       "      <th></th>\n",
       "      <th>Parch</th>\n",
       "      <th>Survived</th>\n",
       "    </tr>\n",
       "  </thead>\n",
       "  <tbody>\n",
       "    <tr>\n",
       "      <th>3</th>\n",
       "      <td>3</td>\n",
       "      <td>0.600000</td>\n",
       "    </tr>\n",
       "    <tr>\n",
       "      <th>1</th>\n",
       "      <td>1</td>\n",
       "      <td>0.550847</td>\n",
       "    </tr>\n",
       "    <tr>\n",
       "      <th>2</th>\n",
       "      <td>2</td>\n",
       "      <td>0.500000</td>\n",
       "    </tr>\n",
       "    <tr>\n",
       "      <th>0</th>\n",
       "      <td>0</td>\n",
       "      <td>0.343658</td>\n",
       "    </tr>\n",
       "    <tr>\n",
       "      <th>5</th>\n",
       "      <td>5</td>\n",
       "      <td>0.200000</td>\n",
       "    </tr>\n",
       "    <tr>\n",
       "      <th>4</th>\n",
       "      <td>4</td>\n",
       "      <td>0.000000</td>\n",
       "    </tr>\n",
       "    <tr>\n",
       "      <th>6</th>\n",
       "      <td>6</td>\n",
       "      <td>0.000000</td>\n",
       "    </tr>\n",
       "  </tbody>\n",
       "</table>\n",
       "</div>"
      ],
      "text/plain": [
       "   Parch  Survived\n",
       "3      3  0.600000\n",
       "1      1  0.550847\n",
       "2      2  0.500000\n",
       "0      0  0.343658\n",
       "5      5  0.200000\n",
       "4      4  0.000000\n",
       "6      6  0.000000"
      ]
     },
     "execution_count": 23,
     "metadata": {},
     "output_type": "execute_result"
    }
   ],
   "source": [
    "train_data[[\"Parch\", \"Survived\"]].groupby(['Parch'], as_index=False).mean().sort_values(by='Survived', ascending=False)"
   ]
  },
  {
   "cell_type": "code",
   "execution_count": 24,
   "metadata": {},
   "outputs": [
    {
     "data": {
      "text/plain": [
       "<seaborn.axisgrid.FacetGrid at 0x7f6001000b70>"
      ]
     },
     "execution_count": 24,
     "metadata": {},
     "output_type": "execute_result"
    },
    {
     "data": {
      "image/png": "[encoded data removed]",
      "text/plain": [
       "<Figure size 934.5x288 with 3 Axes>"
      ]
     },
     "metadata": {},
     "output_type": "display_data"
    }
   ],
   "source": [
    "sns.factorplot(x='Pclass',\n",
    "               y='Survived',\n",
    "               hue='Sex', col='Embarked', data=train_data,\n",
    "               kind='point')"
   ]
  },
  {
   "cell_type": "code",
   "execution_count": 25,
   "metadata": {
    "scrolled": false
   },
   "outputs": [
    {
     "data": {
      "image/png": "[encoded data removed]",
      "text/plain": [
       "<Figure size 576x864 with 6 Axes>"
      ]
     },
     "metadata": {},
     "output_type": "display_data"
    }
   ],
   "source": [
    "sns.factorplot(x='Sex',\n",
    "               y='Fare',\n",
    "#                hue='Sex',\n",
    "               row= 'Embarked',\n",
    "               col='Survived', data=train_data,\n",
    "               kind='bar');"
   ]
  },
  {
   "cell_type": "code",
   "execution_count": 26,
   "metadata": {},
   "outputs": [
    {
     "data": {
      "image/png": "[encoded data removed]",
      "text/plain": [
       "<Figure size 432x288 with 2 Axes>"
      ]
     },
     "metadata": {},
     "output_type": "display_data"
    }
   ],
   "source": [
    "corr = train_data.select_dtypes(include='number').corr()\n",
    "sns.heatmap(corr, center=0, cmap='coolwarm');"
   ]
  },
  {
   "cell_type": "code",
   "execution_count": 27,
   "metadata": {},
   "outputs": [
    {
     "data": {
      "text/plain": [
       "<Figure size 360x144 with 0 Axes>"
      ]
     },
     "metadata": {},
     "output_type": "display_data"
    },
    {
     "data": {
      "image/png": "[encoded data removed]",
      "text/plain": [
       "<Figure size 915.875x288 with 3 Axes>"
      ]
     },
     "metadata": {},
     "output_type": "display_data"
    }
   ],
   "source": [
    "plt.figure(figsize=(5,2));\n",
    "sns.factorplot(x='Sex', y='Age',\n",
    "               hue='Survived', col='Pclass', data=train_data,\n",
    "               kind='swarm', dodge=True);"
   ]
  },
  {
   "cell_type": "code",
   "execution_count": 28,
   "metadata": {},
   "outputs": [
    {
     "data": {
      "image/png": "[encoded data removed]",
      "text/plain": [
       "<Figure size 627.875x288 with 2 Axes>"
      ]
     },
     "metadata": {},
     "output_type": "display_data"
    }
   ],
   "source": [
    "sns.factorplot(x='Pclass',\n",
    "               y='Age',\n",
    "               hue='Survived', col='Sex', data=train_data,\n",
    "               kind='swarm', dodge=True);"
   ]
  },
  {
   "cell_type": "code",
   "execution_count": 29,
   "metadata": {},
   "outputs": [
    {
     "data": {
      "image/png": "[encoded data removed]",
      "text/plain": [
       "<Figure size 432x288 with 1 Axes>"
      ]
     },
     "metadata": {},
     "output_type": "display_data"
    }
   ],
   "source": [
    "sns.barplot(x='Sex', y='Survived', hue='Pclass', data=train_data);"
   ]
  },
  {
   "cell_type": "code",
   "execution_count": 30,
   "metadata": {},
   "outputs": [
    {
     "data": {
      "image/png": "[encoded data removed]",
      "text/plain": [
       "<Figure size 432x288 with 1 Axes>"
      ]
     },
     "metadata": {},
     "output_type": "display_data"
    }
   ],
   "source": [
    "sns.countplot(x='Sex', hue='Survived', data=train_data);"
   ]
  },
  {
   "cell_type": "code",
   "execution_count": 31,
   "metadata": {
    "scrolled": true
   },
   "outputs": [
    {
     "data": {
      "text/plain": [
       "<Figure size 360x144 with 0 Axes>"
      ]
     },
     "metadata": {},
     "output_type": "display_data"
    },
    {
     "data": {
      "image/png": "[encoded data removed]",
      "text/plain": [
       "<Figure size 915.875x288 with 3 Axes>"
      ]
     },
     "metadata": {},
     "output_type": "display_data"
    }
   ],
   "source": [
    "plt.figure(figsize=(5,2))\n",
    "sns.factorplot(x='Sex', y='Age',\n",
    "               hue='Survived', col='Pclass', data=train_data,\n",
    "               kind='violin', split=True,\n",
    "               palette=['#C03028', '#78C850']);"
   ]
  },
  {
   "cell_type": "code",
   "execution_count": 32,
   "metadata": {},
   "outputs": [
    {
     "data": {
      "image/png": "[encoded data removed]",
      "text/plain": [
       "<Figure size 432x288 with 1 Axes>"
      ]
     },
     "metadata": {},
     "output_type": "display_data"
    }
   ],
   "source": [
    "#SibSp, Parch\n",
    "sns.barplot(x='SibSp', y='Survived', data=train_data);"
   ]
  },
  {
   "cell_type": "code",
   "execution_count": 33,
   "metadata": {},
   "outputs": [
    {
     "data": {
      "image/png": "[encoded data removed]",
      "text/plain": [
       "<Figure size 432x288 with 1 Axes>"
      ]
     },
     "metadata": {},
     "output_type": "display_data"
    }
   ],
   "source": [
    "sns.swarmplot(x='SibSp', y='Age',\n",
    "               hue='Survived', data=train_data, dodge=True);"
   ]
  },
  {
   "cell_type": "code",
   "execution_count": 34,
   "metadata": {},
   "outputs": [
    {
     "data": {
      "text/plain": [
       "<matplotlib.axes._subplots.AxesSubplot at 0x7f60009ffbe0>"
      ]
     },
     "execution_count": 34,
     "metadata": {},
     "output_type": "execute_result"
    },
    {
     "data": {
      "image/png": "[encoded data removed]",
      "text/plain": [
       "<Figure size 432x288 with 1 Axes>"
      ]
     },
     "metadata": {},
     "output_type": "display_data"
    }
   ],
   "source": [
    "#SibSp, Parch\n",
    "sns.barplot(x='SibSp', y='Survived', data=train_data)"
   ]
  },
  {
   "cell_type": "code",
   "execution_count": 35,
   "metadata": {},
   "outputs": [
    {
     "data": {
      "text/plain": [
       "<matplotlib.axes._subplots.AxesSubplot at 0x7f6001139160>"
      ]
     },
     "execution_count": 35,
     "metadata": {},
     "output_type": "execute_result"
    },
    {
     "data": {
      "image/png": "[encoded data removed]",
      "text/plain": [
       "<Figure size 432x288 with 1 Axes>"
      ]
     },
     "metadata": {},
     "output_type": "display_data"
    }
   ],
   "source": [
    "sns.swarmplot(x='Parch', y='Age',\n",
    "               hue='Survived', data=train_data, dodge=True)"
   ]
  },
  {
   "cell_type": "code",
   "execution_count": 36,
   "metadata": {},
   "outputs": [
    {
     "data": {
      "image/png": "[encoded data removed]",
      "text/plain": [
       "<Figure size 432x288 with 1 Axes>"
      ]
     },
     "metadata": {},
     "output_type": "display_data"
    }
   ],
   "source": [
    "sns.barplot(x='Embarked', y='Survived', data=train_data, dodge=True);"
   ]
  },
  {
   "cell_type": "code",
   "execution_count": 37,
   "metadata": {},
   "outputs": [
    {
     "data": {
      "image/png": "[encoded data removed]",
      "text/plain": [
       "<Figure size 432x288 with 1 Axes>"
      ]
     },
     "metadata": {},
     "output_type": "display_data"
    }
   ],
   "source": [
    "sns.barplot(x='Embarked', y='Survived', hue='Sex',data=train_data, dodge=True);"
   ]
  },
  {
   "cell_type": "markdown",
   "metadata": {},
   "source": [
    "## 4. Data cleaning"
   ]
  },
  {
   "cell_type": "code",
   "execution_count": 38,
   "metadata": {},
   "outputs": [],
   "source": [
    "## drop non-correlated features \n",
    "train_df = train_data.drop(['PassengerId'], axis=1)\n",
    "test_df = test_data.copy() # keep PassengerId for now, for submission\n",
    "data_dfs = [train_df, test_df]"
   ]
  },
  {
   "cell_type": "code",
   "execution_count": 39,
   "metadata": {},
   "outputs": [
    {
     "data": {
      "text/html": [
       "<div>\n",
       "<style scoped>\n",
       "    .dataframe tbody tr th:only-of-type {\n",
       "        vertical-align: middle;\n",
       "    }\n",
       "\n",
       "    .dataframe tbody tr th {\n",
       "        vertical-align: top;\n",
       "    }\n",
       "\n",
       "    .dataframe thead th {\n",
       "        text-align: right;\n",
       "    }\n",
       "</style>\n",
       "<table border=\"1\" class=\"dataframe\">\n",
       "  <thead>\n",
       "    <tr style=\"text-align: right;\">\n",
       "      <th></th>\n",
       "      <th>PassengerId</th>\n",
       "      <th>Survived</th>\n",
       "      <th>Pclass</th>\n",
       "      <th>Name</th>\n",
       "      <th>Sex</th>\n",
       "      <th>Age</th>\n",
       "      <th>SibSp</th>\n",
       "      <th>Parch</th>\n",
       "      <th>Ticket</th>\n",
       "      <th>Fare</th>\n",
       "      <th>Cabin</th>\n",
       "      <th>Embarked</th>\n",
       "    </tr>\n",
       "  </thead>\n",
       "  <tbody>\n",
       "    <tr>\n",
       "      <th>0</th>\n",
       "      <td>1</td>\n",
       "      <td>0</td>\n",
       "      <td>3</td>\n",
       "      <td>Braund, Mr. Owen Harris</td>\n",
       "      <td>male</td>\n",
       "      <td>22.0</td>\n",
       "      <td>1</td>\n",
       "      <td>0</td>\n",
       "      <td>A/5 21171</td>\n",
       "      <td>7.2500</td>\n",
       "      <td>NaN</td>\n",
       "      <td>S</td>\n",
       "    </tr>\n",
       "    <tr>\n",
       "      <th>1</th>\n",
       "      <td>2</td>\n",
       "      <td>1</td>\n",
       "      <td>1</td>\n",
       "      <td>Cumings, Mrs. John Bradley (Florence Briggs Th...</td>\n",
       "      <td>female</td>\n",
       "      <td>38.0</td>\n",
       "      <td>1</td>\n",
       "      <td>0</td>\n",
       "      <td>PC 17599</td>\n",
       "      <td>71.2833</td>\n",
       "      <td>C85</td>\n",
       "      <td>C</td>\n",
       "    </tr>\n",
       "    <tr>\n",
       "      <th>2</th>\n",
       "      <td>3</td>\n",
       "      <td>1</td>\n",
       "      <td>3</td>\n",
       "      <td>Heikkinen, Miss. Laina</td>\n",
       "      <td>female</td>\n",
       "      <td>26.0</td>\n",
       "      <td>0</td>\n",
       "      <td>0</td>\n",
       "      <td>STON/O2. 3101282</td>\n",
       "      <td>7.9250</td>\n",
       "      <td>NaN</td>\n",
       "      <td>S</td>\n",
       "    </tr>\n",
       "    <tr>\n",
       "      <th>3</th>\n",
       "      <td>4</td>\n",
       "      <td>1</td>\n",
       "      <td>1</td>\n",
       "      <td>Futrelle, Mrs. Jacques Heath (Lily May Peel)</td>\n",
       "      <td>female</td>\n",
       "      <td>35.0</td>\n",
       "      <td>1</td>\n",
       "      <td>0</td>\n",
       "      <td>113803</td>\n",
       "      <td>53.1000</td>\n",
       "      <td>C123</td>\n",
       "      <td>S</td>\n",
       "    </tr>\n",
       "    <tr>\n",
       "      <th>4</th>\n",
       "      <td>5</td>\n",
       "      <td>0</td>\n",
       "      <td>3</td>\n",
       "      <td>Allen, Mr. William Henry</td>\n",
       "      <td>male</td>\n",
       "      <td>35.0</td>\n",
       "      <td>0</td>\n",
       "      <td>0</td>\n",
       "      <td>373450</td>\n",
       "      <td>8.0500</td>\n",
       "      <td>NaN</td>\n",
       "      <td>S</td>\n",
       "    </tr>\n",
       "  </tbody>\n",
       "</table>\n",
       "</div>"
      ],
      "text/plain": [
       "   PassengerId  Survived  Pclass  \\\n",
       "0            1         0       3   \n",
       "1            2         1       1   \n",
       "2            3         1       3   \n",
       "3            4         1       1   \n",
       "4            5         0       3   \n",
       "\n",
       "                                                Name     Sex   Age  SibSp  \\\n",
       "0                            Braund, Mr. Owen Harris    male  22.0      1   \n",
       "1  Cumings, Mrs. John Bradley (Florence Briggs Th...  female  38.0      1   \n",
       "2                             Heikkinen, Miss. Laina  female  26.0      0   \n",
       "3       Futrelle, Mrs. Jacques Heath (Lily May Peel)  female  35.0      1   \n",
       "4                           Allen, Mr. William Henry    male  35.0      0   \n",
       "\n",
       "   Parch            Ticket     Fare Cabin Embarked  \n",
       "0      0         A/5 21171   7.2500   NaN        S  \n",
       "1      0          PC 17599  71.2833   C85        C  \n",
       "2      0  STON/O2. 3101282   7.9250   NaN        S  \n",
       "3      0            113803  53.1000  C123        S  \n",
       "4      0            373450   8.0500   NaN        S  "
      ]
     },
     "execution_count": 39,
     "metadata": {},
     "output_type": "execute_result"
    }
   ],
   "source": [
    "train_data.head()"
   ]
  },
  {
   "cell_type": "code",
   "execution_count": 40,
   "metadata": {},
   "outputs": [
    {
     "name": "stdout",
     "output_type": "stream",
     "text": [
      "<class 'pandas.core.frame.DataFrame'>\n",
      "RangeIndex: 891 entries, 0 to 890\n",
      "Data columns (total 11 columns):\n",
      "Survived    891 non-null int64\n",
      "Pclass      891 non-null int64\n",
      "Name        891 non-null object\n",
      "Sex         891 non-null object\n",
      "Age         714 non-null float64\n",
      "SibSp       891 non-null int64\n",
      "Parch       891 non-null int64\n",
      "Ticket      891 non-null object\n",
      "Fare        891 non-null float64\n",
      "Cabin       204 non-null object\n",
      "Embarked    889 non-null object\n",
      "dtypes: float64(2), int64(4), object(5)\n",
      "memory usage: 76.6+ KB\n"
     ]
    }
   ],
   "source": [
    "train_df.info()"
   ]
  },
  {
   "cell_type": "code",
   "execution_count": 41,
   "metadata": {},
   "outputs": [
    {
     "name": "stdout",
     "output_type": "stream",
     "text": [
      "<class 'pandas.core.frame.DataFrame'>\n",
      "RangeIndex: 418 entries, 0 to 417\n",
      "Data columns (total 11 columns):\n",
      "PassengerId    418 non-null int64\n",
      "Pclass         418 non-null int64\n",
      "Name           418 non-null object\n",
      "Sex            418 non-null object\n",
      "Age            332 non-null float64\n",
      "SibSp          418 non-null int64\n",
      "Parch          418 non-null int64\n",
      "Ticket         418 non-null object\n",
      "Fare           417 non-null float64\n",
      "Cabin          91 non-null object\n",
      "Embarked       418 non-null object\n",
      "dtypes: float64(2), int64(4), object(5)\n",
      "memory usage: 36.0+ KB\n"
     ]
    }
   ],
   "source": [
    "test_df.info()"
   ]
  },
  {
   "cell_type": "code",
   "execution_count": 42,
   "metadata": {},
   "outputs": [],
   "source": [
    "# remove NaN: Age, Cabin, Embarked\n",
    "for df in data_dfs:\n",
    "    df['AgeMissing'] = df.Age.isna().astype(int)\n",
    "    df.Age.fillna(value=0, inplace=True)\n",
    "#     df.Age= df.Age.fillna(data.Age.median(), inplace=True)\n",
    "    df.Fare.fillna(value=0, inplace=True)\n",
    "    df.Cabin.fillna(value='missing', inplace=True)\n",
    "    df.dropna(subset=['Embarked'], inplace=True)\n",
    "# X_train['AgeMissing'] = X_train.Age.isna()\n",
    "# X_train.Age.fillna(value=0, inplace=True)\n",
    "# X_train.Cabin.fillna(value='missing', inplace=True)\n",
    "# X_train.Embarked.fillna(value='missing', inplace=True)\n",
    "\n",
    "# X_test['AgeMissing'] = X_test.Age.isna()\n",
    "# X_test.Age.fillna(value=0, inplace=True)\n",
    "# X_test.Cabin.fillna(value='missing', inplace=True)\n",
    "# X_test.Embarked.fillna(value='missing', inplace=True)"
   ]
  },
  {
   "cell_type": "code",
   "execution_count": 43,
   "metadata": {},
   "outputs": [
    {
     "name": "stdout",
     "output_type": "stream",
     "text": [
      "<class 'pandas.core.frame.DataFrame'>\n",
      "Int64Index: 889 entries, 0 to 890\n",
      "Data columns (total 12 columns):\n",
      "Survived      889 non-null int64\n",
      "Pclass        889 non-null int64\n",
      "Name          889 non-null object\n",
      "Sex           889 non-null object\n",
      "Age           889 non-null float64\n",
      "SibSp         889 non-null int64\n",
      "Parch         889 non-null int64\n",
      "Ticket        889 non-null object\n",
      "Fare          889 non-null float64\n",
      "Cabin         889 non-null object\n",
      "Embarked      889 non-null object\n",
      "AgeMissing    889 non-null int64\n",
      "dtypes: float64(2), int64(5), object(5)\n",
      "memory usage: 90.3+ KB\n"
     ]
    }
   ],
   "source": [
    "train_df.info()"
   ]
  },
  {
   "cell_type": "markdown",
   "metadata": {},
   "source": [
    "## Feature Engineering"
   ]
  },
  {
   "cell_type": "code",
   "execution_count": 44,
   "metadata": {},
   "outputs": [],
   "source": [
    "# drop features\n",
    "# for df in data_dfs: \n",
    "#     df.drop(['Name', 'Ticket'], axis=1, inplace=True)"
   ]
  },
  {
   "cell_type": "code",
   "execution_count": 45,
   "metadata": {},
   "outputs": [],
   "source": [
    "# replace name and ticket by its length\n",
    "for df in data_dfs: \n",
    "    df['NameLen'] = df['Name'].str.len()\n",
    "    df['TicketLen'] = df['Ticket'].str.len()"
   ]
  },
  {
   "cell_type": "code",
   "execution_count": 46,
   "metadata": {},
   "outputs": [
    {
     "data": {
      "image/png": "[encoded data removed]",
      "text/plain": [
       "<Figure size 1152x432 with 1 Axes>"
      ]
     },
     "metadata": {},
     "output_type": "display_data"
    }
   ],
   "source": [
    "plt.figure(figsize=(16, 6))\n",
    "sns.countplot('NameLen', data=train_df);"
   ]
  },
  {
   "cell_type": "code",
   "execution_count": 47,
   "metadata": {},
   "outputs": [
    {
     "data": {
      "image/png": "[encoded data removed]",
      "text/plain": [
       "<Figure size 1152x432 with 1 Axes>"
      ]
     },
     "metadata": {},
     "output_type": "display_data"
    }
   ],
   "source": [
    "plt.figure(figsize=(16, 6))\n",
    "sns.barplot(x='NameLen', y='Survived', data=train_df);"
   ]
  },
  {
   "cell_type": "code",
   "execution_count": 48,
   "metadata": {},
   "outputs": [],
   "source": [
    "# for df in data_dfs: \n",
    "# #     df['NameLength'] = pd.cut(df.NameLength, bins=[0,15,30,45,100], labels=False) # group in bins\n",
    "\n",
    "# df['NameLength'] = pd.cut(df['NameLength'], 5)\n",
    "\n",
    "for df in data_dfs:    \n",
    "    df.loc[ df['NameLen'] <= 20, 'NameLen'] = 0\n",
    "    df.loc[(df['NameLen'] > 20) & (df['NameLen'] <= 30), 'NameLen'] = 1\n",
    "    df.loc[(df['NameLen'] > 30) & (df['NameLen'] <= 40), 'NameLen'] = 2\n",
    "    df.loc[(df['NameLen'] > 40), 'NameLen'] = 3"
   ]
  },
  {
   "cell_type": "code",
   "execution_count": 49,
   "metadata": {},
   "outputs": [
    {
     "data": {
      "image/png": "[encoded data removed]",
      "text/plain": [
       "<Figure size 1152x432 with 1 Axes>"
      ]
     },
     "metadata": {},
     "output_type": "display_data"
    }
   ],
   "source": [
    "plt.figure(figsize=(16, 6))\n",
    "sns.countplot('NameLen', data=train_df);"
   ]
  },
  {
   "cell_type": "code",
   "execution_count": 50,
   "metadata": {},
   "outputs": [
    {
     "data": {
      "image/png": "[encoded data removed]",
      "text/plain": [
       "<Figure size 432x288 with 1 Axes>"
      ]
     },
     "metadata": {},
     "output_type": "display_data"
    }
   ],
   "source": [
    "sns.barplot(x='NameLen', y='Survived', data=train_df);"
   ]
  },
  {
   "cell_type": "code",
   "execution_count": 51,
   "metadata": {},
   "outputs": [
    {
     "data": {
      "text/html": [
       "<div>\n",
       "<style scoped>\n",
       "    .dataframe tbody tr th:only-of-type {\n",
       "        vertical-align: middle;\n",
       "    }\n",
       "\n",
       "    .dataframe tbody tr th {\n",
       "        vertical-align: top;\n",
       "    }\n",
       "\n",
       "    .dataframe thead th {\n",
       "        text-align: right;\n",
       "    }\n",
       "</style>\n",
       "<table border=\"1\" class=\"dataframe\">\n",
       "  <thead>\n",
       "    <tr style=\"text-align: right;\">\n",
       "      <th></th>\n",
       "      <th>Survived</th>\n",
       "      <th>Pclass</th>\n",
       "      <th>Name</th>\n",
       "      <th>Sex</th>\n",
       "      <th>Age</th>\n",
       "      <th>SibSp</th>\n",
       "      <th>Parch</th>\n",
       "      <th>Ticket</th>\n",
       "      <th>Fare</th>\n",
       "      <th>Cabin</th>\n",
       "      <th>Embarked</th>\n",
       "      <th>AgeMissing</th>\n",
       "      <th>NameLen</th>\n",
       "      <th>TicketLen</th>\n",
       "    </tr>\n",
       "  </thead>\n",
       "  <tbody>\n",
       "    <tr>\n",
       "      <th>0</th>\n",
       "      <td>0</td>\n",
       "      <td>3</td>\n",
       "      <td>Braund, Mr. Owen Harris</td>\n",
       "      <td>male</td>\n",
       "      <td>22.0</td>\n",
       "      <td>1</td>\n",
       "      <td>0</td>\n",
       "      <td>A/5 21171</td>\n",
       "      <td>7.2500</td>\n",
       "      <td>missing</td>\n",
       "      <td>S</td>\n",
       "      <td>0</td>\n",
       "      <td>1</td>\n",
       "      <td>9</td>\n",
       "    </tr>\n",
       "    <tr>\n",
       "      <th>1</th>\n",
       "      <td>1</td>\n",
       "      <td>1</td>\n",
       "      <td>Cumings, Mrs. John Bradley (Florence Briggs Th...</td>\n",
       "      <td>female</td>\n",
       "      <td>38.0</td>\n",
       "      <td>1</td>\n",
       "      <td>0</td>\n",
       "      <td>PC 17599</td>\n",
       "      <td>71.2833</td>\n",
       "      <td>C85</td>\n",
       "      <td>C</td>\n",
       "      <td>0</td>\n",
       "      <td>3</td>\n",
       "      <td>8</td>\n",
       "    </tr>\n",
       "    <tr>\n",
       "      <th>2</th>\n",
       "      <td>1</td>\n",
       "      <td>3</td>\n",
       "      <td>Heikkinen, Miss. Laina</td>\n",
       "      <td>female</td>\n",
       "      <td>26.0</td>\n",
       "      <td>0</td>\n",
       "      <td>0</td>\n",
       "      <td>STON/O2. 3101282</td>\n",
       "      <td>7.9250</td>\n",
       "      <td>missing</td>\n",
       "      <td>S</td>\n",
       "      <td>0</td>\n",
       "      <td>1</td>\n",
       "      <td>16</td>\n",
       "    </tr>\n",
       "    <tr>\n",
       "      <th>3</th>\n",
       "      <td>1</td>\n",
       "      <td>1</td>\n",
       "      <td>Futrelle, Mrs. Jacques Heath (Lily May Peel)</td>\n",
       "      <td>female</td>\n",
       "      <td>35.0</td>\n",
       "      <td>1</td>\n",
       "      <td>0</td>\n",
       "      <td>113803</td>\n",
       "      <td>53.1000</td>\n",
       "      <td>C123</td>\n",
       "      <td>S</td>\n",
       "      <td>0</td>\n",
       "      <td>3</td>\n",
       "      <td>6</td>\n",
       "    </tr>\n",
       "    <tr>\n",
       "      <th>4</th>\n",
       "      <td>0</td>\n",
       "      <td>3</td>\n",
       "      <td>Allen, Mr. William Henry</td>\n",
       "      <td>male</td>\n",
       "      <td>35.0</td>\n",
       "      <td>0</td>\n",
       "      <td>0</td>\n",
       "      <td>373450</td>\n",
       "      <td>8.0500</td>\n",
       "      <td>missing</td>\n",
       "      <td>S</td>\n",
       "      <td>0</td>\n",
       "      <td>1</td>\n",
       "      <td>6</td>\n",
       "    </tr>\n",
       "  </tbody>\n",
       "</table>\n",
       "</div>"
      ],
      "text/plain": [
       "   Survived  Pclass                                               Name  \\\n",
       "0         0       3                            Braund, Mr. Owen Harris   \n",
       "1         1       1  Cumings, Mrs. John Bradley (Florence Briggs Th...   \n",
       "2         1       3                             Heikkinen, Miss. Laina   \n",
       "3         1       1       Futrelle, Mrs. Jacques Heath (Lily May Peel)   \n",
       "4         0       3                           Allen, Mr. William Henry   \n",
       "\n",
       "      Sex   Age  SibSp  Parch            Ticket     Fare    Cabin Embarked  \\\n",
       "0    male  22.0      1      0         A/5 21171   7.2500  missing        S   \n",
       "1  female  38.0      1      0          PC 17599  71.2833      C85        C   \n",
       "2  female  26.0      0      0  STON/O2. 3101282   7.9250  missing        S   \n",
       "3  female  35.0      1      0            113803  53.1000     C123        S   \n",
       "4    male  35.0      0      0            373450   8.0500  missing        S   \n",
       "\n",
       "   AgeMissing  NameLen  TicketLen  \n",
       "0           0        1          9  \n",
       "1           0        3          8  \n",
       "2           0        1         16  \n",
       "3           0        3          6  \n",
       "4           0        1          6  "
      ]
     },
     "execution_count": 51,
     "metadata": {},
     "output_type": "execute_result"
    }
   ],
   "source": [
    "train_df.head()"
   ]
  },
  {
   "cell_type": "code",
   "execution_count": 52,
   "metadata": {},
   "outputs": [],
   "source": [
    "for df in data_dfs:\n",
    "    df.drop(['Name'], axis=1, inplace=True)"
   ]
  },
  {
   "cell_type": "code",
   "execution_count": 53,
   "metadata": {},
   "outputs": [
    {
     "data": {
      "image/png": "[encoded data removed]",
      "text/plain": [
       "<Figure size 432x288 with 1 Axes>"
      ]
     },
     "metadata": {},
     "output_type": "display_data"
    }
   ],
   "source": [
    "sns.countplot('TicketLen', data=train_df);"
   ]
  },
  {
   "cell_type": "code",
   "execution_count": 54,
   "metadata": {},
   "outputs": [
    {
     "data": {
      "image/png": "[encoded data removed]",
      "text/plain": [
       "<Figure size 432x288 with 1 Axes>"
      ]
     },
     "metadata": {},
     "output_type": "display_data"
    }
   ],
   "source": [
    "sns.barplot(x='TicketLen', y='Survived', data=train_df);"
   ]
  },
  {
   "cell_type": "code",
   "execution_count": 55,
   "metadata": {},
   "outputs": [],
   "source": [
    "for df in data_dfs:    \n",
    "    df.loc[ df['TicketLen'] <= 5, 'TicketLen'] = 0\n",
    "    df.loc[(df['TicketLen'] > 5) & (df['TicketLen'] <= 10), 'TicketLen'] = 1\n",
    "    df.loc[(df['TicketLen'] > 10), 'TicketLen'] = 2\n",
    "# X_train['TicketLength'] = pd.cut(X_train.TicketLength, bins=[0,5,7,20], labels=False) \n",
    "# X_test['TicketLength'] = pd.cut(X_test.TicketLength, bins=[0,5,7,20], labels=False) "
   ]
  },
  {
   "cell_type": "code",
   "execution_count": 56,
   "metadata": {},
   "outputs": [
    {
     "data": {
      "image/png": "[encoded data removed]",
      "text/plain": [
       "<Figure size 432x288 with 1 Axes>"
      ]
     },
     "metadata": {},
     "output_type": "display_data"
    }
   ],
   "source": [
    "sns.countplot('TicketLen', data=train_df);"
   ]
  },
  {
   "cell_type": "code",
   "execution_count": 57,
   "metadata": {},
   "outputs": [
    {
     "data": {
      "image/png": "[encoded data removed]",
      "text/plain": [
       "<Figure size 432x288 with 1 Axes>"
      ]
     },
     "metadata": {},
     "output_type": "display_data"
    }
   ],
   "source": [
    "sns.barplot(x='TicketLen', y='Survived', data=train_df);"
   ]
  },
  {
   "cell_type": "code",
   "execution_count": 58,
   "metadata": {},
   "outputs": [],
   "source": [
    "# Ticket and TicketLen features seems uncorrelated to target, drop it:\n",
    "for df in data_dfs:\n",
    "    df.drop(['Ticket', 'TicketLen'], axis=1, inplace=True)"
   ]
  },
  {
   "cell_type": "code",
   "execution_count": 59,
   "metadata": {},
   "outputs": [],
   "source": [
    "# # simplify cabin feature to boolean\n",
    "for df in data_dfs:\n",
    "    df['hasCabin'] = (df['Cabin'] != 'missing').astype(int)\n",
    "#     df['Cabin'] = df['Cabin'].str[0]"
   ]
  },
  {
   "cell_type": "code",
   "execution_count": 60,
   "metadata": {},
   "outputs": [
    {
     "data": {
      "image/png": "[encoded data removed]",
      "text/plain": [
       "<Figure size 432x288 with 1 Axes>"
      ]
     },
     "metadata": {},
     "output_type": "display_data"
    }
   ],
   "source": [
    "sns.countplot('hasCabin', data=train_df);"
   ]
  },
  {
   "cell_type": "code",
   "execution_count": 61,
   "metadata": {},
   "outputs": [
    {
     "data": {
      "image/png": "[encoded data removed]",
      "text/plain": [
       "<Figure size 432x288 with 1 Axes>"
      ]
     },
     "metadata": {},
     "output_type": "display_data"
    }
   ],
   "source": [
    "sns.barplot(x='hasCabin', y='Survived', data=train_df);"
   ]
  },
  {
   "cell_type": "code",
   "execution_count": 62,
   "metadata": {},
   "outputs": [],
   "source": [
    "for df in data_dfs:\n",
    "    df.drop(['Cabin'], axis=1, inplace=True)"
   ]
  },
  {
   "cell_type": "code",
   "execution_count": 63,
   "metadata": {},
   "outputs": [],
   "source": [
    "for df in data_dfs:\n",
    "    df['isFemale'] = df['Sex'].map( {'female': 1, 'male': 0} ).astype(int)\n",
    "    df.drop(['Sex'], axis=1, inplace=True)\n",
    "    \n",
    "for df in data_dfs:\n",
    "    df['Embarked'] = df['Embarked'].map( {'S': 0, 'C': 1, 'Q':2} ).astype(int)"
   ]
  },
  {
   "cell_type": "code",
   "execution_count": 64,
   "metadata": {},
   "outputs": [
    {
     "data": {
      "text/html": [
       "<div>\n",
       "<style scoped>\n",
       "    .dataframe tbody tr th:only-of-type {\n",
       "        vertical-align: middle;\n",
       "    }\n",
       "\n",
       "    .dataframe tbody tr th {\n",
       "        vertical-align: top;\n",
       "    }\n",
       "\n",
       "    .dataframe thead th {\n",
       "        text-align: right;\n",
       "    }\n",
       "</style>\n",
       "<table border=\"1\" class=\"dataframe\">\n",
       "  <thead>\n",
       "    <tr style=\"text-align: right;\">\n",
       "      <th></th>\n",
       "      <th>Survived</th>\n",
       "      <th>Pclass</th>\n",
       "      <th>Age</th>\n",
       "      <th>SibSp</th>\n",
       "      <th>Parch</th>\n",
       "      <th>Fare</th>\n",
       "      <th>Embarked</th>\n",
       "      <th>AgeMissing</th>\n",
       "      <th>NameLen</th>\n",
       "      <th>hasCabin</th>\n",
       "      <th>isFemale</th>\n",
       "    </tr>\n",
       "  </thead>\n",
       "  <tbody>\n",
       "    <tr>\n",
       "      <th>0</th>\n",
       "      <td>0</td>\n",
       "      <td>3</td>\n",
       "      <td>22.0</td>\n",
       "      <td>1</td>\n",
       "      <td>0</td>\n",
       "      <td>7.2500</td>\n",
       "      <td>0</td>\n",
       "      <td>0</td>\n",
       "      <td>1</td>\n",
       "      <td>0</td>\n",
       "      <td>0</td>\n",
       "    </tr>\n",
       "    <tr>\n",
       "      <th>1</th>\n",
       "      <td>1</td>\n",
       "      <td>1</td>\n",
       "      <td>38.0</td>\n",
       "      <td>1</td>\n",
       "      <td>0</td>\n",
       "      <td>71.2833</td>\n",
       "      <td>1</td>\n",
       "      <td>0</td>\n",
       "      <td>3</td>\n",
       "      <td>1</td>\n",
       "      <td>1</td>\n",
       "    </tr>\n",
       "    <tr>\n",
       "      <th>2</th>\n",
       "      <td>1</td>\n",
       "      <td>3</td>\n",
       "      <td>26.0</td>\n",
       "      <td>0</td>\n",
       "      <td>0</td>\n",
       "      <td>7.9250</td>\n",
       "      <td>0</td>\n",
       "      <td>0</td>\n",
       "      <td>1</td>\n",
       "      <td>0</td>\n",
       "      <td>1</td>\n",
       "    </tr>\n",
       "    <tr>\n",
       "      <th>3</th>\n",
       "      <td>1</td>\n",
       "      <td>1</td>\n",
       "      <td>35.0</td>\n",
       "      <td>1</td>\n",
       "      <td>0</td>\n",
       "      <td>53.1000</td>\n",
       "      <td>0</td>\n",
       "      <td>0</td>\n",
       "      <td>3</td>\n",
       "      <td>1</td>\n",
       "      <td>1</td>\n",
       "    </tr>\n",
       "    <tr>\n",
       "      <th>4</th>\n",
       "      <td>0</td>\n",
       "      <td>3</td>\n",
       "      <td>35.0</td>\n",
       "      <td>0</td>\n",
       "      <td>0</td>\n",
       "      <td>8.0500</td>\n",
       "      <td>0</td>\n",
       "      <td>0</td>\n",
       "      <td>1</td>\n",
       "      <td>0</td>\n",
       "      <td>0</td>\n",
       "    </tr>\n",
       "  </tbody>\n",
       "</table>\n",
       "</div>"
      ],
      "text/plain": [
       "   Survived  Pclass   Age  SibSp  Parch     Fare  Embarked  AgeMissing  \\\n",
       "0         0       3  22.0      1      0   7.2500         0           0   \n",
       "1         1       1  38.0      1      0  71.2833         1           0   \n",
       "2         1       3  26.0      0      0   7.9250         0           0   \n",
       "3         1       1  35.0      1      0  53.1000         0           0   \n",
       "4         0       3  35.0      0      0   8.0500         0           0   \n",
       "\n",
       "   NameLen  hasCabin  isFemale  \n",
       "0        1         0         0  \n",
       "1        3         1         1  \n",
       "2        1         0         1  \n",
       "3        3         1         1  \n",
       "4        1         0         0  "
      ]
     },
     "execution_count": 64,
     "metadata": {},
     "output_type": "execute_result"
    }
   ],
   "source": [
    "train_df.head()"
   ]
  },
  {
   "cell_type": "markdown",
   "metadata": {},
   "source": [
    "## Algorithm selection"
   ]
  },
  {
   "cell_type": "code",
   "execution_count": 178,
   "metadata": {},
   "outputs": [],
   "source": [
    "from sklearn.pipeline import make_pipeline\n",
    "from sklearn.model_selection import GridSearchCV\n",
    "from sklearn.metrics import accuracy_score\n",
    "from sklearn.ensemble import RandomForestClassifier, AdaBoostClassifier\n",
    "from sklearn.linear_model import LogisticRegression\n",
    "from sklearn.svm import SVC\n",
    "from sklearn.neural_network import MLPClassifier\n",
    "\n",
    "from sklearn import preprocessing\n",
    "from scipy.stats import randint as sp_randint\n",
    "from scipy.stats import uniform as sp_uniform\n",
    "from sklearn.model_selection import RandomizedSearchCV\n",
    "import pprint as pp"
   ]
  },
  {
   "cell_type": "code",
   "execution_count": 134,
   "metadata": {},
   "outputs": [
    {
     "data": {
      "text/plain": [
       "((889, 10), (889,), (418, 10))"
      ]
     },
     "execution_count": 134,
     "metadata": {},
     "output_type": "execute_result"
    }
   ],
   "source": [
    "y_train = train_df['Survived']\n",
    "X_train = train_df.drop(['Survived'], axis=1)\n",
    "X_test = test_df\n",
    "passengerIds = X_test['PassengerId']\n",
    "X_test = X_test.drop(['PassengerId'], axis=1)\n",
    "X_train.shape, y_train.shape, X_test.shape"
   ]
  },
  {
   "cell_type": "code",
   "execution_count": 135,
   "metadata": {},
   "outputs": [],
   "source": [
    "def report(results, n_top=2):\n",
    "    for i in range(1, n_top + 1):\n",
    "        candidates = np.flatnonzero(results['rank_test_score'] == i)\n",
    "        for candidate in candidates:\n",
    "            print(\"Model with rank: {0}\".format(i))\n",
    "            print(\"Mean validation score: {0:.3f} (std: {1:.3f})\".format(\n",
    "                  results['mean_test_score'][candidate],\n",
    "                  results['std_test_score'][candidate]))\n",
    "            print(\"Parameters:\")\n",
    "            pp.pprint(results['params'][candidate])\n",
    "            print(\"\")"
   ]
  },
  {
   "cell_type": "markdown",
   "metadata": {},
   "source": [
    "### Random Forests"
   ]
  },
  {
   "cell_type": "code",
   "execution_count": 194,
   "metadata": {},
   "outputs": [],
   "source": [
    "# hyperparameters = dict(randomforestclassifier__criterion=['gini','entropy'],\n",
    "#                        randomforestclassifier__n_estimators=[100, 250, 500, 1000],\n",
    "#                        randomforestclassifier__max_features=['auto', 'sqrt', 'log2'],\n",
    "#                        randomforestclassifier__min_samples_split=[2, 4, 6, 8],\n",
    "#                        randomforestclassifier__min_samples_leaf=[1, 3, 5, 8],\n",
    "#                        randomforestclassifier__max_depth=[None, 3, 5, 10])\n",
    "\n",
    "param_dist = dict(randomforestclassifier__max_depth=[3, None],\n",
    "                  randomforestclassifier__max_features=sp_randint(1, 11),\n",
    "                  randomforestclassifier__min_samples_split=sp_randint(2, 11),\n",
    "                  randomforestclassifier__min_samples_leaf=sp_randint(1, 11),\n",
    "                  randomforestclassifier__bootstrap=[True, False],\n",
    "                  randomforestclassifier__criterion=[\"gini\", \"entropy\"]\n",
    "                 )\n",
    "pipeline = make_pipeline(preprocessing.StandardScaler(),\n",
    "                         RandomForestClassifier(n_estimators=250)\n",
    "                        )\n",
    "# clf0 = GridSearchCV(estimator=pipeline,\n",
    "#                    param_grid=hyperparameters,\n",
    "#                    verbose=1,\n",
    "#                    n_jobs=4,\n",
    "#                    cv=5)\n",
    "\n",
    "clf0 = RandomizedSearchCV(pipeline,\n",
    "                         param_distributions=param_dist,\n",
    "                         n_iter=40,\n",
    "                         n_jobs=4,\n",
    "                         cv=5,\n",
    "                         verbose=1)"
   ]
  },
  {
   "cell_type": "code",
   "execution_count": 195,
   "metadata": {},
   "outputs": [
    {
     "name": "stdout",
     "output_type": "stream",
     "text": [
      "Fitting 5 folds for each of 40 candidates, totalling 200 fits\n"
     ]
    },
    {
     "name": "stderr",
     "output_type": "stream",
     "text": [
      "[Parallel(n_jobs=4)]: Done  42 tasks      | elapsed:    4.0s\n",
      "[Parallel(n_jobs=4)]: Done 192 tasks      | elapsed:   19.1s\n",
      "[Parallel(n_jobs=4)]: Done 200 out of 200 | elapsed:   19.8s finished\n"
     ]
    },
    {
     "data": {
      "text/plain": [
       "RandomizedSearchCV(cv=5, error_score='raise',\n",
       "          estimator=Pipeline(memory=None,\n",
       "     steps=[('standardscaler', StandardScaler(copy=True, with_mean=True, with_std=True)), ('randomforestclassifier', RandomForestClassifier(bootstrap=True, class_weight=None, criterion='gini',\n",
       "            max_depth=None, max_features='auto', max_leaf_nodes=None,\n",
       "            min_impurity_decrease=0.0, min...n_jobs=1,\n",
       "            oob_score=False, random_state=None, verbose=0,\n",
       "            warm_start=False))]),\n",
       "          fit_params=None, iid=True, n_iter=40, n_jobs=4,\n",
       "          param_distributions={'randomforestclassifier__max_depth': [3, None], 'randomforestclassifier__max_features': <scipy.stats._distn_infrastructure.rv_frozen object at 0x7f60013c49e8>, 'randomforestclassifier__min_samples_split': <scipy.stats._distn_infrastructure.rv_frozen object at 0x7f60013c4a58>, 'r...restclassifier__bootstrap': [True, False], 'randomforestclassifier__criterion': ['gini', 'entropy']},\n",
       "          pre_dispatch='2*n_jobs', random_state=None, refit=True,\n",
       "          return_train_score='warn', scoring=None, verbose=1)"
      ]
     },
     "execution_count": 195,
     "metadata": {},
     "output_type": "execute_result"
    }
   ],
   "source": [
    "clf0.fit(X_train, y_train)"
   ]
  },
  {
   "cell_type": "code",
   "execution_count": 196,
   "metadata": {
    "scrolled": false
   },
   "outputs": [
    {
     "name": "stdout",
     "output_type": "stream",
     "text": [
      "Model with rank: 1\n",
      "Mean validation score: 0.820 (std: 0.028)\n",
      "Parameters:\n",
      "{'randomforestclassifier__bootstrap': True,\n",
      " 'randomforestclassifier__criterion': 'entropy',\n",
      " 'randomforestclassifier__max_depth': None,\n",
      " 'randomforestclassifier__max_features': 7,\n",
      " 'randomforestclassifier__min_samples_leaf': 4,\n",
      " 'randomforestclassifier__min_samples_split': 10}\n",
      "\n",
      "Model with rank: 2\n",
      "Mean validation score: 0.816 (std: 0.016)\n",
      "Parameters:\n",
      "{'randomforestclassifier__bootstrap': True,\n",
      " 'randomforestclassifier__criterion': 'entropy',\n",
      " 'randomforestclassifier__max_depth': None,\n",
      " 'randomforestclassifier__max_features': 2,\n",
      " 'randomforestclassifier__min_samples_leaf': 2,\n",
      " 'randomforestclassifier__min_samples_split': 3}\n",
      "\n",
      "Best model score on whole training set: 0.900\n"
     ]
    }
   ],
   "source": [
    "report(clf0.cv_results_)\n",
    "print(\"Best model score on whole training set: {0:.3f}\".format(clf0.score(X_train, y_train)))"
   ]
  },
  {
   "cell_type": "markdown",
   "metadata": {},
   "source": [
    "### Logistic Regression"
   ]
  },
  {
   "cell_type": "code",
   "execution_count": 146,
   "metadata": {},
   "outputs": [],
   "source": [
    "param_dist = dict(logisticregression__penalty=['l1', 'l2'],\n",
    "                  logisticregression__C=[0.001,0.01,0.1,1,10,100],\n",
    "#                   logisticregression__tol=[1e-5, 1e-4, 1e-3, 1e-2],\n",
    "                 )\n",
    "\n",
    "pipeline = make_pipeline(preprocessing.StandardScaler(),\n",
    "                         LogisticRegression()\n",
    "                        )\n",
    "\n",
    "clf1 = RandomizedSearchCV(pipeline,\n",
    "                         param_distributions=param_dist,\n",
    "                         n_iter=12,\n",
    "                         n_jobs=4,\n",
    "                         cv=5,\n",
    "                         verbose=1)"
   ]
  },
  {
   "cell_type": "code",
   "execution_count": 147,
   "metadata": {},
   "outputs": [
    {
     "name": "stdout",
     "output_type": "stream",
     "text": [
      "Fitting 5 folds for each of 12 candidates, totalling 60 fits\n"
     ]
    },
    {
     "name": "stderr",
     "output_type": "stream",
     "text": [
      "[Parallel(n_jobs=4)]: Done  60 out of  60 | elapsed:    0.1s finished\n"
     ]
    },
    {
     "data": {
      "text/plain": [
       "RandomizedSearchCV(cv=5, error_score='raise',\n",
       "          estimator=Pipeline(memory=None,\n",
       "     steps=[('standardscaler', StandardScaler(copy=True, with_mean=True, with_std=True)), ('logisticregression', LogisticRegression(C=1.0, class_weight=None, dual=False, fit_intercept=True,\n",
       "          intercept_scaling=1, max_iter=100, multi_class='ovr', n_jobs=1,\n",
       "          penalty='l2', random_state=None, solver='liblinear', tol=0.0001,\n",
       "          verbose=0, warm_start=False))]),\n",
       "          fit_params=None, iid=True, n_iter=12, n_jobs=4,\n",
       "          param_distributions={'logisticregression__penalty': ['l1', 'l2'], 'logisticregression__C': [0.001, 0.01, 0.1, 1, 10, 100]},\n",
       "          pre_dispatch='2*n_jobs', random_state=None, refit=True,\n",
       "          return_train_score='warn', scoring=None, verbose=1)"
      ]
     },
     "execution_count": 147,
     "metadata": {},
     "output_type": "execute_result"
    }
   ],
   "source": [
    "clf1.fit(X_train, y_train)"
   ]
  },
  {
   "cell_type": "code",
   "execution_count": 148,
   "metadata": {},
   "outputs": [
    {
     "name": "stdout",
     "output_type": "stream",
     "text": [
      "Model with rank: 1\n",
      "Mean validation score: 0.794 (std: 0.012)\n",
      "Parameters:\n",
      "{'logisticregression__C': 10, 'logisticregression__penalty': 'l1'}\n",
      "\n",
      "Model with rank: 1\n",
      "Mean validation score: 0.794 (std: 0.012)\n",
      "Parameters:\n",
      "{'logisticregression__C': 10, 'logisticregression__penalty': 'l2'}\n",
      "\n",
      "Model with rank: 1\n",
      "Mean validation score: 0.794 (std: 0.012)\n",
      "Parameters:\n",
      "{'logisticregression__C': 100, 'logisticregression__penalty': 'l1'}\n",
      "\n",
      "Model with rank: 1\n",
      "Mean validation score: 0.794 (std: 0.012)\n",
      "Parameters:\n",
      "{'logisticregression__C': 100, 'logisticregression__penalty': 'l2'}\n",
      "\n",
      "Best model score on whole training set: 0.805\n"
     ]
    }
   ],
   "source": [
    "report(clf1.cv_results_)\n",
    "print(\"Best model score on whole training set: {0:.3f}\".format(clf1.score(X_train, y_train)))"
   ]
  },
  {
   "cell_type": "markdown",
   "metadata": {},
   "source": [
    "### SVM"
   ]
  },
  {
   "cell_type": "code",
   "execution_count": 160,
   "metadata": {},
   "outputs": [],
   "source": [
    "param_dist = dict(svc__kernel=['linear', 'rbf', 'poly', 'sigmoid'],\n",
    "                  svc__C=[0.01,0.1,1,10,100],\n",
    "                  svc__gamma=[0.001, 0.01,0.1,1],\n",
    "                 )\n",
    "\n",
    "pipeline = make_pipeline(preprocessing.StandardScaler(),\n",
    "                         SVC()\n",
    "                        )\n",
    "\n",
    "clf2 = RandomizedSearchCV(pipeline,\n",
    "                         param_distributions=param_dist,\n",
    "                         n_iter=40,\n",
    "                         n_jobs=4,\n",
    "                         cv=5,\n",
    "                         verbose=2)"
   ]
  },
  {
   "cell_type": "code",
   "execution_count": 161,
   "metadata": {},
   "outputs": [
    {
     "name": "stdout",
     "output_type": "stream",
     "text": [
      "Fitting 5 folds for each of 40 candidates, totalling 200 fits\n",
      "[CV] svc__kernel=sigmoid, svc__gamma=0.001, svc__C=10 ................\n",
      "[CV] svc__kernel=sigmoid, svc__gamma=0.001, svc__C=10 ................\n",
      "[CV] svc__kernel=sigmoid, svc__gamma=0.001, svc__C=10 ................\n",
      "[CV] svc__kernel=sigmoid, svc__gamma=0.001, svc__C=10 ................\n",
      "[CV] . svc__kernel=sigmoid, svc__gamma=0.001, svc__C=10, total=   0.0s\n",
      "[CV] svc__kernel=sigmoid, svc__gamma=0.001, svc__C=10 ................\n",
      "[CV] . svc__kernel=sigmoid, svc__gamma=0.001, svc__C=10, total=   0.0s\n",
      "[CV] svc__kernel=linear, svc__gamma=1, svc__C=0.01 ...................\n",
      "[CV] . svc__kernel=sigmoid, svc__gamma=0.001, svc__C=10, total=   0.0s\n",
      "[CV] svc__kernel=linear, svc__gamma=1, svc__C=0.01 ...................\n",
      "[CV] . svc__kernel=sigmoid, svc__gamma=0.001, svc__C=10, total=   0.0s\n",
      "[CV] . svc__kernel=sigmoid, svc__gamma=0.001, svc__C=10, total=   0.0s\n",
      "[CV] svc__kernel=linear, svc__gamma=1, svc__C=0.01 ...................\n",
      "[CV] svc__kernel=linear, svc__gamma=1, svc__C=0.01 ...................\n",
      "[CV] .... svc__kernel=linear, svc__gamma=1, svc__C=0.01, total=   0.0s\n",
      "[CV] svc__kernel=poly, svc__gamma=0.01, svc__C=0.1 ...................\n",
      "[CV] .... svc__kernel=linear, svc__gamma=1, svc__C=0.01, total=   0.0s\n",
      "[CV] svc__kernel=linear, svc__gamma=0.001, svc__C=0.1 ................\n",
      "[CV] .... svc__kernel=linear, svc__gamma=1, svc__C=0.01, total=   0.0s\n",
      "[CV] .... svc__kernel=linear, svc__gamma=1, svc__C=0.01, total=   0.0s\n",
      "[CV] svc__kernel=linear, svc__gamma=1, svc__C=0.01 ...................\n",
      "[CV] svc__kernel=poly, svc__gamma=1, svc__C=10 .......................\n",
      "[CV] .... svc__kernel=poly, svc__gamma=0.01, svc__C=0.1, total=   0.0s\n",
      "[CV] svc__kernel=sigmoid, svc__gamma=0.01, svc__C=0.01 ...............\n",
      "[CV] . svc__kernel=linear, svc__gamma=0.001, svc__C=0.1, total=   0.0s\n",
      "[CV] .... svc__kernel=linear, svc__gamma=1, svc__C=0.01, total=   0.0s\n",
      "[CV] svc__kernel=linear, svc__gamma=0.001, svc__C=0.1 ................\n",
      "[CV] svc__kernel=poly, svc__gamma=0.01, svc__C=0.1 ...................\n",
      "[CV] . svc__kernel=linear, svc__gamma=0.001, svc__C=0.1, total=   0.0s\n",
      "[CV] svc__kernel=linear, svc__gamma=0.001, svc__C=0.1 ................\n",
      "[CV] .... svc__kernel=poly, svc__gamma=0.01, svc__C=0.1, total=   0.0s\n",
      "[CV] svc__kernel=poly, svc__gamma=0.01, svc__C=0.1 ...................\n",
      "[CV] . svc__kernel=linear, svc__gamma=0.001, svc__C=0.1, total=   0.0s\n",
      "[CV] svc__kernel=linear, svc__gamma=0.001, svc__C=0.1 ................\n",
      "[CV]  svc__kernel=sigmoid, svc__gamma=0.01, svc__C=0.01, total=   0.0s\n",
      "[CV] svc__kernel=sigmoid, svc__gamma=0.01, svc__C=0.01 ...............\n",
      "[CV] . svc__kernel=linear, svc__gamma=0.001, svc__C=0.1, total=   0.0s\n",
      "[CV] svc__kernel=linear, svc__gamma=0.001, svc__C=0.1 ................\n",
      "[CV] .... svc__kernel=poly, svc__gamma=0.01, svc__C=0.1, total=   0.0s\n",
      "[CV] svc__kernel=poly, svc__gamma=0.01, svc__C=0.1 ...................\n",
      "[CV] . svc__kernel=linear, svc__gamma=0.001, svc__C=0.1, total=   0.0s\n",
      "[CV] svc__kernel=poly, svc__gamma=1, svc__C=10 .......................\n",
      "[CV]  svc__kernel=sigmoid, svc__gamma=0.01, svc__C=0.01, total=   0.0s\n",
      "[CV] svc__kernel=sigmoid, svc__gamma=0.01, svc__C=0.01 ...............\n",
      "[CV] .... svc__kernel=poly, svc__gamma=0.01, svc__C=0.1, total=   0.0s\n",
      "[CV] svc__kernel=poly, svc__gamma=0.01, svc__C=0.1 ...................\n",
      "[CV] .... svc__kernel=poly, svc__gamma=0.01, svc__C=0.1, total=   0.0s\n",
      "[CV] svc__kernel=rbf, svc__gamma=0.01, svc__C=1 ......................\n",
      "[CV]  svc__kernel=sigmoid, svc__gamma=0.01, svc__C=0.01, total=   0.0s\n",
      "[CV] svc__kernel=sigmoid, svc__gamma=0.01, svc__C=0.01 ...............\n",
      "[CV] ....... svc__kernel=rbf, svc__gamma=0.01, svc__C=1, total=   0.0s\n",
      "[CV] svc__kernel=rbf, svc__gamma=0.01, svc__C=1 ......................\n",
      "[CV]  svc__kernel=sigmoid, svc__gamma=0.01, svc__C=0.01, total=   0.0s\n",
      "[CV] svc__kernel=sigmoid, svc__gamma=0.01, svc__C=0.01 ...............\n",
      "[CV] ....... svc__kernel=rbf, svc__gamma=0.01, svc__C=1, total=   0.0s\n",
      "[CV] svc__kernel=rbf, svc__gamma=0.01, svc__C=1 ......................\n",
      "[CV]  svc__kernel=sigmoid, svc__gamma=0.01, svc__C=0.01, total=   0.0s\n",
      "[CV] svc__kernel=sigmoid, svc__gamma=1, svc__C=0.1 ...................\n",
      "[CV] ....... svc__kernel=rbf, svc__gamma=0.01, svc__C=1, total=   0.0s\n",
      "[CV] svc__kernel=sigmoid, svc__gamma=1, svc__C=0.1 ...................\n",
      "[CV] .... svc__kernel=sigmoid, svc__gamma=1, svc__C=0.1, total=   0.0s\n",
      "[CV] svc__kernel=sigmoid, svc__gamma=1, svc__C=0.1 ...................\n",
      "[CV] .... svc__kernel=sigmoid, svc__gamma=1, svc__C=0.1, total=   0.0s\n",
      "[CV] svc__kernel=sigmoid, svc__gamma=1, svc__C=0.1 ...................\n",
      "[CV] .... svc__kernel=sigmoid, svc__gamma=1, svc__C=0.1, total=   0.0s\n",
      "[CV] svc__kernel=poly, svc__gamma=1, svc__C=0.01 .....................\n",
      "[CV] .... svc__kernel=sigmoid, svc__gamma=1, svc__C=0.1, total=   0.0s\n",
      "[CV] svc__kernel=sigmoid, svc__gamma=1, svc__C=0.1 ...................\n",
      "[CV] ...... svc__kernel=poly, svc__gamma=1, svc__C=0.01, total=   0.0s\n",
      "[CV] svc__kernel=poly, svc__gamma=1, svc__C=0.01 .....................\n",
      "[CV] .... svc__kernel=sigmoid, svc__gamma=1, svc__C=0.1, total=   0.0s\n",
      "[CV] svc__kernel=poly, svc__gamma=1, svc__C=0.01 .....................\n",
      "[CV] ...... svc__kernel=poly, svc__gamma=1, svc__C=0.01, total=   0.0s\n",
      "[CV] svc__kernel=poly, svc__gamma=1, svc__C=0.01 .....................\n",
      "[CV] ...... svc__kernel=poly, svc__gamma=1, svc__C=0.01, total=   0.0s\n",
      "[CV] svc__kernel=poly, svc__gamma=1, svc__C=0.01 .....................\n",
      "[CV] ...... svc__kernel=poly, svc__gamma=1, svc__C=0.01, total=   0.0s\n",
      "[CV] svc__kernel=linear, svc__gamma=0.1, svc__C=100 ..................\n",
      "[CV] ...... svc__kernel=poly, svc__gamma=1, svc__C=0.01, total=   0.0s\n",
      "[CV] svc__kernel=rbf, svc__gamma=0.001, svc__C=10 ....................\n",
      "[CV] ..... svc__kernel=rbf, svc__gamma=0.001, svc__C=10, total=   0.0s\n",
      "[CV] svc__kernel=rbf, svc__gamma=0.001, svc__C=10 ....................\n",
      "[CV] ..... svc__kernel=rbf, svc__gamma=0.001, svc__C=10, total=   0.0s\n",
      "[CV] svc__kernel=rbf, svc__gamma=0.001, svc__C=10 ....................\n",
      "[CV] ..... svc__kernel=rbf, svc__gamma=0.001, svc__C=10, total=   0.0s\n",
      "[CV] svc__kernel=rbf, svc__gamma=0.001, svc__C=10 ....................\n",
      "[CV] ..... svc__kernel=rbf, svc__gamma=0.001, svc__C=10, total=   0.0s\n",
      "[CV] svc__kernel=rbf, svc__gamma=0.001, svc__C=10 ....................\n",
      "[CV] ..... svc__kernel=rbf, svc__gamma=0.001, svc__C=10, total=   0.0s\n",
      "[CV] svc__kernel=sigmoid, svc__gamma=0.01, svc__C=0.1 ................\n",
      "[CV] . svc__kernel=sigmoid, svc__gamma=0.01, svc__C=0.1, total=   0.0s\n",
      "[CV] svc__kernel=sigmoid, svc__gamma=0.01, svc__C=0.1 ................\n",
      "[CV] . svc__kernel=sigmoid, svc__gamma=0.01, svc__C=0.1, total=   0.0s\n",
      "[CV] svc__kernel=sigmoid, svc__gamma=0.01, svc__C=0.1 ................\n",
      "[CV] . svc__kernel=sigmoid, svc__gamma=0.01, svc__C=0.1, total=   0.0s\n",
      "[CV] svc__kernel=sigmoid, svc__gamma=0.01, svc__C=0.1 ................\n",
      "[CV] ........ svc__kernel=poly, svc__gamma=1, svc__C=10, total=   0.9s\n",
      "[CV] svc__kernel=poly, svc__gamma=1, svc__C=10 .......................\n",
      "[CV] . svc__kernel=sigmoid, svc__gamma=0.01, svc__C=0.1, total=   0.0s\n",
      "[CV] svc__kernel=sigmoid, svc__gamma=0.01, svc__C=0.1 ................\n",
      "[CV] . svc__kernel=sigmoid, svc__gamma=0.01, svc__C=0.1, total=   0.0s\n",
      "[CV] svc__kernel=sigmoid, svc__gamma=0.01, svc__C=1 ..................\n",
      "[CV] ... svc__kernel=sigmoid, svc__gamma=0.01, svc__C=1, total=   0.0s\n",
      "[CV] svc__kernel=sigmoid, svc__gamma=0.01, svc__C=1 ..................\n",
      "[CV] ... svc__kernel=sigmoid, svc__gamma=0.01, svc__C=1, total=   0.0s\n",
      "[CV] svc__kernel=sigmoid, svc__gamma=0.01, svc__C=1 ..................\n",
      "[CV] ... svc__kernel=linear, svc__gamma=0.1, svc__C=100, total=   0.6s\n",
      "[CV] svc__kernel=linear, svc__gamma=0.1, svc__C=100 ..................\n",
      "[CV] ... svc__kernel=sigmoid, svc__gamma=0.01, svc__C=1, total=   0.0s\n",
      "[CV] svc__kernel=sigmoid, svc__gamma=0.01, svc__C=1 ..................\n",
      "[CV] ... svc__kernel=sigmoid, svc__gamma=0.01, svc__C=1, total=   0.0s\n",
      "[CV] svc__kernel=sigmoid, svc__gamma=0.01, svc__C=1 ..................\n",
      "[CV] ... svc__kernel=sigmoid, svc__gamma=0.01, svc__C=1, total=   0.0s\n",
      "[CV] svc__kernel=sigmoid, svc__gamma=0.01, svc__C=10 .................\n",
      "[CV] .. svc__kernel=sigmoid, svc__gamma=0.01, svc__C=10, total=   0.0s\n"
     ]
    },
    {
     "name": "stdout",
     "output_type": "stream",
     "text": [
      "[CV] svc__kernel=sigmoid, svc__gamma=0.01, svc__C=10 .................\n",
      "[CV] .. svc__kernel=sigmoid, svc__gamma=0.01, svc__C=10, total=   0.0s\n",
      "[CV] svc__kernel=sigmoid, svc__gamma=0.01, svc__C=10 .................\n",
      "[CV] .. svc__kernel=sigmoid, svc__gamma=0.01, svc__C=10, total=   0.0s\n",
      "[CV] svc__kernel=sigmoid, svc__gamma=0.01, svc__C=10 .................\n",
      "[CV] .. svc__kernel=sigmoid, svc__gamma=0.01, svc__C=10, total=   0.0s\n",
      "[CV] svc__kernel=sigmoid, svc__gamma=0.01, svc__C=10 .................\n",
      "[CV] .. svc__kernel=sigmoid, svc__gamma=0.01, svc__C=10, total=   0.0s\n",
      "[CV] svc__kernel=rbf, svc__gamma=0.01, svc__C=0.01 ...................\n",
      "[CV] ........ svc__kernel=poly, svc__gamma=1, svc__C=10, total=   1.3s\n",
      "[CV] svc__kernel=rbf, svc__gamma=0.01, svc__C=0.01 ...................\n",
      "[CV] .... svc__kernel=rbf, svc__gamma=0.01, svc__C=0.01, total=   0.0s\n",
      "[CV] svc__kernel=rbf, svc__gamma=0.01, svc__C=0.01 ...................\n",
      "[CV] .... svc__kernel=rbf, svc__gamma=0.01, svc__C=0.01, total=   0.0s\n",
      "[CV] svc__kernel=sigmoid, svc__gamma=0.1, svc__C=100 .................\n",
      "[CV] .... svc__kernel=rbf, svc__gamma=0.01, svc__C=0.01, total=   0.0s\n",
      "[CV] svc__kernel=rbf, svc__gamma=0.01, svc__C=0.01 ...................\n",
      "[CV] .. svc__kernel=sigmoid, svc__gamma=0.1, svc__C=100, total=   0.0s\n",
      "[CV] svc__kernel=sigmoid, svc__gamma=0.1, svc__C=100 .................\n",
      "[CV] ... svc__kernel=linear, svc__gamma=0.1, svc__C=100, total=   0.4s\n",
      "[CV] svc__kernel=linear, svc__gamma=0.1, svc__C=100 ..................\n",
      "[CV] .... svc__kernel=rbf, svc__gamma=0.01, svc__C=0.01, total=   0.0s\n",
      "[CV] .. svc__kernel=sigmoid, svc__gamma=0.1, svc__C=100, total=   0.0s\n",
      "[CV] svc__kernel=sigmoid, svc__gamma=0.1, svc__C=100 .................\n",
      "[CV] svc__kernel=rbf, svc__gamma=0.01, svc__C=0.01 ...................\n",
      "[CV] .. svc__kernel=sigmoid, svc__gamma=0.1, svc__C=100, total=   0.0s\n",
      "[CV] svc__kernel=sigmoid, svc__gamma=0.1, svc__C=100 .................\n",
      "[CV] .. svc__kernel=sigmoid, svc__gamma=0.1, svc__C=100, total=   0.0s\n",
      "[CV] svc__kernel=sigmoid, svc__gamma=0.1, svc__C=100 .................\n",
      "[CV] .... svc__kernel=rbf, svc__gamma=0.01, svc__C=0.01, total=   0.0s\n",
      "[CV] svc__kernel=poly, svc__gamma=0.01, svc__C=0.01 ..................\n",
      "[CV] .. svc__kernel=sigmoid, svc__gamma=0.1, svc__C=100, total=   0.0s\n",
      "[CV] svc__kernel=poly, svc__gamma=0.1, svc__C=10 .....................\n",
      "[CV] ... svc__kernel=poly, svc__gamma=0.01, svc__C=0.01, total=   0.0s\n",
      "[CV] svc__kernel=poly, svc__gamma=0.01, svc__C=0.01 ..................\n",
      "[CV] ...... svc__kernel=poly, svc__gamma=0.1, svc__C=10, total=   0.0s\n",
      "[CV] ... svc__kernel=poly, svc__gamma=0.01, svc__C=0.01, total=   0.0s\n",
      "[CV] svc__kernel=poly, svc__gamma=0.1, svc__C=10 .....................\n",
      "[CV] svc__kernel=poly, svc__gamma=0.01, svc__C=0.01 ..................\n",
      "[CV] ... svc__kernel=poly, svc__gamma=0.01, svc__C=0.01, total=   0.0s\n",
      "[CV] svc__kernel=poly, svc__gamma=0.01, svc__C=0.01 ..................\n",
      "[CV] ...... svc__kernel=poly, svc__gamma=0.1, svc__C=10, total=   0.0s\n",
      "[CV] ... svc__kernel=poly, svc__gamma=0.01, svc__C=0.01, total=   0.0s\n",
      "[CV] svc__kernel=poly, svc__gamma=0.1, svc__C=10 .....................\n",
      "[CV] svc__kernel=poly, svc__gamma=0.01, svc__C=0.01 ..................\n",
      "[CV] ... svc__kernel=poly, svc__gamma=0.01, svc__C=0.01, total=   0.0s\n",
      "[CV] svc__kernel=poly, svc__gamma=0.1, svc__C=10 .....................\n",
      "[CV] ...... svc__kernel=poly, svc__gamma=0.1, svc__C=10, total=   0.0s\n",
      "[CV] svc__kernel=poly, svc__gamma=0.1, svc__C=10 .....................\n",
      "[CV] ...... svc__kernel=poly, svc__gamma=0.1, svc__C=10, total=   0.0s\n",
      "[CV] svc__kernel=rbf, svc__gamma=0.1, svc__C=1 .......................\n",
      "[CV] ...... svc__kernel=poly, svc__gamma=0.1, svc__C=10, total=   0.0s\n",
      "[CV] svc__kernel=rbf, svc__gamma=0.1, svc__C=1 .......................\n",
      "[CV] ........ svc__kernel=rbf, svc__gamma=0.1, svc__C=1, total=   0.0s\n",
      "[CV] ........ svc__kernel=rbf, svc__gamma=0.1, svc__C=1, total=   0.0s\n",
      "[CV] svc__kernel=rbf, svc__gamma=0.1, svc__C=1 .......................\n",
      "[CV] svc__kernel=rbf, svc__gamma=0.1, svc__C=1 .......................\n",
      "[CV] ........ svc__kernel=rbf, svc__gamma=0.1, svc__C=1, total=   0.0s\n",
      "[CV] svc__kernel=rbf, svc__gamma=0.1, svc__C=10 ......................\n",
      "[CV] ........ svc__kernel=rbf, svc__gamma=0.1, svc__C=1, total=   0.0s\n",
      "[CV] svc__kernel=rbf, svc__gamma=0.1, svc__C=1 .......................\n",
      "[CV] ....... svc__kernel=rbf, svc__gamma=0.1, svc__C=10, total=   0.0s\n",
      "[CV] svc__kernel=rbf, svc__gamma=0.1, svc__C=10 ......................\n",
      "[CV] ........ svc__kernel=rbf, svc__gamma=0.1, svc__C=1, total=   0.0s\n",
      "[CV] svc__kernel=rbf, svc__gamma=0.1, svc__C=10 ......................\n",
      "[CV] ....... svc__kernel=rbf, svc__gamma=0.1, svc__C=10, total=   0.0s\n",
      "[CV] svc__kernel=poly, svc__gamma=0.001, svc__C=0.1 ..................\n",
      "[CV] ....... svc__kernel=rbf, svc__gamma=0.1, svc__C=10, total=   0.0s\n",
      "[CV] svc__kernel=rbf, svc__gamma=0.1, svc__C=10 ......................\n",
      "[CV] ... svc__kernel=poly, svc__gamma=0.001, svc__C=0.1, total=   0.0s\n",
      "[CV] svc__kernel=poly, svc__gamma=0.001, svc__C=0.1 ..................\n",
      "[CV] ....... svc__kernel=rbf, svc__gamma=0.1, svc__C=10, total=   0.0s\n",
      "[CV] svc__kernel=rbf, svc__gamma=0.1, svc__C=10 ......................\n",
      "[CV] ... svc__kernel=poly, svc__gamma=0.001, svc__C=0.1, total=   0.0s\n",
      "[CV] svc__kernel=poly, svc__gamma=0.001, svc__C=0.1 ..................\n",
      "[CV] ....... svc__kernel=rbf, svc__gamma=0.1, svc__C=10, total=   0.0s\n",
      "[CV] svc__kernel=poly, svc__gamma=0.001, svc__C=0.1 ..................\n",
      "[CV] ... svc__kernel=poly, svc__gamma=0.001, svc__C=0.1, total=   0.0s\n",
      "[CV] svc__kernel=poly, svc__gamma=0.001, svc__C=0.1 ..................\n",
      "[CV] ... svc__kernel=poly, svc__gamma=0.001, svc__C=0.1, total=   0.0s\n",
      "[CV] svc__kernel=poly, svc__gamma=0.001, svc__C=1 ....................\n",
      "[CV] ... svc__kernel=poly, svc__gamma=0.001, svc__C=0.1, total=   0.0s\n",
      "[CV] svc__kernel=poly, svc__gamma=0.01, svc__C=1 .....................\n",
      "[CV] ..... svc__kernel=poly, svc__gamma=0.001, svc__C=1, total=   0.0s\n",
      "[CV] svc__kernel=poly, svc__gamma=0.001, svc__C=1 ....................\n",
      "[CV] ..... svc__kernel=poly, svc__gamma=0.001, svc__C=1, total=   0.0s\n",
      "[CV] svc__kernel=poly, svc__gamma=0.001, svc__C=1 ....................\n",
      "[CV] ...... svc__kernel=poly, svc__gamma=0.01, svc__C=1, total=   0.0s\n",
      "[CV] svc__kernel=poly, svc__gamma=0.01, svc__C=1 .....................\n",
      "[CV] ..... svc__kernel=poly, svc__gamma=0.001, svc__C=1, total=   0.0s\n",
      "[CV] ...... svc__kernel=poly, svc__gamma=0.01, svc__C=1, total=   0.0s\n",
      "[CV] svc__kernel=poly, svc__gamma=0.001, svc__C=1 ....................\n",
      "[CV] svc__kernel=poly, svc__gamma=0.01, svc__C=1 .....................\n",
      "[CV] ... svc__kernel=linear, svc__gamma=0.1, svc__C=100, total=   0.6s\n",
      "[CV] svc__kernel=linear, svc__gamma=0.1, svc__C=100 ..................\n",
      "[CV] ...... svc__kernel=poly, svc__gamma=0.01, svc__C=1, total=   0.0s\n",
      "[CV] svc__kernel=poly, svc__gamma=0.01, svc__C=1 .....................\n",
      "[CV] ..... svc__kernel=poly, svc__gamma=0.001, svc__C=1, total=   0.0s\n",
      "[CV] svc__kernel=poly, svc__gamma=0.001, svc__C=1 ....................\n",
      "[CV] ..... svc__kernel=poly, svc__gamma=0.001, svc__C=1, total=   0.0s\n",
      "[CV] svc__kernel=rbf, svc__gamma=1, svc__C=0.01 ......................\n",
      "[CV] ...... svc__kernel=poly, svc__gamma=0.01, svc__C=1, total=   0.0s\n",
      "[CV] svc__kernel=poly, svc__gamma=0.01, svc__C=1 .....................\n",
      "[CV] ...... svc__kernel=poly, svc__gamma=0.01, svc__C=1, total=   0.0s\n",
      "[CV] svc__kernel=rbf, svc__gamma=1, svc__C=0.01 ......................\n",
      "[CV] ....... svc__kernel=rbf, svc__gamma=1, svc__C=0.01, total=   0.0s\n",
      "[CV] svc__kernel=rbf, svc__gamma=1, svc__C=0.01 ......................\n",
      "[CV] ....... svc__kernel=rbf, svc__gamma=1, svc__C=0.01, total=   0.0s\n",
      "[CV] ....... svc__kernel=rbf, svc__gamma=1, svc__C=0.01, total=   0.0s\n",
      "[CV] svc__kernel=poly, svc__gamma=0.001, svc__C=10 ...................\n",
      "[CV] svc__kernel=rbf, svc__gamma=1, svc__C=0.01 ......................\n",
      "[CV] .... svc__kernel=poly, svc__gamma=0.001, svc__C=10, total=   0.0s\n",
      "[CV] svc__kernel=poly, svc__gamma=0.001, svc__C=10 ...................\n",
      "[CV] .... svc__kernel=poly, svc__gamma=0.001, svc__C=10, total=   0.0s\n",
      "[CV] ....... svc__kernel=rbf, svc__gamma=1, svc__C=0.01, total=   0.0s\n",
      "[CV] svc__kernel=poly, svc__gamma=0.001, svc__C=10 ...................\n"
     ]
    },
    {
     "name": "stdout",
     "output_type": "stream",
     "text": [
      "[CV] svc__kernel=rbf, svc__gamma=1, svc__C=0.01 ......................\n",
      "[CV] .... svc__kernel=poly, svc__gamma=0.001, svc__C=10, total=   0.0s\n",
      "[CV] svc__kernel=poly, svc__gamma=0.1, svc__C=0.01 ...................\n",
      "[CV] .... svc__kernel=poly, svc__gamma=0.1, svc__C=0.01, total=   0.0s\n",
      "[CV] svc__kernel=poly, svc__gamma=0.1, svc__C=0.01 ...................\n",
      "[CV] ....... svc__kernel=rbf, svc__gamma=1, svc__C=0.01, total=   0.0s\n",
      "[CV] svc__kernel=poly, svc__gamma=0.001, svc__C=10 ...................\n",
      "[CV] .... svc__kernel=poly, svc__gamma=0.1, svc__C=0.01, total=   0.0s\n",
      "[CV] svc__kernel=poly, svc__gamma=0.1, svc__C=0.01 ...................\n",
      "[CV] .... svc__kernel=poly, svc__gamma=0.001, svc__C=10, total=   0.0s\n",
      "[CV] svc__kernel=poly, svc__gamma=0.001, svc__C=10 ...................\n",
      "[CV] .... svc__kernel=poly, svc__gamma=0.1, svc__C=0.01, total=   0.0s\n",
      "[CV] .... svc__kernel=poly, svc__gamma=0.001, svc__C=10, total=   0.0s\n",
      "[CV] svc__kernel=poly, svc__gamma=0.1, svc__C=0.01 ...................\n",
      "[CV] svc__kernel=linear, svc__gamma=1, svc__C=10 .....................\n",
      "[CV] .... svc__kernel=poly, svc__gamma=0.1, svc__C=0.01, total=   0.0s\n",
      "[CV] svc__kernel=poly, svc__gamma=0.1, svc__C=0.01 ...................\n",
      "[CV] .... svc__kernel=poly, svc__gamma=0.1, svc__C=0.01, total=   0.0s\n",
      "[CV] svc__kernel=linear, svc__gamma=1, svc__C=10 .....................\n",
      "[CV] ...... svc__kernel=linear, svc__gamma=1, svc__C=10, total=   0.0s\n",
      "[CV] svc__kernel=rbf, svc__gamma=0.1, svc__C=0.1 .....................\n",
      "[CV] ........ svc__kernel=poly, svc__gamma=1, svc__C=10, total=   1.5s\n",
      "[CV] svc__kernel=poly, svc__gamma=1, svc__C=10 .......................\n",
      "[CV] ...... svc__kernel=rbf, svc__gamma=0.1, svc__C=0.1, total=   0.0s\n",
      "[CV] svc__kernel=rbf, svc__gamma=0.1, svc__C=0.1 .....................\n",
      "[CV] ...... svc__kernel=rbf, svc__gamma=0.1, svc__C=0.1, total=   0.0s\n",
      "[CV] svc__kernel=rbf, svc__gamma=0.1, svc__C=0.1 .....................\n",
      "[CV] ...... svc__kernel=linear, svc__gamma=1, svc__C=10, total=   0.1s\n",
      "[CV] svc__kernel=linear, svc__gamma=1, svc__C=10 .....................\n",
      "[CV] ...... svc__kernel=rbf, svc__gamma=0.1, svc__C=0.1, total=   0.0s\n",
      "[CV] svc__kernel=rbf, svc__gamma=0.1, svc__C=0.1 .....................\n",
      "[CV] ...... svc__kernel=linear, svc__gamma=1, svc__C=10, total=   0.1s\n",
      "[CV] svc__kernel=linear, svc__gamma=1, svc__C=10 .....................\n",
      "[CV] ...... svc__kernel=rbf, svc__gamma=0.1, svc__C=0.1, total=   0.0s\n",
      "[CV] svc__kernel=rbf, svc__gamma=0.1, svc__C=0.1 .....................\n",
      "[CV] ...... svc__kernel=rbf, svc__gamma=0.1, svc__C=0.1, total=   0.0s\n",
      "[CV] svc__kernel=rbf, svc__gamma=0.001, svc__C=1 .....................\n",
      "[CV] ...... svc__kernel=linear, svc__gamma=1, svc__C=10, total=   0.1s\n",
      "[CV] svc__kernel=linear, svc__gamma=1, svc__C=10 .....................\n",
      "[CV] ...... svc__kernel=rbf, svc__gamma=0.001, svc__C=1, total=   0.0s\n",
      "[CV] svc__kernel=rbf, svc__gamma=0.001, svc__C=1 .....................\n",
      "[CV] ...... svc__kernel=linear, svc__gamma=1, svc__C=10, total=   0.0s\n",
      "[CV] svc__kernel=linear, svc__gamma=0.01, svc__C=10 ..................\n",
      "[CV] ...... svc__kernel=rbf, svc__gamma=0.001, svc__C=1, total=   0.0s\n",
      "[CV] svc__kernel=rbf, svc__gamma=0.001, svc__C=1 .....................\n",
      "[CV] ... svc__kernel=linear, svc__gamma=0.1, svc__C=100, total=   0.7s\n",
      "[CV] svc__kernel=linear, svc__gamma=0.1, svc__C=100 ..................\n",
      "[CV] ...... svc__kernel=rbf, svc__gamma=0.001, svc__C=1, total=   0.0s\n",
      "[CV] svc__kernel=rbf, svc__gamma=0.001, svc__C=1 .....................\n",
      "[CV] ... svc__kernel=linear, svc__gamma=0.01, svc__C=10, total=   0.1s\n",
      "[CV] svc__kernel=linear, svc__gamma=0.01, svc__C=10 ..................\n",
      "[CV] ...... svc__kernel=rbf, svc__gamma=0.001, svc__C=1, total=   0.0s\n",
      "[CV] svc__kernel=rbf, svc__gamma=0.001, svc__C=1 .....................\n",
      "[CV] ...... svc__kernel=rbf, svc__gamma=0.001, svc__C=1, total=   0.0s\n",
      "[CV] svc__kernel=linear, svc__gamma=0.01, svc__C=10 ..................\n",
      "[CV] ... svc__kernel=linear, svc__gamma=0.01, svc__C=10, total=   0.1s\n",
      "[CV] svc__kernel=linear, svc__gamma=0.01, svc__C=10 ..................\n",
      "[CV] ... svc__kernel=linear, svc__gamma=0.01, svc__C=10, total=   0.1s\n",
      "[CV] svc__kernel=linear, svc__gamma=0.01, svc__C=10 ..................\n",
      "[CV] ... svc__kernel=linear, svc__gamma=0.01, svc__C=10, total=   0.1s\n",
      "[CV] svc__kernel=sigmoid, svc__gamma=0.001, svc__C=100 ...............\n",
      "[CV]  svc__kernel=sigmoid, svc__gamma=0.001, svc__C=100, total=   0.0s\n",
      "[CV] svc__kernel=sigmoid, svc__gamma=0.001, svc__C=100 ...............\n",
      "[CV] ... svc__kernel=linear, svc__gamma=0.01, svc__C=10, total=   0.0s\n",
      "[CV] svc__kernel=sigmoid, svc__gamma=0.001, svc__C=100 ...............\n",
      "[CV]  svc__kernel=sigmoid, svc__gamma=0.001, svc__C=100, total=   0.0s\n",
      "[CV] svc__kernel=sigmoid, svc__gamma=0.001, svc__C=100 ...............\n",
      "[CV] ... svc__kernel=linear, svc__gamma=0.1, svc__C=100, total=   0.3s\n",
      "[CV] svc__kernel=rbf, svc__gamma=0.001, svc__C=0.1 ...................\n",
      "[CV]  svc__kernel=sigmoid, svc__gamma=0.001, svc__C=100, total=   0.1s\n",
      "[CV] svc__kernel=sigmoid, svc__gamma=0.001, svc__C=100 ...............\n",
      "[CV]  svc__kernel=sigmoid, svc__gamma=0.001, svc__C=100, total=   0.0s\n",
      "[CV] svc__kernel=linear, svc__gamma=0.001, svc__C=100 ................\n",
      "[CV] .... svc__kernel=rbf, svc__gamma=0.001, svc__C=0.1, total=   0.0s\n",
      "[CV] svc__kernel=rbf, svc__gamma=0.001, svc__C=0.1 ...................\n",
      "[CV]  svc__kernel=sigmoid, svc__gamma=0.001, svc__C=100, total=   0.0s\n",
      "[CV] svc__kernel=rbf, svc__gamma=0.001, svc__C=0.1 ...................\n",
      "[CV] .... svc__kernel=rbf, svc__gamma=0.001, svc__C=0.1, total=   0.0s\n",
      "[CV] svc__kernel=linear, svc__gamma=0.001, svc__C=100 ................\n",
      "[CV] .... svc__kernel=rbf, svc__gamma=0.001, svc__C=0.1, total=   0.0s\n",
      "[CV] svc__kernel=rbf, svc__gamma=0.001, svc__C=0.1 ...................\n",
      "[CV] .... svc__kernel=rbf, svc__gamma=0.001, svc__C=0.1, total=   0.0s\n",
      "[CV] svc__kernel=rbf, svc__gamma=0.001, svc__C=0.1 ...................\n",
      "[CV] .... svc__kernel=rbf, svc__gamma=0.001, svc__C=0.1, total=   0.0s\n",
      "[CV] svc__kernel=sigmoid, svc__gamma=0.001, svc__C=0.01 ..............\n",
      "[CV] ........ svc__kernel=poly, svc__gamma=1, svc__C=10, total=   0.9s\n",
      "[CV] svc__kernel=poly, svc__gamma=1, svc__C=10 .......................\n",
      "[CV]  svc__kernel=sigmoid, svc__gamma=0.001, svc__C=0.01, total=   0.0s\n",
      "[CV] svc__kernel=sigmoid, svc__gamma=0.001, svc__C=0.01 ..............\n",
      "[CV] . svc__kernel=linear, svc__gamma=0.001, svc__C=100, total=   0.3s\n",
      "[CV] svc__kernel=sigmoid, svc__gamma=1, svc__C=10 ....................\n",
      "[CV]  svc__kernel=sigmoid, svc__gamma=0.001, svc__C=0.01, total=   0.0s\n",
      "[CV] svc__kernel=sigmoid, svc__gamma=0.001, svc__C=0.01 ..............\n",
      "[CV] ..... svc__kernel=sigmoid, svc__gamma=1, svc__C=10, total=   0.0s\n",
      "[CV] svc__kernel=sigmoid, svc__gamma=1, svc__C=10 ....................\n",
      "[CV]  svc__kernel=sigmoid, svc__gamma=0.001, svc__C=0.01, total=   0.0s\n",
      "[CV] svc__kernel=sigmoid, svc__gamma=0.001, svc__C=0.01 ..............\n",
      "[CV]  svc__kernel=sigmoid, svc__gamma=0.001, svc__C=0.01, total=   0.0s\n",
      "[CV] svc__kernel=sigmoid, svc__gamma=0.001, svc__C=0.01 ..............\n",
      "[CV] ..... svc__kernel=sigmoid, svc__gamma=1, svc__C=10, total=   0.0s\n",
      "[CV] svc__kernel=sigmoid, svc__gamma=1, svc__C=10 ....................\n",
      "[CV] ..... svc__kernel=sigmoid, svc__gamma=1, svc__C=10, total=   0.0s\n",
      "[CV] svc__kernel=sigmoid, svc__gamma=1, svc__C=10 ....................\n",
      "[CV]  svc__kernel=sigmoid, svc__gamma=0.001, svc__C=0.01, total=   0.0s\n",
      "[CV] svc__kernel=linear, svc__gamma=0.01, svc__C=0.1 .................\n",
      "[CV] .. svc__kernel=linear, svc__gamma=0.01, svc__C=0.1, total=   0.0s\n",
      "[CV] svc__kernel=linear, svc__gamma=0.01, svc__C=0.1 .................\n",
      "[CV] .. svc__kernel=linear, svc__gamma=0.01, svc__C=0.1, total=   0.0s\n",
      "[CV] svc__kernel=linear, svc__gamma=0.01, svc__C=0.1 .................\n",
      "[CV] ..... svc__kernel=sigmoid, svc__gamma=1, svc__C=10, total=   0.0s\n",
      "[CV] svc__kernel=sigmoid, svc__gamma=1, svc__C=10 ....................\n",
      "[CV] .. svc__kernel=linear, svc__gamma=0.01, svc__C=0.1, total=   0.0s\n",
      "[CV] svc__kernel=linear, svc__gamma=0.01, svc__C=0.1 .................\n",
      "[CV] .. svc__kernel=linear, svc__gamma=0.01, svc__C=0.1, total=   0.0s\n",
      "[CV] svc__kernel=linear, svc__gamma=0.01, svc__C=0.1 .................\n",
      "[CV] ..... svc__kernel=sigmoid, svc__gamma=1, svc__C=10, total=   0.0s\n"
     ]
    },
    {
     "name": "stdout",
     "output_type": "stream",
     "text": [
      "[CV] svc__kernel=poly, svc__gamma=0.1, svc__C=0.1 ....................\n",
      "[CV] .. svc__kernel=linear, svc__gamma=0.01, svc__C=0.1, total=   0.0s\n",
      "[CV] svc__kernel=poly, svc__gamma=0.1, svc__C=0.1 ....................\n",
      "[CV] ..... svc__kernel=poly, svc__gamma=0.1, svc__C=0.1, total=   0.0s\n",
      "[CV] svc__kernel=poly, svc__gamma=0.1, svc__C=0.1 ....................\n",
      "[CV] ..... svc__kernel=poly, svc__gamma=0.1, svc__C=0.1, total=   0.0s\n",
      "[CV] svc__kernel=poly, svc__gamma=0.1, svc__C=0.1 ....................\n",
      "[CV] ..... svc__kernel=poly, svc__gamma=0.1, svc__C=0.1, total=   0.0s\n",
      "[CV] svc__kernel=poly, svc__gamma=0.1, svc__C=0.1 ....................\n",
      "[CV] ..... svc__kernel=poly, svc__gamma=0.1, svc__C=0.1, total=   0.0s\n",
      "[CV] svc__kernel=rbf, svc__gamma=1, svc__C=0.1 .......................\n",
      "[CV] ..... svc__kernel=poly, svc__gamma=0.1, svc__C=0.1, total=   0.0s\n",
      "[CV] svc__kernel=rbf, svc__gamma=1, svc__C=0.1 .......................\n",
      "[CV] ........ svc__kernel=rbf, svc__gamma=1, svc__C=0.1, total=   0.0s\n",
      "[CV] svc__kernel=rbf, svc__gamma=1, svc__C=0.1 .......................\n"
     ]
    },
    {
     "name": "stderr",
     "output_type": "stream",
     "text": [
      "[Parallel(n_jobs=4)]: Done 158 tasks      | elapsed:    3.7s\n"
     ]
    },
    {
     "name": "stdout",
     "output_type": "stream",
     "text": [
      "[CV] . svc__kernel=linear, svc__gamma=0.001, svc__C=100, total=   0.6s\n",
      "[CV] svc__kernel=linear, svc__gamma=0.001, svc__C=100 ................\n",
      "[CV] ........ svc__kernel=rbf, svc__gamma=1, svc__C=0.1, total=   0.0s\n",
      "[CV] svc__kernel=rbf, svc__gamma=1, svc__C=0.1 .......................\n",
      "[CV] ........ svc__kernel=rbf, svc__gamma=1, svc__C=0.1, total=   0.0s\n",
      "[CV] svc__kernel=poly, svc__gamma=0.1, svc__C=1 ......................\n",
      "[CV] ........ svc__kernel=rbf, svc__gamma=1, svc__C=0.1, total=   0.0s\n",
      "[CV] svc__kernel=rbf, svc__gamma=1, svc__C=0.1 .......................\n",
      "[CV] ....... svc__kernel=poly, svc__gamma=0.1, svc__C=1, total=   0.0s\n",
      "[CV] svc__kernel=poly, svc__gamma=0.1, svc__C=1 ......................\n",
      "[CV] ....... svc__kernel=poly, svc__gamma=0.1, svc__C=1, total=   0.0s\n",
      "[CV] svc__kernel=poly, svc__gamma=0.1, svc__C=1 ......................\n",
      "[CV] ........ svc__kernel=rbf, svc__gamma=1, svc__C=0.1, total=   0.0s\n",
      "[CV] svc__kernel=poly, svc__gamma=0.1, svc__C=1 ......................\n",
      "[CV] ....... svc__kernel=poly, svc__gamma=0.1, svc__C=1, total=   0.0s\n",
      "[CV] svc__kernel=poly, svc__gamma=0.1, svc__C=1 ......................\n",
      "[CV] ....... svc__kernel=poly, svc__gamma=0.1, svc__C=1, total=   0.0s\n",
      "[CV] svc__kernel=poly, svc__gamma=1, svc__C=100 ......................\n",
      "[CV] ....... svc__kernel=poly, svc__gamma=0.1, svc__C=1, total=   0.0s\n",
      "[CV] . svc__kernel=linear, svc__gamma=0.001, svc__C=100, total=   0.4s\n",
      "[CV] svc__kernel=linear, svc__gamma=0.001, svc__C=100 ................\n",
      "[CV] . svc__kernel=linear, svc__gamma=0.001, svc__C=100, total=   0.4s\n",
      "[CV] svc__kernel=linear, svc__gamma=0.001, svc__C=100 ................\n",
      "[CV] ........ svc__kernel=poly, svc__gamma=1, svc__C=10, total=   1.7s\n",
      "[CV] svc__kernel=rbf, svc__gamma=0.01, svc__C=1 ......................\n",
      "[CV] ....... svc__kernel=rbf, svc__gamma=0.01, svc__C=1, total=   0.0s\n",
      "[CV] svc__kernel=rbf, svc__gamma=0.01, svc__C=1 ......................\n",
      "[CV] ....... svc__kernel=rbf, svc__gamma=0.01, svc__C=1, total=   0.0s\n",
      "[CV] . svc__kernel=linear, svc__gamma=0.001, svc__C=100, total=   0.5s\n",
      "[CV] ....... svc__kernel=poly, svc__gamma=1, svc__C=100, total=   8.5s\n",
      "[CV] svc__kernel=poly, svc__gamma=1, svc__C=100 ......................\n",
      "[CV] ....... svc__kernel=poly, svc__gamma=1, svc__C=100, total=   6.4s\n",
      "[CV] svc__kernel=poly, svc__gamma=1, svc__C=100 ......................\n",
      "[CV] ....... svc__kernel=poly, svc__gamma=1, svc__C=100, total=   7.4s\n",
      "[CV] svc__kernel=poly, svc__gamma=1, svc__C=100 ......................\n",
      "[CV] ....... svc__kernel=poly, svc__gamma=1, svc__C=100, total=   4.0s\n",
      "[CV] svc__kernel=poly, svc__gamma=1, svc__C=100 ......................\n",
      "[CV] ....... svc__kernel=poly, svc__gamma=1, svc__C=100, total=   6.7s\n"
     ]
    },
    {
     "name": "stderr",
     "output_type": "stream",
     "text": [
      "[Parallel(n_jobs=4)]: Done 200 out of 200 | elapsed:   37.1s finished\n"
     ]
    },
    {
     "data": {
      "text/plain": [
       "RandomizedSearchCV(cv=5, error_score='raise',\n",
       "          estimator=Pipeline(memory=None,\n",
       "     steps=[('standardscaler', StandardScaler(copy=True, with_mean=True, with_std=True)), ('svc', SVC(C=1.0, cache_size=200, class_weight=None, coef0=0.0,\n",
       "  decision_function_shape='ovr', degree=3, gamma='auto', kernel='rbf',\n",
       "  max_iter=-1, probability=False, random_state=None, shrinking=True,\n",
       "  tol=0.001, verbose=False))]),\n",
       "          fit_params=None, iid=True, n_iter=40, n_jobs=4,\n",
       "          param_distributions={'svc__kernel': ['linear', 'rbf', 'poly', 'sigmoid'], 'svc__C': [0.01, 0.1, 1, 10, 100], 'svc__gamma': [0.001, 0.01, 0.1, 1]},\n",
       "          pre_dispatch='2*n_jobs', random_state=None, refit=True,\n",
       "          return_train_score='warn', scoring=None, verbose=2)"
      ]
     },
     "execution_count": 161,
     "metadata": {},
     "output_type": "execute_result"
    }
   ],
   "source": [
    "clf2.fit(X_train, y_train)"
   ]
  },
  {
   "cell_type": "code",
   "execution_count": 163,
   "metadata": {
    "scrolled": true
   },
   "outputs": [
    {
     "name": "stdout",
     "output_type": "stream",
     "text": [
      "Model with rank: 1\n",
      "Mean validation score: 0.820 (std: 0.020)\n",
      "Parameters:\n",
      "{'svc__C': 1, 'svc__gamma': 0.1, 'svc__kernel': 'rbf'}\n",
      "\n",
      "Model with rank: 2\n",
      "Mean validation score: 0.804 (std: 0.011)\n",
      "Parameters:\n",
      "{'svc__C': 0.1, 'svc__gamma': 0.1, 'svc__kernel': 'rbf'}\n",
      "\n",
      "Model with rank: 3\n",
      "Mean validation score: 0.799 (std: 0.032)\n",
      "Parameters:\n",
      "{'svc__C': 1, 'svc__gamma': 0.1, 'svc__kernel': 'poly'}\n",
      "\n",
      "Best model score on whole training set: 0.845\n"
     ]
    }
   ],
   "source": [
    "report(clf2.cv_results_, 3)\n",
    "print(\"Best model score on whole training set: {0:.3f}\".format(clf2.score(X_train, y_train)))"
   ]
  },
  {
   "cell_type": "markdown",
   "metadata": {},
   "source": [
    "### Boosted Trees"
   ]
  },
  {
   "cell_type": "code",
   "execution_count": 174,
   "metadata": {},
   "outputs": [],
   "source": [
    "param_dist = dict(adaboostclassifier__learning_rate=[0.01, 0.1, 0.5, 1.0],\n",
    "                  adaboostclassifier__n_estimators=[50, 100, 250, 500],\n",
    "                 )\n",
    "\n",
    "pipeline = make_pipeline(preprocessing.StandardScaler(),\n",
    "                         AdaBoostClassifier()\n",
    "                        )\n",
    "\n",
    "clf3 = GridSearchCV(pipeline,\n",
    "                     param_grid=param_dist,\n",
    "                     n_jobs=4,\n",
    "                     cv=5,\n",
    "                     verbose=2)"
   ]
  },
  {
   "cell_type": "code",
   "execution_count": 175,
   "metadata": {},
   "outputs": [
    {
     "name": "stdout",
     "output_type": "stream",
     "text": [
      "Fitting 5 folds for each of 16 candidates, totalling 80 fits\n",
      "[CV] adaboostclassifier__learning_rate=0.01, adaboostclassifier__n_estimators=50 \n",
      "[CV] adaboostclassifier__learning_rate=0.01, adaboostclassifier__n_estimators=50 \n",
      "[CV] adaboostclassifier__learning_rate=0.01, adaboostclassifier__n_estimators=50 \n",
      "[CV] adaboostclassifier__learning_rate=0.01, adaboostclassifier__n_estimators=50 \n",
      "[CV]  adaboostclassifier__learning_rate=0.01, adaboostclassifier__n_estimators=50, total=   0.1s\n",
      "[CV] adaboostclassifier__learning_rate=0.01, adaboostclassifier__n_estimators=50 \n",
      "[CV]  adaboostclassifier__learning_rate=0.01, adaboostclassifier__n_estimators=50, total=   0.1s\n",
      "[CV] adaboostclassifier__learning_rate=0.01, adaboostclassifier__n_estimators=100 \n",
      "[CV]  adaboostclassifier__learning_rate=0.01, adaboostclassifier__n_estimators=50, total=   0.1s\n",
      "[CV] adaboostclassifier__learning_rate=0.01, adaboostclassifier__n_estimators=100 \n",
      "[CV]  adaboostclassifier__learning_rate=0.01, adaboostclassifier__n_estimators=50, total=   0.1s\n",
      "[CV] adaboostclassifier__learning_rate=0.01, adaboostclassifier__n_estimators=100 \n",
      "[CV]  adaboostclassifier__learning_rate=0.01, adaboostclassifier__n_estimators=50, total=   0.1s\n",
      "[CV] adaboostclassifier__learning_rate=0.01, adaboostclassifier__n_estimators=100 \n",
      "[CV]  adaboostclassifier__learning_rate=0.01, adaboostclassifier__n_estimators=100, total=   0.2s\n",
      "[CV] adaboostclassifier__learning_rate=0.01, adaboostclassifier__n_estimators=250 \n",
      "[CV]  adaboostclassifier__learning_rate=0.01, adaboostclassifier__n_estimators=100, total=   0.2s\n",
      "[CV] adaboostclassifier__learning_rate=0.01, adaboostclassifier__n_estimators=250 \n",
      "[CV]  adaboostclassifier__learning_rate=0.01, adaboostclassifier__n_estimators=100, total=   0.2s\n",
      "[CV] adaboostclassifier__learning_rate=0.01, adaboostclassifier__n_estimators=250 \n",
      "[CV]  adaboostclassifier__learning_rate=0.01, adaboostclassifier__n_estimators=100, total=   0.2s\n",
      "[CV] adaboostclassifier__learning_rate=0.01, adaboostclassifier__n_estimators=100 \n",
      "[CV]  adaboostclassifier__learning_rate=0.01, adaboostclassifier__n_estimators=100, total=   0.2s\n",
      "[CV] adaboostclassifier__learning_rate=0.01, adaboostclassifier__n_estimators=500 \n",
      "[CV]  adaboostclassifier__learning_rate=0.01, adaboostclassifier__n_estimators=250, total=   0.4s\n",
      "[CV] adaboostclassifier__learning_rate=0.01, adaboostclassifier__n_estimators=500 \n",
      "[CV]  adaboostclassifier__learning_rate=0.01, adaboostclassifier__n_estimators=250, total=   0.4s\n",
      "[CV] adaboostclassifier__learning_rate=0.01, adaboostclassifier__n_estimators=250 \n",
      "[CV]  adaboostclassifier__learning_rate=0.01, adaboostclassifier__n_estimators=250, total=   0.4s\n",
      "[CV] adaboostclassifier__learning_rate=0.01, adaboostclassifier__n_estimators=250 \n",
      "[CV]  adaboostclassifier__learning_rate=0.01, adaboostclassifier__n_estimators=250, total=   0.4s\n",
      "[CV] adaboostclassifier__learning_rate=0.01, adaboostclassifier__n_estimators=500 \n",
      "[CV]  adaboostclassifier__learning_rate=0.01, adaboostclassifier__n_estimators=250, total=   0.4s\n",
      "[CV] adaboostclassifier__learning_rate=0.1, adaboostclassifier__n_estimators=50 \n",
      "[CV]  adaboostclassifier__learning_rate=0.1, adaboostclassifier__n_estimators=50, total=   0.1s\n",
      "[CV] adaboostclassifier__learning_rate=0.1, adaboostclassifier__n_estimators=50 \n",
      "[CV]  adaboostclassifier__learning_rate=0.01, adaboostclassifier__n_estimators=500, total=   0.8s\n",
      "[CV] adaboostclassifier__learning_rate=0.01, adaboostclassifier__n_estimators=500 \n",
      "[CV]  adaboostclassifier__learning_rate=0.1, adaboostclassifier__n_estimators=50, total=   0.1s\n",
      "[CV] adaboostclassifier__learning_rate=0.1, adaboostclassifier__n_estimators=50 \n",
      "[CV]  adaboostclassifier__learning_rate=0.1, adaboostclassifier__n_estimators=50, total=   0.1s\n",
      "[CV] adaboostclassifier__learning_rate=0.1, adaboostclassifier__n_estimators=50 \n",
      "[CV]  adaboostclassifier__learning_rate=0.1, adaboostclassifier__n_estimators=50, total=   0.1s\n",
      "[CV] adaboostclassifier__learning_rate=0.1, adaboostclassifier__n_estimators=50 \n",
      "[CV]  adaboostclassifier__learning_rate=0.01, adaboostclassifier__n_estimators=500, total=   0.8s\n",
      "[CV] adaboostclassifier__learning_rate=0.1, adaboostclassifier__n_estimators=100 \n",
      "[CV]  adaboostclassifier__learning_rate=0.1, adaboostclassifier__n_estimators=50, total=   0.1s\n",
      "[CV] adaboostclassifier__learning_rate=0.1, adaboostclassifier__n_estimators=100 \n",
      "[CV]  adaboostclassifier__learning_rate=0.1, adaboostclassifier__n_estimators=100, total=   0.2s\n",
      "[CV] adaboostclassifier__learning_rate=0.1, adaboostclassifier__n_estimators=100 \n",
      "[CV]  adaboostclassifier__learning_rate=0.1, adaboostclassifier__n_estimators=100, total=   0.2s\n",
      "[CV] adaboostclassifier__learning_rate=0.1, adaboostclassifier__n_estimators=100 \n",
      "[CV]  adaboostclassifier__learning_rate=0.1, adaboostclassifier__n_estimators=100, total=   0.2s\n",
      "[CV] adaboostclassifier__learning_rate=0.1, adaboostclassifier__n_estimators=250 \n",
      "[CV]  adaboostclassifier__learning_rate=0.01, adaboostclassifier__n_estimators=500, total=   0.9s\n",
      "[CV] adaboostclassifier__learning_rate=0.01, adaboostclassifier__n_estimators=500 \n",
      "[CV]  adaboostclassifier__learning_rate=0.1, adaboostclassifier__n_estimators=100, total=   0.2s\n",
      "[CV] adaboostclassifier__learning_rate=0.1, adaboostclassifier__n_estimators=100 \n",
      "[CV]  adaboostclassifier__learning_rate=0.1, adaboostclassifier__n_estimators=100, total=   0.1s\n",
      "[CV] adaboostclassifier__learning_rate=0.1, adaboostclassifier__n_estimators=250 \n",
      "[CV]  adaboostclassifier__learning_rate=0.01, adaboostclassifier__n_estimators=500, total=   0.9s\n",
      "[CV] adaboostclassifier__learning_rate=0.1, adaboostclassifier__n_estimators=250 \n",
      "[CV]  adaboostclassifier__learning_rate=0.1, adaboostclassifier__n_estimators=250, total=   0.4s\n",
      "[CV] adaboostclassifier__learning_rate=0.1, adaboostclassifier__n_estimators=250 \n",
      "[CV]  adaboostclassifier__learning_rate=0.1, adaboostclassifier__n_estimators=250, total=   0.4s\n",
      "[CV] adaboostclassifier__learning_rate=0.1, adaboostclassifier__n_estimators=250 \n",
      "[CV]  adaboostclassifier__learning_rate=0.1, adaboostclassifier__n_estimators=250, total=   0.4s\n",
      "[CV] adaboostclassifier__learning_rate=0.1, adaboostclassifier__n_estimators=500 \n",
      "[CV]  adaboostclassifier__learning_rate=0.1, adaboostclassifier__n_estimators=250, total=   0.4s\n",
      "[CV] adaboostclassifier__learning_rate=0.1, adaboostclassifier__n_estimators=500 \n",
      "[CV]  adaboostclassifier__learning_rate=0.01, adaboostclassifier__n_estimators=500, total=   0.8s\n",
      "[CV] adaboostclassifier__learning_rate=0.1, adaboostclassifier__n_estimators=500 \n",
      "[CV]  adaboostclassifier__learning_rate=0.1, adaboostclassifier__n_estimators=250, total=   0.5s\n",
      "[CV] adaboostclassifier__learning_rate=0.5, adaboostclassifier__n_estimators=50 \n",
      "[CV]  adaboostclassifier__learning_rate=0.5, adaboostclassifier__n_estimators=50, total=   0.1s\n",
      "[CV] adaboostclassifier__learning_rate=0.5, adaboostclassifier__n_estimators=50 \n",
      "[CV]  adaboostclassifier__learning_rate=0.5, adaboostclassifier__n_estimators=50, total=   0.1s\n",
      "[CV] adaboostclassifier__learning_rate=0.5, adaboostclassifier__n_estimators=50 \n",
      "[CV]  adaboostclassifier__learning_rate=0.5, adaboostclassifier__n_estimators=50, total=   0.1s\n",
      "[CV] adaboostclassifier__learning_rate=0.5, adaboostclassifier__n_estimators=50 \n",
      "[CV]  adaboostclassifier__learning_rate=0.1, adaboostclassifier__n_estimators=500, total=   0.8s\n",
      "[CV] adaboostclassifier__learning_rate=0.5, adaboostclassifier__n_estimators=50 \n",
      "[CV]  adaboostclassifier__learning_rate=0.5, adaboostclassifier__n_estimators=50, total=   0.1s\n",
      "[CV] adaboostclassifier__learning_rate=0.5, adaboostclassifier__n_estimators=100 \n",
      "[CV]  adaboostclassifier__learning_rate=0.5, adaboostclassifier__n_estimators=50, total=   0.1s\n",
      "[CV] adaboostclassifier__learning_rate=0.5, adaboostclassifier__n_estimators=100 \n",
      "[CV]  adaboostclassifier__learning_rate=0.1, adaboostclassifier__n_estimators=500, total=   0.8s\n",
      "[CV] adaboostclassifier__learning_rate=0.1, adaboostclassifier__n_estimators=500 \n",
      "[CV]  adaboostclassifier__learning_rate=0.1, adaboostclassifier__n_estimators=500, total=   0.8s\n",
      "[CV] adaboostclassifier__learning_rate=0.1, adaboostclassifier__n_estimators=500 \n",
      "[CV]  adaboostclassifier__learning_rate=0.5, adaboostclassifier__n_estimators=100, total=   0.2s\n"
     ]
    },
    {
     "name": "stdout",
     "output_type": "stream",
     "text": [
      "[CV] adaboostclassifier__learning_rate=0.5, adaboostclassifier__n_estimators=100 \n",
      "[CV]  adaboostclassifier__learning_rate=0.5, adaboostclassifier__n_estimators=100, total=   0.2s\n",
      "[CV] adaboostclassifier__learning_rate=0.5, adaboostclassifier__n_estimators=100 \n",
      "[CV]  adaboostclassifier__learning_rate=0.5, adaboostclassifier__n_estimators=100, total=   0.2s\n",
      "[CV] adaboostclassifier__learning_rate=0.5, adaboostclassifier__n_estimators=250 \n",
      "[CV]  adaboostclassifier__learning_rate=0.5, adaboostclassifier__n_estimators=100, total=   0.2s\n",
      "[CV] adaboostclassifier__learning_rate=0.5, adaboostclassifier__n_estimators=100 \n",
      "[CV]  adaboostclassifier__learning_rate=0.5, adaboostclassifier__n_estimators=100, total=   0.2s\n",
      "[CV] adaboostclassifier__learning_rate=0.5, adaboostclassifier__n_estimators=250 \n",
      "[CV]  adaboostclassifier__learning_rate=0.5, adaboostclassifier__n_estimators=250, total=   0.4s\n",
      "[CV] adaboostclassifier__learning_rate=0.5, adaboostclassifier__n_estimators=250 \n",
      "[CV]  adaboostclassifier__learning_rate=0.1, adaboostclassifier__n_estimators=500, total=   0.8s\n",
      "[CV] adaboostclassifier__learning_rate=0.5, adaboostclassifier__n_estimators=250 \n",
      "[CV]  adaboostclassifier__learning_rate=0.1, adaboostclassifier__n_estimators=500, total=   0.8s\n",
      "[CV] adaboostclassifier__learning_rate=0.5, adaboostclassifier__n_estimators=500 \n",
      "[CV]  adaboostclassifier__learning_rate=0.5, adaboostclassifier__n_estimators=250, total=   0.5s\n",
      "[CV] adaboostclassifier__learning_rate=0.5, adaboostclassifier__n_estimators=250 \n",
      "[CV]  adaboostclassifier__learning_rate=0.5, adaboostclassifier__n_estimators=250, total=   0.5s\n",
      "[CV] adaboostclassifier__learning_rate=0.5, adaboostclassifier__n_estimators=500 \n",
      "[CV]  adaboostclassifier__learning_rate=0.5, adaboostclassifier__n_estimators=250, total=   0.4s\n",
      "[CV] adaboostclassifier__learning_rate=0.5, adaboostclassifier__n_estimators=500 \n",
      "[CV]  adaboostclassifier__learning_rate=0.5, adaboostclassifier__n_estimators=250, total=   0.4s\n",
      "[CV] adaboostclassifier__learning_rate=1.0, adaboostclassifier__n_estimators=50 \n",
      "[CV]  adaboostclassifier__learning_rate=1.0, adaboostclassifier__n_estimators=50, total=   0.1s\n",
      "[CV] adaboostclassifier__learning_rate=1.0, adaboostclassifier__n_estimators=50 \n",
      "[CV]  adaboostclassifier__learning_rate=1.0, adaboostclassifier__n_estimators=50, total=   0.1s\n",
      "[CV] adaboostclassifier__learning_rate=1.0, adaboostclassifier__n_estimators=50 \n",
      "[CV]  adaboostclassifier__learning_rate=1.0, adaboostclassifier__n_estimators=50, total=   0.1s\n",
      "[CV] adaboostclassifier__learning_rate=1.0, adaboostclassifier__n_estimators=50 \n",
      "[CV]  adaboostclassifier__learning_rate=0.5, adaboostclassifier__n_estimators=500, total=   0.8s\n",
      "[CV] adaboostclassifier__learning_rate=0.5, adaboostclassifier__n_estimators=500 \n",
      "[CV]  adaboostclassifier__learning_rate=1.0, adaboostclassifier__n_estimators=50, total=   0.1s\n",
      "[CV] adaboostclassifier__learning_rate=1.0, adaboostclassifier__n_estimators=50 \n",
      "[CV]  adaboostclassifier__learning_rate=1.0, adaboostclassifier__n_estimators=50, total=   0.1s\n",
      "[CV] adaboostclassifier__learning_rate=1.0, adaboostclassifier__n_estimators=100 \n"
     ]
    },
    {
     "name": "stderr",
     "output_type": "stream",
     "text": [
      "[Parallel(n_jobs=4)]: Done  58 tasks      | elapsed:    5.8s\n"
     ]
    },
    {
     "name": "stdout",
     "output_type": "stream",
     "text": [
      "[CV]  adaboostclassifier__learning_rate=0.5, adaboostclassifier__n_estimators=500, total=   0.8s\n",
      "[CV] adaboostclassifier__learning_rate=0.5, adaboostclassifier__n_estimators=500 \n",
      "[CV]  adaboostclassifier__learning_rate=1.0, adaboostclassifier__n_estimators=100, total=   0.2s\n",
      "[CV] adaboostclassifier__learning_rate=1.0, adaboostclassifier__n_estimators=100 \n",
      "[CV]  adaboostclassifier__learning_rate=0.5, adaboostclassifier__n_estimators=500, total=   0.8s\n",
      "[CV] adaboostclassifier__learning_rate=1.0, adaboostclassifier__n_estimators=100 \n",
      "[CV]  adaboostclassifier__learning_rate=1.0, adaboostclassifier__n_estimators=100, total=   0.2s\n",
      "[CV] adaboostclassifier__learning_rate=1.0, adaboostclassifier__n_estimators=100 \n",
      "[CV]  adaboostclassifier__learning_rate=1.0, adaboostclassifier__n_estimators=100, total=   0.2s\n",
      "[CV] adaboostclassifier__learning_rate=1.0, adaboostclassifier__n_estimators=100 \n",
      "[CV]  adaboostclassifier__learning_rate=1.0, adaboostclassifier__n_estimators=100, total=   0.2s\n",
      "[CV] adaboostclassifier__learning_rate=1.0, adaboostclassifier__n_estimators=250 \n",
      "[CV]  adaboostclassifier__learning_rate=1.0, adaboostclassifier__n_estimators=100, total=   0.2s\n",
      "[CV] adaboostclassifier__learning_rate=1.0, adaboostclassifier__n_estimators=250 \n",
      "[CV]  adaboostclassifier__learning_rate=0.5, adaboostclassifier__n_estimators=500, total=   0.8s\n",
      "[CV] adaboostclassifier__learning_rate=1.0, adaboostclassifier__n_estimators=250 \n",
      "[CV]  adaboostclassifier__learning_rate=1.0, adaboostclassifier__n_estimators=250, total=   0.4s\n",
      "[CV] adaboostclassifier__learning_rate=1.0, adaboostclassifier__n_estimators=250 \n",
      "[CV]  adaboostclassifier__learning_rate=0.5, adaboostclassifier__n_estimators=500, total=   0.8s\n",
      "[CV] adaboostclassifier__learning_rate=1.0, adaboostclassifier__n_estimators=500 \n",
      "[CV]  adaboostclassifier__learning_rate=1.0, adaboostclassifier__n_estimators=250, total=   0.4s\n",
      "[CV] adaboostclassifier__learning_rate=1.0, adaboostclassifier__n_estimators=250 \n",
      "[CV]  adaboostclassifier__learning_rate=1.0, adaboostclassifier__n_estimators=250, total=   0.4s\n",
      "[CV] adaboostclassifier__learning_rate=1.0, adaboostclassifier__n_estimators=500 \n",
      "[CV]  adaboostclassifier__learning_rate=1.0, adaboostclassifier__n_estimators=250, total=   0.4s\n",
      "[CV] adaboostclassifier__learning_rate=1.0, adaboostclassifier__n_estimators=500 \n",
      "[CV]  adaboostclassifier__learning_rate=1.0, adaboostclassifier__n_estimators=250, total=   0.4s\n",
      "[CV]  adaboostclassifier__learning_rate=1.0, adaboostclassifier__n_estimators=500, total=   0.8s\n",
      "[CV] adaboostclassifier__learning_rate=1.0, adaboostclassifier__n_estimators=500 \n",
      "[CV]  adaboostclassifier__learning_rate=1.0, adaboostclassifier__n_estimators=500, total=   0.7s\n",
      "[CV]  adaboostclassifier__learning_rate=1.0, adaboostclassifier__n_estimators=500, total=   0.7s\n",
      "[CV] adaboostclassifier__learning_rate=1.0, adaboostclassifier__n_estimators=500 \n",
      "[CV]  adaboostclassifier__learning_rate=1.0, adaboostclassifier__n_estimators=500, total=   0.7s\n",
      "[CV]  adaboostclassifier__learning_rate=1.0, adaboostclassifier__n_estimators=500, total=   0.6s\n"
     ]
    },
    {
     "name": "stderr",
     "output_type": "stream",
     "text": [
      "[Parallel(n_jobs=4)]: Done  80 out of  80 | elapsed:    8.8s finished\n"
     ]
    },
    {
     "data": {
      "text/plain": [
       "GridSearchCV(cv=5, error_score='raise',\n",
       "       estimator=Pipeline(memory=None,\n",
       "     steps=[('standardscaler', StandardScaler(copy=True, with_mean=True, with_std=True)), ('adaboostclassifier', AdaBoostClassifier(algorithm='SAMME.R', base_estimator=None,\n",
       "          learning_rate=1.0, n_estimators=50, random_state=None))]),\n",
       "       fit_params=None, iid=True, n_jobs=4,\n",
       "       param_grid={'adaboostclassifier__learning_rate': [0.01, 0.1, 0.5, 1.0], 'adaboostclassifier__n_estimators': [50, 100, 250, 500]},\n",
       "       pre_dispatch='2*n_jobs', refit=True, return_train_score='warn',\n",
       "       scoring=None, verbose=2)"
      ]
     },
     "execution_count": 175,
     "metadata": {},
     "output_type": "execute_result"
    }
   ],
   "source": [
    "clf3.fit(X_train, y_train)"
   ]
  },
  {
   "cell_type": "code",
   "execution_count": 176,
   "metadata": {},
   "outputs": [
    {
     "name": "stdout",
     "output_type": "stream",
     "text": [
      "Model with rank: 1\n",
      "Mean validation score: 0.816 (std: 0.023)\n",
      "Parameters:\n",
      "{'adaboostclassifier__learning_rate': 1.0,\n",
      " 'adaboostclassifier__n_estimators': 500}\n",
      "\n",
      "Model with rank: 2\n",
      "Mean validation score: 0.810 (std: 0.022)\n",
      "Parameters:\n",
      "{'adaboostclassifier__learning_rate': 1.0,\n",
      " 'adaboostclassifier__n_estimators': 250}\n",
      "\n",
      "Model with rank: 3\n",
      "Mean validation score: 0.802 (std: 0.014)\n",
      "Parameters:\n",
      "{'adaboostclassifier__learning_rate': 0.5,\n",
      " 'adaboostclassifier__n_estimators': 100}\n",
      "\n",
      "Best model score on whole training set: 0.861\n"
     ]
    }
   ],
   "source": [
    "report(clf3.cv_results_, 3)\n",
    "print(\"Best model score on whole training set: {0:.3f}\".format(clf3.score(X_train, y_train)))"
   ]
  },
  {
   "cell_type": "markdown",
   "metadata": {},
   "source": [
    "### MLP"
   ]
  },
  {
   "cell_type": "code",
   "execution_count": 188,
   "metadata": {},
   "outputs": [],
   "source": [
    "param_dist = dict(mlpclassifier__hidden_layer_sizes=[[5]*3, [7]*3, [10]*3],\n",
    "#                   mlpclassifier__solver=['lbfgs', 'sgd', adam'],\n",
    "                  mlpclassifier__alpha=[1e-5, 1e-4, 1e-3, 1e-2],\n",
    "                  mlpclassifier__beta_1=[0.01, 0.1, 0.3, 0.5, 0.7, 0.9],\n",
    "                  mlpclassifier__beta_2=[0.5, 0.9, 0.95, 0.999],\n",
    "                  mlpclassifier__epsilon=[1e-9, 1e-8, 1e-7, 1e-6],\n",
    "                  mlpclassifier__max_iter=[300, 400, 500],\n",
    "                  mlpclassifier__learning_rate_init=[1e-4, 1e-3, 1e-2],\n",
    "                 )\n",
    "\n",
    "pipeline = make_pipeline(preprocessing.StandardScaler(),\n",
    "                         MLPClassifier()\n",
    "                        )\n",
    "\n",
    "clf4 = RandomizedSearchCV(pipeline,\n",
    "                         param_distributions=param_dist,\n",
    "                         n_iter=40,\n",
    "                         n_jobs=4,\n",
    "                         cv=5,\n",
    "                         verbose=2)"
   ]
  },
  {
   "cell_type": "code",
   "execution_count": 189,
   "metadata": {},
   "outputs": [
    {
     "name": "stdout",
     "output_type": "stream",
     "text": [
      "Fitting 5 folds for each of 40 candidates, totalling 200 fits\n",
      "[CV] mlpclassifier__max_iter=300, mlpclassifier__learning_rate_init=0.0001, mlpclassifier__hidden_layer_sizes=[7, 7, 7], mlpclassifier__epsilon=1e-08, mlpclassifier__beta_2=0.9, mlpclassifier__beta_1=0.9, mlpclassifier__alpha=1e-05 \n",
      "[CV] mlpclassifier__max_iter=300, mlpclassifier__learning_rate_init=0.0001, mlpclassifier__hidden_layer_sizes=[7, 7, 7], mlpclassifier__epsilon=1e-08, mlpclassifier__beta_2=0.9, mlpclassifier__beta_1=0.9, mlpclassifier__alpha=1e-05 \n",
      "[CV] mlpclassifier__max_iter=300, mlpclassifier__learning_rate_init=0.0001, mlpclassifier__hidden_layer_sizes=[7, 7, 7], mlpclassifier__epsilon=1e-08, mlpclassifier__beta_2=0.9, mlpclassifier__beta_1=0.9, mlpclassifier__alpha=1e-05 \n",
      "[CV] mlpclassifier__max_iter=300, mlpclassifier__learning_rate_init=0.0001, mlpclassifier__hidden_layer_sizes=[7, 7, 7], mlpclassifier__epsilon=1e-08, mlpclassifier__beta_2=0.9, mlpclassifier__beta_1=0.9, mlpclassifier__alpha=1e-05 \n"
     ]
    },
    {
     "name": "stderr",
     "output_type": "stream",
     "text": [
      "/home/diego/anaconda3/lib/python3.6/site-packages/sklearn/neural_network/multilayer_perceptron.py:564: ConvergenceWarning: Stochastic Optimizer: Maximum iterations (300) reached and the optimization hasn't converged yet.\n",
      "  % self.max_iter, ConvergenceWarning)\n"
     ]
    },
    {
     "name": "stdout",
     "output_type": "stream",
     "text": [
      "[CV]  mlpclassifier__max_iter=300, mlpclassifier__learning_rate_init=0.0001, mlpclassifier__hidden_layer_sizes=[7, 7, 7], mlpclassifier__epsilon=1e-08, mlpclassifier__beta_2=0.9, mlpclassifier__beta_1=0.9, mlpclassifier__alpha=1e-05, total=   1.6s\n",
      "[CV] mlpclassifier__max_iter=300, mlpclassifier__learning_rate_init=0.0001, mlpclassifier__hidden_layer_sizes=[7, 7, 7], mlpclassifier__epsilon=1e-08, mlpclassifier__beta_2=0.9, mlpclassifier__beta_1=0.9, mlpclassifier__alpha=1e-05 \n"
     ]
    },
    {
     "name": "stderr",
     "output_type": "stream",
     "text": [
      "/home/diego/anaconda3/lib/python3.6/site-packages/sklearn/neural_network/multilayer_perceptron.py:564: ConvergenceWarning: Stochastic Optimizer: Maximum iterations (300) reached and the optimization hasn't converged yet.\n",
      "  % self.max_iter, ConvergenceWarning)\n",
      "/home/diego/anaconda3/lib/python3.6/site-packages/sklearn/neural_network/multilayer_perceptron.py:564: ConvergenceWarning: Stochastic Optimizer: Maximum iterations (300) reached and the optimization hasn't converged yet.\n",
      "  % self.max_iter, ConvergenceWarning)\n"
     ]
    },
    {
     "name": "stdout",
     "output_type": "stream",
     "text": [
      "[CV]  mlpclassifier__max_iter=300, mlpclassifier__learning_rate_init=0.0001, mlpclassifier__hidden_layer_sizes=[7, 7, 7], mlpclassifier__epsilon=1e-08, mlpclassifier__beta_2=0.9, mlpclassifier__beta_1=0.9, mlpclassifier__alpha=1e-05, total=   1.9s\n",
      "[CV] mlpclassifier__max_iter=500, mlpclassifier__learning_rate_init=0.001, mlpclassifier__hidden_layer_sizes=[10, 10, 10], mlpclassifier__epsilon=1e-06, mlpclassifier__beta_2=0.9, mlpclassifier__beta_1=0.7, mlpclassifier__alpha=0.001 \n",
      "[CV]  mlpclassifier__max_iter=300, mlpclassifier__learning_rate_init=0.0001, mlpclassifier__hidden_layer_sizes=[7, 7, 7], mlpclassifier__epsilon=1e-08, mlpclassifier__beta_2=0.9, mlpclassifier__beta_1=0.9, mlpclassifier__alpha=1e-05, total=   1.9s\n",
      "[CV] mlpclassifier__max_iter=500, mlpclassifier__learning_rate_init=0.001, mlpclassifier__hidden_layer_sizes=[10, 10, 10], mlpclassifier__epsilon=1e-06, mlpclassifier__beta_2=0.9, mlpclassifier__beta_1=0.7, mlpclassifier__alpha=0.001 \n"
     ]
    },
    {
     "name": "stderr",
     "output_type": "stream",
     "text": [
      "/home/diego/anaconda3/lib/python3.6/site-packages/sklearn/neural_network/multilayer_perceptron.py:564: ConvergenceWarning: Stochastic Optimizer: Maximum iterations (300) reached and the optimization hasn't converged yet.\n",
      "  % self.max_iter, ConvergenceWarning)\n"
     ]
    },
    {
     "name": "stdout",
     "output_type": "stream",
     "text": [
      "[CV]  mlpclassifier__max_iter=300, mlpclassifier__learning_rate_init=0.0001, mlpclassifier__hidden_layer_sizes=[7, 7, 7], mlpclassifier__epsilon=1e-08, mlpclassifier__beta_2=0.9, mlpclassifier__beta_1=0.9, mlpclassifier__alpha=1e-05, total=   2.1s\n",
      "[CV] mlpclassifier__max_iter=500, mlpclassifier__learning_rate_init=0.001, mlpclassifier__hidden_layer_sizes=[10, 10, 10], mlpclassifier__epsilon=1e-06, mlpclassifier__beta_2=0.9, mlpclassifier__beta_1=0.7, mlpclassifier__alpha=0.001 \n"
     ]
    },
    {
     "name": "stderr",
     "output_type": "stream",
     "text": [
      "/home/diego/anaconda3/lib/python3.6/site-packages/sklearn/neural_network/multilayer_perceptron.py:564: ConvergenceWarning: Stochastic Optimizer: Maximum iterations (300) reached and the optimization hasn't converged yet.\n",
      "  % self.max_iter, ConvergenceWarning)\n"
     ]
    },
    {
     "name": "stdout",
     "output_type": "stream",
     "text": [
      "[CV]  mlpclassifier__max_iter=300, mlpclassifier__learning_rate_init=0.0001, mlpclassifier__hidden_layer_sizes=[7, 7, 7], mlpclassifier__epsilon=1e-08, mlpclassifier__beta_2=0.9, mlpclassifier__beta_1=0.9, mlpclassifier__alpha=1e-05, total=   1.8s\n",
      "[CV] mlpclassifier__max_iter=500, mlpclassifier__learning_rate_init=0.001, mlpclassifier__hidden_layer_sizes=[10, 10, 10], mlpclassifier__epsilon=1e-06, mlpclassifier__beta_2=0.9, mlpclassifier__beta_1=0.7, mlpclassifier__alpha=0.001 \n",
      "[CV]  mlpclassifier__max_iter=500, mlpclassifier__learning_rate_init=0.001, mlpclassifier__hidden_layer_sizes=[10, 10, 10], mlpclassifier__epsilon=1e-06, mlpclassifier__beta_2=0.9, mlpclassifier__beta_1=0.7, mlpclassifier__alpha=0.001, total=   1.6s\n",
      "[CV] mlpclassifier__max_iter=500, mlpclassifier__learning_rate_init=0.001, mlpclassifier__hidden_layer_sizes=[10, 10, 10], mlpclassifier__epsilon=1e-06, mlpclassifier__beta_2=0.9, mlpclassifier__beta_1=0.7, mlpclassifier__alpha=0.001 \n",
      "[CV]  mlpclassifier__max_iter=500, mlpclassifier__learning_rate_init=0.001, mlpclassifier__hidden_layer_sizes=[10, 10, 10], mlpclassifier__epsilon=1e-06, mlpclassifier__beta_2=0.9, mlpclassifier__beta_1=0.7, mlpclassifier__alpha=0.001, total=   2.4s\n",
      "[CV] mlpclassifier__max_iter=500, mlpclassifier__learning_rate_init=0.01, mlpclassifier__hidden_layer_sizes=[7, 7, 7], mlpclassifier__epsilon=1e-08, mlpclassifier__beta_2=0.9, mlpclassifier__beta_1=0.3, mlpclassifier__alpha=0.0001 \n",
      "[CV]  mlpclassifier__max_iter=500, mlpclassifier__learning_rate_init=0.001, mlpclassifier__hidden_layer_sizes=[10, 10, 10], mlpclassifier__epsilon=1e-06, mlpclassifier__beta_2=0.9, mlpclassifier__beta_1=0.7, mlpclassifier__alpha=0.001, total=   2.5s\n",
      "[CV] mlpclassifier__max_iter=500, mlpclassifier__learning_rate_init=0.01, mlpclassifier__hidden_layer_sizes=[7, 7, 7], mlpclassifier__epsilon=1e-08, mlpclassifier__beta_2=0.9, mlpclassifier__beta_1=0.3, mlpclassifier__alpha=0.0001 \n",
      "[CV]  mlpclassifier__max_iter=500, mlpclassifier__learning_rate_init=0.01, mlpclassifier__hidden_layer_sizes=[7, 7, 7], mlpclassifier__epsilon=1e-08, mlpclassifier__beta_2=0.9, mlpclassifier__beta_1=0.3, mlpclassifier__alpha=0.0001, total=   0.5s\n",
      "[CV] mlpclassifier__max_iter=500, mlpclassifier__learning_rate_init=0.01, mlpclassifier__hidden_layer_sizes=[7, 7, 7], mlpclassifier__epsilon=1e-08, mlpclassifier__beta_2=0.9, mlpclassifier__beta_1=0.3, mlpclassifier__alpha=0.0001 \n",
      "[CV]  mlpclassifier__max_iter=500, mlpclassifier__learning_rate_init=0.001, mlpclassifier__hidden_layer_sizes=[10, 10, 10], mlpclassifier__epsilon=1e-06, mlpclassifier__beta_2=0.9, mlpclassifier__beta_1=0.7, mlpclassifier__alpha=0.001, total=   1.6s\n",
      "[CV] mlpclassifier__max_iter=500, mlpclassifier__learning_rate_init=0.01, mlpclassifier__hidden_layer_sizes=[7, 7, 7], mlpclassifier__epsilon=1e-08, mlpclassifier__beta_2=0.9, mlpclassifier__beta_1=0.3, mlpclassifier__alpha=0.0001 \n",
      "[CV]  mlpclassifier__max_iter=500, mlpclassifier__learning_rate_init=0.01, mlpclassifier__hidden_layer_sizes=[7, 7, 7], mlpclassifier__epsilon=1e-08, mlpclassifier__beta_2=0.9, mlpclassifier__beta_1=0.3, mlpclassifier__alpha=0.0001, total=   0.2s\n",
      "[CV]  mlpclassifier__max_iter=500, mlpclassifier__learning_rate_init=0.01, mlpclassifier__hidden_layer_sizes=[7, 7, 7], mlpclassifier__epsilon=1e-08, mlpclassifier__beta_2=0.9, mlpclassifier__beta_1=0.3, mlpclassifier__alpha=0.0001, total=   0.5s\n",
      "[CV] mlpclassifier__max_iter=500, mlpclassifier__learning_rate_init=0.01, mlpclassifier__hidden_layer_sizes=[7, 7, 7], mlpclassifier__epsilon=1e-08, mlpclassifier__beta_2=0.9, mlpclassifier__beta_1=0.3, mlpclassifier__alpha=0.0001 \n",
      "[CV] mlpclassifier__max_iter=400, mlpclassifier__learning_rate_init=0.0001, mlpclassifier__hidden_layer_sizes=[10, 10, 10], mlpclassifier__epsilon=1e-08, mlpclassifier__beta_2=0.9, mlpclassifier__beta_1=0.5, mlpclassifier__alpha=0.001 \n",
      "[CV]  mlpclassifier__max_iter=500, mlpclassifier__learning_rate_init=0.01, mlpclassifier__hidden_layer_sizes=[7, 7, 7], mlpclassifier__epsilon=1e-08, mlpclassifier__beta_2=0.9, mlpclassifier__beta_1=0.3, mlpclassifier__alpha=0.0001, total=   0.3s\n",
      "[CV] mlpclassifier__max_iter=400, mlpclassifier__learning_rate_init=0.0001, mlpclassifier__hidden_layer_sizes=[10, 10, 10], mlpclassifier__epsilon=1e-08, mlpclassifier__beta_2=0.9, mlpclassifier__beta_1=0.5, mlpclassifier__alpha=0.001 \n",
      "[CV]  mlpclassifier__max_iter=500, mlpclassifier__learning_rate_init=0.001, mlpclassifier__hidden_layer_sizes=[10, 10, 10], mlpclassifier__epsilon=1e-06, mlpclassifier__beta_2=0.9, mlpclassifier__beta_1=0.7, mlpclassifier__alpha=0.001, total=   1.7s\n",
      "[CV] mlpclassifier__max_iter=400, mlpclassifier__learning_rate_init=0.0001, mlpclassifier__hidden_layer_sizes=[10, 10, 10], mlpclassifier__epsilon=1e-08, mlpclassifier__beta_2=0.9, mlpclassifier__beta_1=0.5, mlpclassifier__alpha=0.001 \n",
      "[CV]  mlpclassifier__max_iter=500, mlpclassifier__learning_rate_init=0.01, mlpclassifier__hidden_layer_sizes=[7, 7, 7], mlpclassifier__epsilon=1e-08, mlpclassifier__beta_2=0.9, mlpclassifier__beta_1=0.3, mlpclassifier__alpha=0.0001, total=   0.2s\n",
      "[CV] mlpclassifier__max_iter=400, mlpclassifier__learning_rate_init=0.0001, mlpclassifier__hidden_layer_sizes=[10, 10, 10], mlpclassifier__epsilon=1e-08, mlpclassifier__beta_2=0.9, mlpclassifier__beta_1=0.5, mlpclassifier__alpha=0.001 \n"
     ]
    },
    {
     "name": "stderr",
     "output_type": "stream",
     "text": [
      "/home/diego/anaconda3/lib/python3.6/site-packages/sklearn/neural_network/multilayer_perceptron.py:564: ConvergenceWarning: Stochastic Optimizer: Maximum iterations (400) reached and the optimization hasn't converged yet.\n",
      "  % self.max_iter, ConvergenceWarning)\n"
     ]
    },
    {
     "name": "stdout",
     "output_type": "stream",
     "text": [
      "[CV]  mlpclassifier__max_iter=400, mlpclassifier__learning_rate_init=0.0001, mlpclassifier__hidden_layer_sizes=[10, 10, 10], mlpclassifier__epsilon=1e-08, mlpclassifier__beta_2=0.9, mlpclassifier__beta_1=0.5, mlpclassifier__alpha=0.001, total=   2.5s\n",
      "[CV] mlpclassifier__max_iter=400, mlpclassifier__learning_rate_init=0.0001, mlpclassifier__hidden_layer_sizes=[10, 10, 10], mlpclassifier__epsilon=1e-08, mlpclassifier__beta_2=0.9, mlpclassifier__beta_1=0.5, mlpclassifier__alpha=0.001 \n"
     ]
    },
    {
     "name": "stderr",
     "output_type": "stream",
     "text": [
      "/home/diego/anaconda3/lib/python3.6/site-packages/sklearn/neural_network/multilayer_perceptron.py:564: ConvergenceWarning: Stochastic Optimizer: Maximum iterations (400) reached and the optimization hasn't converged yet.\n",
      "  % self.max_iter, ConvergenceWarning)\n"
     ]
    },
    {
     "name": "stdout",
     "output_type": "stream",
     "text": [
      "[CV]  mlpclassifier__max_iter=400, mlpclassifier__learning_rate_init=0.0001, mlpclassifier__hidden_layer_sizes=[10, 10, 10], mlpclassifier__epsilon=1e-08, mlpclassifier__beta_2=0.9, mlpclassifier__beta_1=0.5, mlpclassifier__alpha=0.001, total=   2.6s\n",
      "[CV] mlpclassifier__max_iter=300, mlpclassifier__learning_rate_init=0.0001, mlpclassifier__hidden_layer_sizes=[10, 10, 10], mlpclassifier__epsilon=1e-06, mlpclassifier__beta_2=0.999, mlpclassifier__beta_1=0.9, mlpclassifier__alpha=0.01 \n"
     ]
    },
    {
     "name": "stderr",
     "output_type": "stream",
     "text": [
      "/home/diego/anaconda3/lib/python3.6/site-packages/sklearn/neural_network/multilayer_perceptron.py:564: ConvergenceWarning: Stochastic Optimizer: Maximum iterations (400) reached and the optimization hasn't converged yet.\n",
      "  % self.max_iter, ConvergenceWarning)\n"
     ]
    },
    {
     "name": "stdout",
     "output_type": "stream",
     "text": [
      "[CV]  mlpclassifier__max_iter=400, mlpclassifier__learning_rate_init=0.0001, mlpclassifier__hidden_layer_sizes=[10, 10, 10], mlpclassifier__epsilon=1e-08, mlpclassifier__beta_2=0.9, mlpclassifier__beta_1=0.5, mlpclassifier__alpha=0.001, total=   2.9s\n",
      "[CV] mlpclassifier__max_iter=300, mlpclassifier__learning_rate_init=0.0001, mlpclassifier__hidden_layer_sizes=[10, 10, 10], mlpclassifier__epsilon=1e-06, mlpclassifier__beta_2=0.999, mlpclassifier__beta_1=0.9, mlpclassifier__alpha=0.01 \n"
     ]
    },
    {
     "name": "stderr",
     "output_type": "stream",
     "text": [
      "/home/diego/anaconda3/lib/python3.6/site-packages/sklearn/neural_network/multilayer_perceptron.py:564: ConvergenceWarning: Stochastic Optimizer: Maximum iterations (400) reached and the optimization hasn't converged yet.\n",
      "  % self.max_iter, ConvergenceWarning)\n"
     ]
    },
    {
     "name": "stdout",
     "output_type": "stream",
     "text": [
      "[CV]  mlpclassifier__max_iter=400, mlpclassifier__learning_rate_init=0.0001, mlpclassifier__hidden_layer_sizes=[10, 10, 10], mlpclassifier__epsilon=1e-08, mlpclassifier__beta_2=0.9, mlpclassifier__beta_1=0.5, mlpclassifier__alpha=0.001, total=   3.3s\n",
      "[CV] mlpclassifier__max_iter=300, mlpclassifier__learning_rate_init=0.0001, mlpclassifier__hidden_layer_sizes=[10, 10, 10], mlpclassifier__epsilon=1e-06, mlpclassifier__beta_2=0.999, mlpclassifier__beta_1=0.9, mlpclassifier__alpha=0.01 \n"
     ]
    },
    {
     "name": "stderr",
     "output_type": "stream",
     "text": [
      "/home/diego/anaconda3/lib/python3.6/site-packages/sklearn/neural_network/multilayer_perceptron.py:564: ConvergenceWarning: Stochastic Optimizer: Maximum iterations (300) reached and the optimization hasn't converged yet.\n",
      "  % self.max_iter, ConvergenceWarning)\n"
     ]
    },
    {
     "name": "stdout",
     "output_type": "stream",
     "text": [
      "[CV]  mlpclassifier__max_iter=300, mlpclassifier__learning_rate_init=0.0001, mlpclassifier__hidden_layer_sizes=[10, 10, 10], mlpclassifier__epsilon=1e-06, mlpclassifier__beta_2=0.999, mlpclassifier__beta_1=0.9, mlpclassifier__alpha=0.01, total=   2.2s\n",
      "[CV] mlpclassifier__max_iter=300, mlpclassifier__learning_rate_init=0.0001, mlpclassifier__hidden_layer_sizes=[10, 10, 10], mlpclassifier__epsilon=1e-06, mlpclassifier__beta_2=0.999, mlpclassifier__beta_1=0.9, mlpclassifier__alpha=0.01 \n"
     ]
    },
    {
     "name": "stderr",
     "output_type": "stream",
     "text": [
      "/home/diego/anaconda3/lib/python3.6/site-packages/sklearn/neural_network/multilayer_perceptron.py:564: ConvergenceWarning: Stochastic Optimizer: Maximum iterations (300) reached and the optimization hasn't converged yet.\n",
      "  % self.max_iter, ConvergenceWarning)\n",
      "/home/diego/anaconda3/lib/python3.6/site-packages/sklearn/neural_network/multilayer_perceptron.py:564: ConvergenceWarning: Stochastic Optimizer: Maximum iterations (300) reached and the optimization hasn't converged yet.\n",
      "  % self.max_iter, ConvergenceWarning)\n"
     ]
    },
    {
     "name": "stdout",
     "output_type": "stream",
     "text": [
      "[CV]  mlpclassifier__max_iter=300, mlpclassifier__learning_rate_init=0.0001, mlpclassifier__hidden_layer_sizes=[10, 10, 10], mlpclassifier__epsilon=1e-06, mlpclassifier__beta_2=0.999, mlpclassifier__beta_1=0.9, mlpclassifier__alpha=0.01, total=   2.3s\n",
      "[CV] mlpclassifier__max_iter=300, mlpclassifier__learning_rate_init=0.0001, mlpclassifier__hidden_layer_sizes=[10, 10, 10], mlpclassifier__epsilon=1e-06, mlpclassifier__beta_2=0.999, mlpclassifier__beta_1=0.9, mlpclassifier__alpha=0.01 \n",
      "[CV]  mlpclassifier__max_iter=300, mlpclassifier__learning_rate_init=0.0001, mlpclassifier__hidden_layer_sizes=[10, 10, 10], mlpclassifier__epsilon=1e-06, mlpclassifier__beta_2=0.999, mlpclassifier__beta_1=0.9, mlpclassifier__alpha=0.01, total=   2.7s\n",
      "[CV] mlpclassifier__max_iter=500, mlpclassifier__learning_rate_init=0.001, mlpclassifier__hidden_layer_sizes=[5, 5, 5], mlpclassifier__epsilon=1e-06, mlpclassifier__beta_2=0.999, mlpclassifier__beta_1=0.1, mlpclassifier__alpha=1e-05 \n"
     ]
    },
    {
     "name": "stderr",
     "output_type": "stream",
     "text": [
      "/home/diego/anaconda3/lib/python3.6/site-packages/sklearn/neural_network/multilayer_perceptron.py:564: ConvergenceWarning: Stochastic Optimizer: Maximum iterations (400) reached and the optimization hasn't converged yet.\n",
      "  % self.max_iter, ConvergenceWarning)\n"
     ]
    },
    {
     "name": "stdout",
     "output_type": "stream",
     "text": [
      "[CV]  mlpclassifier__max_iter=400, mlpclassifier__learning_rate_init=0.0001, mlpclassifier__hidden_layer_sizes=[10, 10, 10], mlpclassifier__epsilon=1e-08, mlpclassifier__beta_2=0.9, mlpclassifier__beta_1=0.5, mlpclassifier__alpha=0.001, total=   3.3s\n",
      "[CV] mlpclassifier__max_iter=500, mlpclassifier__learning_rate_init=0.001, mlpclassifier__hidden_layer_sizes=[5, 5, 5], mlpclassifier__epsilon=1e-06, mlpclassifier__beta_2=0.999, mlpclassifier__beta_1=0.1, mlpclassifier__alpha=1e-05 \n"
     ]
    },
    {
     "name": "stderr",
     "output_type": "stream",
     "text": [
      "/home/diego/anaconda3/lib/python3.6/site-packages/sklearn/neural_network/multilayer_perceptron.py:564: ConvergenceWarning: Stochastic Optimizer: Maximum iterations (300) reached and the optimization hasn't converged yet.\n",
      "  % self.max_iter, ConvergenceWarning)\n"
     ]
    },
    {
     "name": "stdout",
     "output_type": "stream",
     "text": [
      "[CV]  mlpclassifier__max_iter=500, mlpclassifier__learning_rate_init=0.001, mlpclassifier__hidden_layer_sizes=[5, 5, 5], mlpclassifier__epsilon=1e-06, mlpclassifier__beta_2=0.999, mlpclassifier__beta_1=0.1, mlpclassifier__alpha=1e-05, total=   1.6s\n",
      "[CV] mlpclassifier__max_iter=500, mlpclassifier__learning_rate_init=0.001, mlpclassifier__hidden_layer_sizes=[5, 5, 5], mlpclassifier__epsilon=1e-06, mlpclassifier__beta_2=0.999, mlpclassifier__beta_1=0.1, mlpclassifier__alpha=1e-05 \n",
      "[CV]  mlpclassifier__max_iter=300, mlpclassifier__learning_rate_init=0.0001, mlpclassifier__hidden_layer_sizes=[10, 10, 10], mlpclassifier__epsilon=1e-06, mlpclassifier__beta_2=0.999, mlpclassifier__beta_1=0.9, mlpclassifier__alpha=0.01, total=   2.1s\n",
      "[CV] mlpclassifier__max_iter=500, mlpclassifier__learning_rate_init=0.001, mlpclassifier__hidden_layer_sizes=[5, 5, 5], mlpclassifier__epsilon=1e-06, mlpclassifier__beta_2=0.999, mlpclassifier__beta_1=0.1, mlpclassifier__alpha=1e-05 \n",
      "[CV]  mlpclassifier__max_iter=500, mlpclassifier__learning_rate_init=0.001, mlpclassifier__hidden_layer_sizes=[5, 5, 5], mlpclassifier__epsilon=1e-06, mlpclassifier__beta_2=0.999, mlpclassifier__beta_1=0.1, mlpclassifier__alpha=1e-05, total=   1.9s\n",
      "[CV] mlpclassifier__max_iter=500, mlpclassifier__learning_rate_init=0.001, mlpclassifier__hidden_layer_sizes=[5, 5, 5], mlpclassifier__epsilon=1e-06, mlpclassifier__beta_2=0.999, mlpclassifier__beta_1=0.1, mlpclassifier__alpha=1e-05 \n"
     ]
    },
    {
     "name": "stderr",
     "output_type": "stream",
     "text": [
      "/home/diego/anaconda3/lib/python3.6/site-packages/sklearn/neural_network/multilayer_perceptron.py:564: ConvergenceWarning: Stochastic Optimizer: Maximum iterations (300) reached and the optimization hasn't converged yet.\n",
      "  % self.max_iter, ConvergenceWarning)\n"
     ]
    },
    {
     "name": "stdout",
     "output_type": "stream",
     "text": [
      "[CV]  mlpclassifier__max_iter=300, mlpclassifier__learning_rate_init=0.0001, mlpclassifier__hidden_layer_sizes=[10, 10, 10], mlpclassifier__epsilon=1e-06, mlpclassifier__beta_2=0.999, mlpclassifier__beta_1=0.9, mlpclassifier__alpha=0.01, total=   2.6s\n",
      "[CV] mlpclassifier__max_iter=300, mlpclassifier__learning_rate_init=0.001, mlpclassifier__hidden_layer_sizes=[10, 10, 10], mlpclassifier__epsilon=1e-09, mlpclassifier__beta_2=0.9, mlpclassifier__beta_1=0.01, mlpclassifier__alpha=0.001 \n",
      "[CV]  mlpclassifier__max_iter=500, mlpclassifier__learning_rate_init=0.001, mlpclassifier__hidden_layer_sizes=[5, 5, 5], mlpclassifier__epsilon=1e-06, mlpclassifier__beta_2=0.999, mlpclassifier__beta_1=0.1, mlpclassifier__alpha=1e-05, total=   1.7s\n",
      "[CV] mlpclassifier__max_iter=300, mlpclassifier__learning_rate_init=0.001, mlpclassifier__hidden_layer_sizes=[10, 10, 10], mlpclassifier__epsilon=1e-09, mlpclassifier__beta_2=0.9, mlpclassifier__beta_1=0.01, mlpclassifier__alpha=0.001 \n",
      "[CV]  mlpclassifier__max_iter=500, mlpclassifier__learning_rate_init=0.001, mlpclassifier__hidden_layer_sizes=[5, 5, 5], mlpclassifier__epsilon=1e-06, mlpclassifier__beta_2=0.999, mlpclassifier__beta_1=0.1, mlpclassifier__alpha=1e-05, total=   1.9s\n",
      "[CV] mlpclassifier__max_iter=300, mlpclassifier__learning_rate_init=0.001, mlpclassifier__hidden_layer_sizes=[10, 10, 10], mlpclassifier__epsilon=1e-09, mlpclassifier__beta_2=0.9, mlpclassifier__beta_1=0.01, mlpclassifier__alpha=0.001 \n",
      "[CV]  mlpclassifier__max_iter=500, mlpclassifier__learning_rate_init=0.001, mlpclassifier__hidden_layer_sizes=[5, 5, 5], mlpclassifier__epsilon=1e-06, mlpclassifier__beta_2=0.999, mlpclassifier__beta_1=0.1, mlpclassifier__alpha=1e-05, total=   2.3s\n",
      "[CV] mlpclassifier__max_iter=300, mlpclassifier__learning_rate_init=0.001, mlpclassifier__hidden_layer_sizes=[10, 10, 10], mlpclassifier__epsilon=1e-09, mlpclassifier__beta_2=0.9, mlpclassifier__beta_1=0.01, mlpclassifier__alpha=0.001 \n",
      "[CV]  mlpclassifier__max_iter=300, mlpclassifier__learning_rate_init=0.001, mlpclassifier__hidden_layer_sizes=[10, 10, 10], mlpclassifier__epsilon=1e-09, mlpclassifier__beta_2=0.9, mlpclassifier__beta_1=0.01, mlpclassifier__alpha=0.001, total=   2.1s\n",
      "[CV] mlpclassifier__max_iter=300, mlpclassifier__learning_rate_init=0.001, mlpclassifier__hidden_layer_sizes=[10, 10, 10], mlpclassifier__epsilon=1e-09, mlpclassifier__beta_2=0.9, mlpclassifier__beta_1=0.01, mlpclassifier__alpha=0.001 \n",
      "[CV]  mlpclassifier__max_iter=300, mlpclassifier__learning_rate_init=0.001, mlpclassifier__hidden_layer_sizes=[10, 10, 10], mlpclassifier__epsilon=1e-09, mlpclassifier__beta_2=0.9, mlpclassifier__beta_1=0.01, mlpclassifier__alpha=0.001, total=   1.5s\n",
      "[CV] mlpclassifier__max_iter=500, mlpclassifier__learning_rate_init=0.0001, mlpclassifier__hidden_layer_sizes=[10, 10, 10], mlpclassifier__epsilon=1e-08, mlpclassifier__beta_2=0.5, mlpclassifier__beta_1=0.9, mlpclassifier__alpha=0.0001 \n",
      "[CV]  mlpclassifier__max_iter=300, mlpclassifier__learning_rate_init=0.001, mlpclassifier__hidden_layer_sizes=[10, 10, 10], mlpclassifier__epsilon=1e-09, mlpclassifier__beta_2=0.9, mlpclassifier__beta_1=0.01, mlpclassifier__alpha=0.001, total=   1.7s\n",
      "[CV] mlpclassifier__max_iter=500, mlpclassifier__learning_rate_init=0.0001, mlpclassifier__hidden_layer_sizes=[10, 10, 10], mlpclassifier__epsilon=1e-08, mlpclassifier__beta_2=0.5, mlpclassifier__beta_1=0.9, mlpclassifier__alpha=0.0001 \n"
     ]
    },
    {
     "name": "stderr",
     "output_type": "stream",
     "text": [
      "[Parallel(n_jobs=4)]: Done  33 tasks      | elapsed:   16.6s\n"
     ]
    },
    {
     "name": "stdout",
     "output_type": "stream",
     "text": [
      "[CV]  mlpclassifier__max_iter=300, mlpclassifier__learning_rate_init=0.001, mlpclassifier__hidden_layer_sizes=[10, 10, 10], mlpclassifier__epsilon=1e-09, mlpclassifier__beta_2=0.9, mlpclassifier__beta_1=0.01, mlpclassifier__alpha=0.001, total=   1.0s\n",
      "[CV]  mlpclassifier__max_iter=300, mlpclassifier__learning_rate_init=0.001, mlpclassifier__hidden_layer_sizes=[10, 10, 10], mlpclassifier__epsilon=1e-09, mlpclassifier__beta_2=0.9, mlpclassifier__beta_1=0.01, mlpclassifier__alpha=0.001, total=   1.5s\n",
      "[CV] mlpclassifier__max_iter=500, mlpclassifier__learning_rate_init=0.0001, mlpclassifier__hidden_layer_sizes=[10, 10, 10], mlpclassifier__epsilon=1e-08, mlpclassifier__beta_2=0.5, mlpclassifier__beta_1=0.9, mlpclassifier__alpha=0.0001 \n",
      "[CV] mlpclassifier__max_iter=500, mlpclassifier__learning_rate_init=0.0001, mlpclassifier__hidden_layer_sizes=[10, 10, 10], mlpclassifier__epsilon=1e-08, mlpclassifier__beta_2=0.5, mlpclassifier__beta_1=0.9, mlpclassifier__alpha=0.0001 \n"
     ]
    },
    {
     "name": "stderr",
     "output_type": "stream",
     "text": [
      "/home/diego/anaconda3/lib/python3.6/site-packages/sklearn/neural_network/multilayer_perceptron.py:564: ConvergenceWarning: Stochastic Optimizer: Maximum iterations (500) reached and the optimization hasn't converged yet.\n",
      "  % self.max_iter, ConvergenceWarning)\n"
     ]
    },
    {
     "name": "stdout",
     "output_type": "stream",
     "text": [
      "[CV]  mlpclassifier__max_iter=500, mlpclassifier__learning_rate_init=0.0001, mlpclassifier__hidden_layer_sizes=[10, 10, 10], mlpclassifier__epsilon=1e-08, mlpclassifier__beta_2=0.5, mlpclassifier__beta_1=0.9, mlpclassifier__alpha=0.0001, total=   3.4s\n",
      "[CV] mlpclassifier__max_iter=500, mlpclassifier__learning_rate_init=0.0001, mlpclassifier__hidden_layer_sizes=[10, 10, 10], mlpclassifier__epsilon=1e-08, mlpclassifier__beta_2=0.5, mlpclassifier__beta_1=0.9, mlpclassifier__alpha=0.0001 \n"
     ]
    },
    {
     "name": "stderr",
     "output_type": "stream",
     "text": [
      "/home/diego/anaconda3/lib/python3.6/site-packages/sklearn/neural_network/multilayer_perceptron.py:564: ConvergenceWarning: Stochastic Optimizer: Maximum iterations (500) reached and the optimization hasn't converged yet.\n",
      "  % self.max_iter, ConvergenceWarning)\n"
     ]
    },
    {
     "name": "stdout",
     "output_type": "stream",
     "text": [
      "[CV]  mlpclassifier__max_iter=500, mlpclassifier__learning_rate_init=0.0001, mlpclassifier__hidden_layer_sizes=[10, 10, 10], mlpclassifier__epsilon=1e-08, mlpclassifier__beta_2=0.5, mlpclassifier__beta_1=0.9, mlpclassifier__alpha=0.0001, total=   3.1s\n",
      "[CV] mlpclassifier__max_iter=300, mlpclassifier__learning_rate_init=0.01, mlpclassifier__hidden_layer_sizes=[7, 7, 7], mlpclassifier__epsilon=1e-08, mlpclassifier__beta_2=0.9, mlpclassifier__beta_1=0.9, mlpclassifier__alpha=0.0001 \n"
     ]
    },
    {
     "name": "stderr",
     "output_type": "stream",
     "text": [
      "/home/diego/anaconda3/lib/python3.6/site-packages/sklearn/neural_network/multilayer_perceptron.py:564: ConvergenceWarning: Stochastic Optimizer: Maximum iterations (500) reached and the optimization hasn't converged yet.\n",
      "  % self.max_iter, ConvergenceWarning)\n"
     ]
    },
    {
     "name": "stdout",
     "output_type": "stream",
     "text": [
      "[CV]  mlpclassifier__max_iter=500, mlpclassifier__learning_rate_init=0.0001, mlpclassifier__hidden_layer_sizes=[10, 10, 10], mlpclassifier__epsilon=1e-08, mlpclassifier__beta_2=0.5, mlpclassifier__beta_1=0.9, mlpclassifier__alpha=0.0001, total=   3.3s\n",
      "[CV] mlpclassifier__max_iter=300, mlpclassifier__learning_rate_init=0.01, mlpclassifier__hidden_layer_sizes=[7, 7, 7], mlpclassifier__epsilon=1e-08, mlpclassifier__beta_2=0.9, mlpclassifier__beta_1=0.9, mlpclassifier__alpha=0.0001 \n"
     ]
    },
    {
     "name": "stderr",
     "output_type": "stream",
     "text": [
      "/home/diego/anaconda3/lib/python3.6/site-packages/sklearn/neural_network/multilayer_perceptron.py:564: ConvergenceWarning: Stochastic Optimizer: Maximum iterations (500) reached and the optimization hasn't converged yet.\n",
      "  % self.max_iter, ConvergenceWarning)\n"
     ]
    },
    {
     "name": "stdout",
     "output_type": "stream",
     "text": [
      "[CV]  mlpclassifier__max_iter=500, mlpclassifier__learning_rate_init=0.0001, mlpclassifier__hidden_layer_sizes=[10, 10, 10], mlpclassifier__epsilon=1e-08, mlpclassifier__beta_2=0.5, mlpclassifier__beta_1=0.9, mlpclassifier__alpha=0.0001, total=   4.3s\n",
      "[CV] mlpclassifier__max_iter=300, mlpclassifier__learning_rate_init=0.01, mlpclassifier__hidden_layer_sizes=[7, 7, 7], mlpclassifier__epsilon=1e-08, mlpclassifier__beta_2=0.9, mlpclassifier__beta_1=0.9, mlpclassifier__alpha=0.0001 \n",
      "[CV]  mlpclassifier__max_iter=300, mlpclassifier__learning_rate_init=0.01, mlpclassifier__hidden_layer_sizes=[7, 7, 7], mlpclassifier__epsilon=1e-08, mlpclassifier__beta_2=0.9, mlpclassifier__beta_1=0.9, mlpclassifier__alpha=0.0001, total=   0.6s\n",
      "[CV] mlpclassifier__max_iter=300, mlpclassifier__learning_rate_init=0.01, mlpclassifier__hidden_layer_sizes=[7, 7, 7], mlpclassifier__epsilon=1e-08, mlpclassifier__beta_2=0.9, mlpclassifier__beta_1=0.9, mlpclassifier__alpha=0.0001 \n",
      "[CV]  mlpclassifier__max_iter=300, mlpclassifier__learning_rate_init=0.01, mlpclassifier__hidden_layer_sizes=[7, 7, 7], mlpclassifier__epsilon=1e-08, mlpclassifier__beta_2=0.9, mlpclassifier__beta_1=0.9, mlpclassifier__alpha=0.0001, total=   0.3s\n",
      "[CV]  mlpclassifier__max_iter=300, mlpclassifier__learning_rate_init=0.01, mlpclassifier__hidden_layer_sizes=[7, 7, 7], mlpclassifier__epsilon=1e-08, mlpclassifier__beta_2=0.9, mlpclassifier__beta_1=0.9, mlpclassifier__alpha=0.0001, total=   0.8s\n",
      "[CV] mlpclassifier__max_iter=400, mlpclassifier__learning_rate_init=0.01, mlpclassifier__hidden_layer_sizes=[7, 7, 7], mlpclassifier__epsilon=1e-09, mlpclassifier__beta_2=0.999, mlpclassifier__beta_1=0.1, mlpclassifier__alpha=0.001 \n",
      "[CV] mlpclassifier__max_iter=300, mlpclassifier__learning_rate_init=0.01, mlpclassifier__hidden_layer_sizes=[7, 7, 7], mlpclassifier__epsilon=1e-08, mlpclassifier__beta_2=0.9, mlpclassifier__beta_1=0.9, mlpclassifier__alpha=0.0001 \n",
      "[CV]  mlpclassifier__max_iter=400, mlpclassifier__learning_rate_init=0.01, mlpclassifier__hidden_layer_sizes=[7, 7, 7], mlpclassifier__epsilon=1e-09, mlpclassifier__beta_2=0.999, mlpclassifier__beta_1=0.1, mlpclassifier__alpha=0.001, total=   0.3s\n",
      "[CV] mlpclassifier__max_iter=400, mlpclassifier__learning_rate_init=0.01, mlpclassifier__hidden_layer_sizes=[7, 7, 7], mlpclassifier__epsilon=1e-09, mlpclassifier__beta_2=0.999, mlpclassifier__beta_1=0.1, mlpclassifier__alpha=0.001 \n",
      "[CV]  mlpclassifier__max_iter=300, mlpclassifier__learning_rate_init=0.01, mlpclassifier__hidden_layer_sizes=[7, 7, 7], mlpclassifier__epsilon=1e-08, mlpclassifier__beta_2=0.9, mlpclassifier__beta_1=0.9, mlpclassifier__alpha=0.0001, total=   0.6s\n",
      "[CV] mlpclassifier__max_iter=400, mlpclassifier__learning_rate_init=0.01, mlpclassifier__hidden_layer_sizes=[7, 7, 7], mlpclassifier__epsilon=1e-09, mlpclassifier__beta_2=0.999, mlpclassifier__beta_1=0.1, mlpclassifier__alpha=0.001 \n",
      "[CV]  mlpclassifier__max_iter=400, mlpclassifier__learning_rate_init=0.01, mlpclassifier__hidden_layer_sizes=[7, 7, 7], mlpclassifier__epsilon=1e-09, mlpclassifier__beta_2=0.999, mlpclassifier__beta_1=0.1, mlpclassifier__alpha=0.001, total=   0.3s\n",
      "[CV] mlpclassifier__max_iter=400, mlpclassifier__learning_rate_init=0.01, mlpclassifier__hidden_layer_sizes=[7, 7, 7], mlpclassifier__epsilon=1e-09, mlpclassifier__beta_2=0.999, mlpclassifier__beta_1=0.1, mlpclassifier__alpha=0.001 \n",
      "[CV]  mlpclassifier__max_iter=300, mlpclassifier__learning_rate_init=0.01, mlpclassifier__hidden_layer_sizes=[7, 7, 7], mlpclassifier__epsilon=1e-08, mlpclassifier__beta_2=0.9, mlpclassifier__beta_1=0.9, mlpclassifier__alpha=0.0001, total=   0.6s\n",
      "[CV] mlpclassifier__max_iter=400, mlpclassifier__learning_rate_init=0.01, mlpclassifier__hidden_layer_sizes=[7, 7, 7], mlpclassifier__epsilon=1e-09, mlpclassifier__beta_2=0.999, mlpclassifier__beta_1=0.1, mlpclassifier__alpha=0.001 \n",
      "[CV]  mlpclassifier__max_iter=400, mlpclassifier__learning_rate_init=0.01, mlpclassifier__hidden_layer_sizes=[7, 7, 7], mlpclassifier__epsilon=1e-09, mlpclassifier__beta_2=0.999, mlpclassifier__beta_1=0.1, mlpclassifier__alpha=0.001, total=   0.2s\n",
      "[CV] mlpclassifier__max_iter=400, mlpclassifier__learning_rate_init=0.0001, mlpclassifier__hidden_layer_sizes=[10, 10, 10], mlpclassifier__epsilon=1e-06, mlpclassifier__beta_2=0.95, mlpclassifier__beta_1=0.7, mlpclassifier__alpha=1e-05 \n",
      "[CV]  mlpclassifier__max_iter=400, mlpclassifier__learning_rate_init=0.01, mlpclassifier__hidden_layer_sizes=[7, 7, 7], mlpclassifier__epsilon=1e-09, mlpclassifier__beta_2=0.999, mlpclassifier__beta_1=0.1, mlpclassifier__alpha=0.001, total=   0.4s\n",
      "[CV]  mlpclassifier__max_iter=400, mlpclassifier__learning_rate_init=0.01, mlpclassifier__hidden_layer_sizes=[7, 7, 7], mlpclassifier__epsilon=1e-09, mlpclassifier__beta_2=0.999, mlpclassifier__beta_1=0.1, mlpclassifier__alpha=0.001, total=   0.3s\n",
      "[CV] mlpclassifier__max_iter=400, mlpclassifier__learning_rate_init=0.0001, mlpclassifier__hidden_layer_sizes=[10, 10, 10], mlpclassifier__epsilon=1e-06, mlpclassifier__beta_2=0.95, mlpclassifier__beta_1=0.7, mlpclassifier__alpha=1e-05 \n",
      "[CV] mlpclassifier__max_iter=400, mlpclassifier__learning_rate_init=0.0001, mlpclassifier__hidden_layer_sizes=[10, 10, 10], mlpclassifier__epsilon=1e-06, mlpclassifier__beta_2=0.95, mlpclassifier__beta_1=0.7, mlpclassifier__alpha=1e-05 \n",
      "[CV]  mlpclassifier__max_iter=500, mlpclassifier__learning_rate_init=0.0001, mlpclassifier__hidden_layer_sizes=[10, 10, 10], mlpclassifier__epsilon=1e-08, mlpclassifier__beta_2=0.5, mlpclassifier__beta_1=0.9, mlpclassifier__alpha=0.0001, total=   3.6s\n",
      "[CV] mlpclassifier__max_iter=400, mlpclassifier__learning_rate_init=0.0001, mlpclassifier__hidden_layer_sizes=[10, 10, 10], mlpclassifier__epsilon=1e-06, mlpclassifier__beta_2=0.95, mlpclassifier__beta_1=0.7, mlpclassifier__alpha=1e-05 \n"
     ]
    },
    {
     "name": "stderr",
     "output_type": "stream",
     "text": [
      "/home/diego/anaconda3/lib/python3.6/site-packages/sklearn/neural_network/multilayer_perceptron.py:564: ConvergenceWarning: Stochastic Optimizer: Maximum iterations (400) reached and the optimization hasn't converged yet.\n",
      "  % self.max_iter, ConvergenceWarning)\n"
     ]
    },
    {
     "name": "stdout",
     "output_type": "stream",
     "text": [
      "[CV]  mlpclassifier__max_iter=400, mlpclassifier__learning_rate_init=0.0001, mlpclassifier__hidden_layer_sizes=[10, 10, 10], mlpclassifier__epsilon=1e-06, mlpclassifier__beta_2=0.95, mlpclassifier__beta_1=0.7, mlpclassifier__alpha=1e-05, total=   2.6s\n",
      "[CV] mlpclassifier__max_iter=400, mlpclassifier__learning_rate_init=0.0001, mlpclassifier__hidden_layer_sizes=[10, 10, 10], mlpclassifier__epsilon=1e-06, mlpclassifier__beta_2=0.95, mlpclassifier__beta_1=0.7, mlpclassifier__alpha=1e-05 \n"
     ]
    },
    {
     "name": "stderr",
     "output_type": "stream",
     "text": [
      "/home/diego/anaconda3/lib/python3.6/site-packages/sklearn/neural_network/multilayer_perceptron.py:564: ConvergenceWarning: Stochastic Optimizer: Maximum iterations (400) reached and the optimization hasn't converged yet.\n",
      "  % self.max_iter, ConvergenceWarning)\n"
     ]
    },
    {
     "name": "stdout",
     "output_type": "stream",
     "text": [
      "[CV]  mlpclassifier__max_iter=400, mlpclassifier__learning_rate_init=0.0001, mlpclassifier__hidden_layer_sizes=[10, 10, 10], mlpclassifier__epsilon=1e-06, mlpclassifier__beta_2=0.95, mlpclassifier__beta_1=0.7, mlpclassifier__alpha=1e-05, total=   2.9s\n",
      "[CV] mlpclassifier__max_iter=300, mlpclassifier__learning_rate_init=0.0001, mlpclassifier__hidden_layer_sizes=[7, 7, 7], mlpclassifier__epsilon=1e-08, mlpclassifier__beta_2=0.5, mlpclassifier__beta_1=0.9, mlpclassifier__alpha=0.0001 \n"
     ]
    },
    {
     "name": "stderr",
     "output_type": "stream",
     "text": [
      "/home/diego/anaconda3/lib/python3.6/site-packages/sklearn/neural_network/multilayer_perceptron.py:564: ConvergenceWarning: Stochastic Optimizer: Maximum iterations (400) reached and the optimization hasn't converged yet.\n",
      "  % self.max_iter, ConvergenceWarning)\n"
     ]
    },
    {
     "name": "stdout",
     "output_type": "stream",
     "text": [
      "[CV]  mlpclassifier__max_iter=400, mlpclassifier__learning_rate_init=0.0001, mlpclassifier__hidden_layer_sizes=[10, 10, 10], mlpclassifier__epsilon=1e-06, mlpclassifier__beta_2=0.95, mlpclassifier__beta_1=0.7, mlpclassifier__alpha=1e-05, total=   3.3s\n",
      "[CV] mlpclassifier__max_iter=300, mlpclassifier__learning_rate_init=0.0001, mlpclassifier__hidden_layer_sizes=[7, 7, 7], mlpclassifier__epsilon=1e-08, mlpclassifier__beta_2=0.5, mlpclassifier__beta_1=0.9, mlpclassifier__alpha=0.0001 \n"
     ]
    },
    {
     "name": "stderr",
     "output_type": "stream",
     "text": [
      "/home/diego/anaconda3/lib/python3.6/site-packages/sklearn/neural_network/multilayer_perceptron.py:564: ConvergenceWarning: Stochastic Optimizer: Maximum iterations (300) reached and the optimization hasn't converged yet.\n",
      "  % self.max_iter, ConvergenceWarning)\n"
     ]
    },
    {
     "name": "stdout",
     "output_type": "stream",
     "text": [
      "[CV]  mlpclassifier__max_iter=300, mlpclassifier__learning_rate_init=0.0001, mlpclassifier__hidden_layer_sizes=[7, 7, 7], mlpclassifier__epsilon=1e-08, mlpclassifier__beta_2=0.5, mlpclassifier__beta_1=0.9, mlpclassifier__alpha=0.0001, total=   1.5s\n",
      "[CV] mlpclassifier__max_iter=300, mlpclassifier__learning_rate_init=0.0001, mlpclassifier__hidden_layer_sizes=[7, 7, 7], mlpclassifier__epsilon=1e-08, mlpclassifier__beta_2=0.5, mlpclassifier__beta_1=0.9, mlpclassifier__alpha=0.0001 \n"
     ]
    },
    {
     "name": "stderr",
     "output_type": "stream",
     "text": [
      "/home/diego/anaconda3/lib/python3.6/site-packages/sklearn/neural_network/multilayer_perceptron.py:564: ConvergenceWarning: Stochastic Optimizer: Maximum iterations (400) reached and the optimization hasn't converged yet.\n",
      "  % self.max_iter, ConvergenceWarning)\n"
     ]
    },
    {
     "name": "stdout",
     "output_type": "stream",
     "text": [
      "[CV]  mlpclassifier__max_iter=400, mlpclassifier__learning_rate_init=0.0001, mlpclassifier__hidden_layer_sizes=[10, 10, 10], mlpclassifier__epsilon=1e-06, mlpclassifier__beta_2=0.95, mlpclassifier__beta_1=0.7, mlpclassifier__alpha=1e-05, total=   2.7s\n",
      "[CV] mlpclassifier__max_iter=300, mlpclassifier__learning_rate_init=0.0001, mlpclassifier__hidden_layer_sizes=[7, 7, 7], mlpclassifier__epsilon=1e-08, mlpclassifier__beta_2=0.5, mlpclassifier__beta_1=0.9, mlpclassifier__alpha=0.0001 \n"
     ]
    },
    {
     "name": "stderr",
     "output_type": "stream",
     "text": [
      "/home/diego/anaconda3/lib/python3.6/site-packages/sklearn/neural_network/multilayer_perceptron.py:564: ConvergenceWarning: Stochastic Optimizer: Maximum iterations (400) reached and the optimization hasn't converged yet.\n",
      "  % self.max_iter, ConvergenceWarning)\n"
     ]
    },
    {
     "name": "stdout",
     "output_type": "stream",
     "text": [
      "[CV]  mlpclassifier__max_iter=400, mlpclassifier__learning_rate_init=0.0001, mlpclassifier__hidden_layer_sizes=[10, 10, 10], mlpclassifier__epsilon=1e-06, mlpclassifier__beta_2=0.95, mlpclassifier__beta_1=0.7, mlpclassifier__alpha=1e-05, total=   3.0s\n",
      "[CV] mlpclassifier__max_iter=300, mlpclassifier__learning_rate_init=0.0001, mlpclassifier__hidden_layer_sizes=[7, 7, 7], mlpclassifier__epsilon=1e-08, mlpclassifier__beta_2=0.5, mlpclassifier__beta_1=0.9, mlpclassifier__alpha=0.0001 \n"
     ]
    },
    {
     "name": "stderr",
     "output_type": "stream",
     "text": [
      "/home/diego/anaconda3/lib/python3.6/site-packages/sklearn/neural_network/multilayer_perceptron.py:564: ConvergenceWarning: Stochastic Optimizer: Maximum iterations (300) reached and the optimization hasn't converged yet.\n",
      "  % self.max_iter, ConvergenceWarning)\n"
     ]
    },
    {
     "name": "stdout",
     "output_type": "stream",
     "text": [
      "[CV]  mlpclassifier__max_iter=300, mlpclassifier__learning_rate_init=0.0001, mlpclassifier__hidden_layer_sizes=[7, 7, 7], mlpclassifier__epsilon=1e-08, mlpclassifier__beta_2=0.5, mlpclassifier__beta_1=0.9, mlpclassifier__alpha=0.0001, total=   2.5s\n",
      "[CV] mlpclassifier__max_iter=500, mlpclassifier__learning_rate_init=0.01, mlpclassifier__hidden_layer_sizes=[7, 7, 7], mlpclassifier__epsilon=1e-09, mlpclassifier__beta_2=0.95, mlpclassifier__beta_1=0.7, mlpclassifier__alpha=0.01 \n"
     ]
    },
    {
     "name": "stderr",
     "output_type": "stream",
     "text": [
      "/home/diego/anaconda3/lib/python3.6/site-packages/sklearn/neural_network/multilayer_perceptron.py:564: ConvergenceWarning: Stochastic Optimizer: Maximum iterations (300) reached and the optimization hasn't converged yet.\n",
      "  % self.max_iter, ConvergenceWarning)\n"
     ]
    },
    {
     "name": "stdout",
     "output_type": "stream",
     "text": [
      "[CV]  mlpclassifier__max_iter=300, mlpclassifier__learning_rate_init=0.0001, mlpclassifier__hidden_layer_sizes=[7, 7, 7], mlpclassifier__epsilon=1e-08, mlpclassifier__beta_2=0.5, mlpclassifier__beta_1=0.9, mlpclassifier__alpha=0.0001, total=   1.6s\n",
      "[CV] mlpclassifier__max_iter=500, mlpclassifier__learning_rate_init=0.01, mlpclassifier__hidden_layer_sizes=[7, 7, 7], mlpclassifier__epsilon=1e-09, mlpclassifier__beta_2=0.95, mlpclassifier__beta_1=0.7, mlpclassifier__alpha=0.01 \n",
      "[CV]  mlpclassifier__max_iter=500, mlpclassifier__learning_rate_init=0.01, mlpclassifier__hidden_layer_sizes=[7, 7, 7], mlpclassifier__epsilon=1e-09, mlpclassifier__beta_2=0.95, mlpclassifier__beta_1=0.7, mlpclassifier__alpha=0.01, total=   0.5s\n",
      "[CV] mlpclassifier__max_iter=500, mlpclassifier__learning_rate_init=0.01, mlpclassifier__hidden_layer_sizes=[7, 7, 7], mlpclassifier__epsilon=1e-09, mlpclassifier__beta_2=0.95, mlpclassifier__beta_1=0.7, mlpclassifier__alpha=0.01 \n"
     ]
    },
    {
     "name": "stderr",
     "output_type": "stream",
     "text": [
      "/home/diego/anaconda3/lib/python3.6/site-packages/sklearn/neural_network/multilayer_perceptron.py:564: ConvergenceWarning: Stochastic Optimizer: Maximum iterations (300) reached and the optimization hasn't converged yet.\n",
      "  % self.max_iter, ConvergenceWarning)\n"
     ]
    },
    {
     "name": "stdout",
     "output_type": "stream",
     "text": [
      "[CV]  mlpclassifier__max_iter=300, mlpclassifier__learning_rate_init=0.0001, mlpclassifier__hidden_layer_sizes=[7, 7, 7], mlpclassifier__epsilon=1e-08, mlpclassifier__beta_2=0.5, mlpclassifier__beta_1=0.9, mlpclassifier__alpha=0.0001, total=   2.1s\n",
      "[CV] mlpclassifier__max_iter=500, mlpclassifier__learning_rate_init=0.01, mlpclassifier__hidden_layer_sizes=[7, 7, 7], mlpclassifier__epsilon=1e-09, mlpclassifier__beta_2=0.95, mlpclassifier__beta_1=0.7, mlpclassifier__alpha=0.01 \n",
      "[CV]  mlpclassifier__max_iter=500, mlpclassifier__learning_rate_init=0.01, mlpclassifier__hidden_layer_sizes=[7, 7, 7], mlpclassifier__epsilon=1e-09, mlpclassifier__beta_2=0.95, mlpclassifier__beta_1=0.7, mlpclassifier__alpha=0.01, total=   0.4s\n",
      "[CV] mlpclassifier__max_iter=500, mlpclassifier__learning_rate_init=0.01, mlpclassifier__hidden_layer_sizes=[7, 7, 7], mlpclassifier__epsilon=1e-09, mlpclassifier__beta_2=0.95, mlpclassifier__beta_1=0.7, mlpclassifier__alpha=0.01 \n",
      "[CV]  mlpclassifier__max_iter=500, mlpclassifier__learning_rate_init=0.01, mlpclassifier__hidden_layer_sizes=[7, 7, 7], mlpclassifier__epsilon=1e-09, mlpclassifier__beta_2=0.95, mlpclassifier__beta_1=0.7, mlpclassifier__alpha=0.01, total=   0.4s\n",
      "[CV] mlpclassifier__max_iter=300, mlpclassifier__learning_rate_init=0.0001, mlpclassifier__hidden_layer_sizes=[7, 7, 7], mlpclassifier__epsilon=1e-06, mlpclassifier__beta_2=0.5, mlpclassifier__beta_1=0.5, mlpclassifier__alpha=0.001 \n",
      "[CV]  mlpclassifier__max_iter=500, mlpclassifier__learning_rate_init=0.01, mlpclassifier__hidden_layer_sizes=[7, 7, 7], mlpclassifier__epsilon=1e-09, mlpclassifier__beta_2=0.95, mlpclassifier__beta_1=0.7, mlpclassifier__alpha=0.01, total=   0.1s\n",
      "[CV] mlpclassifier__max_iter=300, mlpclassifier__learning_rate_init=0.0001, mlpclassifier__hidden_layer_sizes=[7, 7, 7], mlpclassifier__epsilon=1e-06, mlpclassifier__beta_2=0.5, mlpclassifier__beta_1=0.5, mlpclassifier__alpha=0.001 \n",
      "[CV]  mlpclassifier__max_iter=500, mlpclassifier__learning_rate_init=0.01, mlpclassifier__hidden_layer_sizes=[7, 7, 7], mlpclassifier__epsilon=1e-09, mlpclassifier__beta_2=0.95, mlpclassifier__beta_1=0.7, mlpclassifier__alpha=0.01, total=   0.4s\n",
      "[CV] mlpclassifier__max_iter=300, mlpclassifier__learning_rate_init=0.0001, mlpclassifier__hidden_layer_sizes=[7, 7, 7], mlpclassifier__epsilon=1e-06, mlpclassifier__beta_2=0.5, mlpclassifier__beta_1=0.5, mlpclassifier__alpha=0.001 \n"
     ]
    },
    {
     "name": "stderr",
     "output_type": "stream",
     "text": [
      "/home/diego/anaconda3/lib/python3.6/site-packages/sklearn/neural_network/multilayer_perceptron.py:564: ConvergenceWarning: Stochastic Optimizer: Maximum iterations (300) reached and the optimization hasn't converged yet.\n",
      "  % self.max_iter, ConvergenceWarning)\n"
     ]
    },
    {
     "name": "stdout",
     "output_type": "stream",
     "text": [
      "[CV]  mlpclassifier__max_iter=300, mlpclassifier__learning_rate_init=0.0001, mlpclassifier__hidden_layer_sizes=[7, 7, 7], mlpclassifier__epsilon=1e-08, mlpclassifier__beta_2=0.5, mlpclassifier__beta_1=0.9, mlpclassifier__alpha=0.0001, total=   2.6s\n",
      "[CV] mlpclassifier__max_iter=300, mlpclassifier__learning_rate_init=0.0001, mlpclassifier__hidden_layer_sizes=[7, 7, 7], mlpclassifier__epsilon=1e-06, mlpclassifier__beta_2=0.5, mlpclassifier__beta_1=0.5, mlpclassifier__alpha=0.001 \n",
      "[CV]  mlpclassifier__max_iter=300, mlpclassifier__learning_rate_init=0.0001, mlpclassifier__hidden_layer_sizes=[7, 7, 7], mlpclassifier__epsilon=1e-06, mlpclassifier__beta_2=0.5, mlpclassifier__beta_1=0.5, mlpclassifier__alpha=0.001, total=   0.3s\n",
      "[CV] mlpclassifier__max_iter=300, mlpclassifier__learning_rate_init=0.0001, mlpclassifier__hidden_layer_sizes=[7, 7, 7], mlpclassifier__epsilon=1e-06, mlpclassifier__beta_2=0.5, mlpclassifier__beta_1=0.5, mlpclassifier__alpha=0.001 \n"
     ]
    },
    {
     "name": "stderr",
     "output_type": "stream",
     "text": [
      "/home/diego/anaconda3/lib/python3.6/site-packages/sklearn/neural_network/multilayer_perceptron.py:564: ConvergenceWarning: Stochastic Optimizer: Maximum iterations (300) reached and the optimization hasn't converged yet.\n",
      "  % self.max_iter, ConvergenceWarning)\n"
     ]
    },
    {
     "name": "stdout",
     "output_type": "stream",
     "text": [
      "[CV]  mlpclassifier__max_iter=300, mlpclassifier__learning_rate_init=0.0001, mlpclassifier__hidden_layer_sizes=[7, 7, 7], mlpclassifier__epsilon=1e-06, mlpclassifier__beta_2=0.5, mlpclassifier__beta_1=0.5, mlpclassifier__alpha=0.001, total=   2.0s\n",
      "[CV] mlpclassifier__max_iter=300, mlpclassifier__learning_rate_init=0.001, mlpclassifier__hidden_layer_sizes=[10, 10, 10], mlpclassifier__epsilon=1e-06, mlpclassifier__beta_2=0.9, mlpclassifier__beta_1=0.1, mlpclassifier__alpha=0.01 \n"
     ]
    },
    {
     "name": "stderr",
     "output_type": "stream",
     "text": [
      "/home/diego/anaconda3/lib/python3.6/site-packages/sklearn/neural_network/multilayer_perceptron.py:564: ConvergenceWarning: Stochastic Optimizer: Maximum iterations (300) reached and the optimization hasn't converged yet.\n",
      "  % self.max_iter, ConvergenceWarning)\n"
     ]
    },
    {
     "name": "stdout",
     "output_type": "stream",
     "text": [
      "[CV]  mlpclassifier__max_iter=300, mlpclassifier__learning_rate_init=0.0001, mlpclassifier__hidden_layer_sizes=[7, 7, 7], mlpclassifier__epsilon=1e-06, mlpclassifier__beta_2=0.5, mlpclassifier__beta_1=0.5, mlpclassifier__alpha=0.001, total=   2.2s\n",
      "[CV] mlpclassifier__max_iter=300, mlpclassifier__learning_rate_init=0.001, mlpclassifier__hidden_layer_sizes=[10, 10, 10], mlpclassifier__epsilon=1e-06, mlpclassifier__beta_2=0.9, mlpclassifier__beta_1=0.1, mlpclassifier__alpha=0.01 \n"
     ]
    },
    {
     "name": "stderr",
     "output_type": "stream",
     "text": [
      "/home/diego/anaconda3/lib/python3.6/site-packages/sklearn/neural_network/multilayer_perceptron.py:564: ConvergenceWarning: Stochastic Optimizer: Maximum iterations (300) reached and the optimization hasn't converged yet.\n",
      "  % self.max_iter, ConvergenceWarning)\n"
     ]
    },
    {
     "name": "stdout",
     "output_type": "stream",
     "text": [
      "[CV]  mlpclassifier__max_iter=300, mlpclassifier__learning_rate_init=0.0001, mlpclassifier__hidden_layer_sizes=[7, 7, 7], mlpclassifier__epsilon=1e-06, mlpclassifier__beta_2=0.5, mlpclassifier__beta_1=0.5, mlpclassifier__alpha=0.001, total=   2.1s\n",
      "[CV] mlpclassifier__max_iter=300, mlpclassifier__learning_rate_init=0.001, mlpclassifier__hidden_layer_sizes=[10, 10, 10], mlpclassifier__epsilon=1e-06, mlpclassifier__beta_2=0.9, mlpclassifier__beta_1=0.1, mlpclassifier__alpha=0.01 \n",
      "[CV]  mlpclassifier__max_iter=300, mlpclassifier__learning_rate_init=0.001, mlpclassifier__hidden_layer_sizes=[10, 10, 10], mlpclassifier__epsilon=1e-06, mlpclassifier__beta_2=0.9, mlpclassifier__beta_1=0.1, mlpclassifier__alpha=0.01, total=   0.9s\n",
      "[CV] mlpclassifier__max_iter=300, mlpclassifier__learning_rate_init=0.001, mlpclassifier__hidden_layer_sizes=[10, 10, 10], mlpclassifier__epsilon=1e-06, mlpclassifier__beta_2=0.9, mlpclassifier__beta_1=0.1, mlpclassifier__alpha=0.01 \n"
     ]
    },
    {
     "name": "stderr",
     "output_type": "stream",
     "text": [
      "/home/diego/anaconda3/lib/python3.6/site-packages/sklearn/neural_network/multilayer_perceptron.py:564: ConvergenceWarning: Stochastic Optimizer: Maximum iterations (300) reached and the optimization hasn't converged yet.\n",
      "  % self.max_iter, ConvergenceWarning)\n"
     ]
    },
    {
     "name": "stdout",
     "output_type": "stream",
     "text": [
      "[CV]  mlpclassifier__max_iter=300, mlpclassifier__learning_rate_init=0.0001, mlpclassifier__hidden_layer_sizes=[7, 7, 7], mlpclassifier__epsilon=1e-06, mlpclassifier__beta_2=0.5, mlpclassifier__beta_1=0.5, mlpclassifier__alpha=0.001, total=   1.7s\n",
      "[CV] mlpclassifier__max_iter=300, mlpclassifier__learning_rate_init=0.001, mlpclassifier__hidden_layer_sizes=[10, 10, 10], mlpclassifier__epsilon=1e-06, mlpclassifier__beta_2=0.9, mlpclassifier__beta_1=0.1, mlpclassifier__alpha=0.01 \n",
      "[CV]  mlpclassifier__max_iter=300, mlpclassifier__learning_rate_init=0.001, mlpclassifier__hidden_layer_sizes=[10, 10, 10], mlpclassifier__epsilon=1e-06, mlpclassifier__beta_2=0.9, mlpclassifier__beta_1=0.1, mlpclassifier__alpha=0.01, total=   1.2s\n",
      "[CV] mlpclassifier__max_iter=500, mlpclassifier__learning_rate_init=0.001, mlpclassifier__hidden_layer_sizes=[5, 5, 5], mlpclassifier__epsilon=1e-09, mlpclassifier__beta_2=0.999, mlpclassifier__beta_1=0.3, mlpclassifier__alpha=0.001 \n",
      "[CV]  mlpclassifier__max_iter=300, mlpclassifier__learning_rate_init=0.001, mlpclassifier__hidden_layer_sizes=[10, 10, 10], mlpclassifier__epsilon=1e-06, mlpclassifier__beta_2=0.9, mlpclassifier__beta_1=0.1, mlpclassifier__alpha=0.01, total=   0.8s\n",
      "[CV] mlpclassifier__max_iter=500, mlpclassifier__learning_rate_init=0.001, mlpclassifier__hidden_layer_sizes=[5, 5, 5], mlpclassifier__epsilon=1e-09, mlpclassifier__beta_2=0.999, mlpclassifier__beta_1=0.3, mlpclassifier__alpha=0.001 \n",
      "[CV]  mlpclassifier__max_iter=500, mlpclassifier__learning_rate_init=0.001, mlpclassifier__hidden_layer_sizes=[5, 5, 5], mlpclassifier__epsilon=1e-09, mlpclassifier__beta_2=0.999, mlpclassifier__beta_1=0.3, mlpclassifier__alpha=0.001, total=   1.0s\n",
      "[CV] mlpclassifier__max_iter=500, mlpclassifier__learning_rate_init=0.001, mlpclassifier__hidden_layer_sizes=[5, 5, 5], mlpclassifier__epsilon=1e-09, mlpclassifier__beta_2=0.999, mlpclassifier__beta_1=0.3, mlpclassifier__alpha=0.001 \n"
     ]
    },
    {
     "name": "stderr",
     "output_type": "stream",
     "text": [
      "/home/diego/anaconda3/lib/python3.6/site-packages/sklearn/neural_network/multilayer_perceptron.py:564: ConvergenceWarning: Stochastic Optimizer: Maximum iterations (300) reached and the optimization hasn't converged yet.\n",
      "  % self.max_iter, ConvergenceWarning)\n"
     ]
    },
    {
     "name": "stdout",
     "output_type": "stream",
     "text": [
      "[CV]  mlpclassifier__max_iter=300, mlpclassifier__learning_rate_init=0.001, mlpclassifier__hidden_layer_sizes=[10, 10, 10], mlpclassifier__epsilon=1e-06, mlpclassifier__beta_2=0.9, mlpclassifier__beta_1=0.1, mlpclassifier__alpha=0.01, total=   2.6s\n",
      "[CV] mlpclassifier__max_iter=500, mlpclassifier__learning_rate_init=0.001, mlpclassifier__hidden_layer_sizes=[5, 5, 5], mlpclassifier__epsilon=1e-09, mlpclassifier__beta_2=0.999, mlpclassifier__beta_1=0.3, mlpclassifier__alpha=0.001 \n",
      "[CV]  mlpclassifier__max_iter=300, mlpclassifier__learning_rate_init=0.001, mlpclassifier__hidden_layer_sizes=[10, 10, 10], mlpclassifier__epsilon=1e-06, mlpclassifier__beta_2=0.9, mlpclassifier__beta_1=0.1, mlpclassifier__alpha=0.01, total=   2.0s\n",
      "[CV] mlpclassifier__max_iter=500, mlpclassifier__learning_rate_init=0.001, mlpclassifier__hidden_layer_sizes=[5, 5, 5], mlpclassifier__epsilon=1e-09, mlpclassifier__beta_2=0.999, mlpclassifier__beta_1=0.3, mlpclassifier__alpha=0.001 \n",
      "[CV]  mlpclassifier__max_iter=500, mlpclassifier__learning_rate_init=0.001, mlpclassifier__hidden_layer_sizes=[5, 5, 5], mlpclassifier__epsilon=1e-09, mlpclassifier__beta_2=0.999, mlpclassifier__beta_1=0.3, mlpclassifier__alpha=0.001, total=   0.9s\n",
      "[CV] mlpclassifier__max_iter=500, mlpclassifier__learning_rate_init=0.0001, mlpclassifier__hidden_layer_sizes=[10, 10, 10], mlpclassifier__epsilon=1e-06, mlpclassifier__beta_2=0.95, mlpclassifier__beta_1=0.7, mlpclassifier__alpha=0.001 \n",
      "[CV]  mlpclassifier__max_iter=500, mlpclassifier__learning_rate_init=0.001, mlpclassifier__hidden_layer_sizes=[5, 5, 5], mlpclassifier__epsilon=1e-09, mlpclassifier__beta_2=0.999, mlpclassifier__beta_1=0.3, mlpclassifier__alpha=0.001, total=   0.8s\n",
      "[CV] mlpclassifier__max_iter=500, mlpclassifier__learning_rate_init=0.0001, mlpclassifier__hidden_layer_sizes=[10, 10, 10], mlpclassifier__epsilon=1e-06, mlpclassifier__beta_2=0.95, mlpclassifier__beta_1=0.7, mlpclassifier__alpha=0.001 \n",
      "[CV]  mlpclassifier__max_iter=500, mlpclassifier__learning_rate_init=0.001, mlpclassifier__hidden_layer_sizes=[5, 5, 5], mlpclassifier__epsilon=1e-09, mlpclassifier__beta_2=0.999, mlpclassifier__beta_1=0.3, mlpclassifier__alpha=0.001, total=   2.1s\n",
      "[CV] mlpclassifier__max_iter=500, mlpclassifier__learning_rate_init=0.0001, mlpclassifier__hidden_layer_sizes=[10, 10, 10], mlpclassifier__epsilon=1e-06, mlpclassifier__beta_2=0.95, mlpclassifier__beta_1=0.7, mlpclassifier__alpha=0.001 \n",
      "[CV]  mlpclassifier__max_iter=500, mlpclassifier__learning_rate_init=0.001, mlpclassifier__hidden_layer_sizes=[5, 5, 5], mlpclassifier__epsilon=1e-09, mlpclassifier__beta_2=0.999, mlpclassifier__beta_1=0.3, mlpclassifier__alpha=0.001, total=   1.8s\n",
      "[CV] mlpclassifier__max_iter=500, mlpclassifier__learning_rate_init=0.0001, mlpclassifier__hidden_layer_sizes=[10, 10, 10], mlpclassifier__epsilon=1e-06, mlpclassifier__beta_2=0.95, mlpclassifier__beta_1=0.7, mlpclassifier__alpha=0.001 \n"
     ]
    },
    {
     "name": "stderr",
     "output_type": "stream",
     "text": [
      "/home/diego/anaconda3/lib/python3.6/site-packages/sklearn/neural_network/multilayer_perceptron.py:564: ConvergenceWarning: Stochastic Optimizer: Maximum iterations (500) reached and the optimization hasn't converged yet.\n",
      "  % self.max_iter, ConvergenceWarning)\n"
     ]
    },
    {
     "name": "stdout",
     "output_type": "stream",
     "text": [
      "[CV]  mlpclassifier__max_iter=500, mlpclassifier__learning_rate_init=0.0001, mlpclassifier__hidden_layer_sizes=[10, 10, 10], mlpclassifier__epsilon=1e-06, mlpclassifier__beta_2=0.95, mlpclassifier__beta_1=0.7, mlpclassifier__alpha=0.001, total=   3.6s\n",
      "[CV] mlpclassifier__max_iter=500, mlpclassifier__learning_rate_init=0.0001, mlpclassifier__hidden_layer_sizes=[10, 10, 10], mlpclassifier__epsilon=1e-06, mlpclassifier__beta_2=0.95, mlpclassifier__beta_1=0.7, mlpclassifier__alpha=0.001 \n"
     ]
    },
    {
     "name": "stderr",
     "output_type": "stream",
     "text": [
      "/home/diego/anaconda3/lib/python3.6/site-packages/sklearn/neural_network/multilayer_perceptron.py:564: ConvergenceWarning: Stochastic Optimizer: Maximum iterations (500) reached and the optimization hasn't converged yet.\n",
      "  % self.max_iter, ConvergenceWarning)\n"
     ]
    },
    {
     "name": "stdout",
     "output_type": "stream",
     "text": [
      "[CV]  mlpclassifier__max_iter=500, mlpclassifier__learning_rate_init=0.0001, mlpclassifier__hidden_layer_sizes=[10, 10, 10], mlpclassifier__epsilon=1e-06, mlpclassifier__beta_2=0.95, mlpclassifier__beta_1=0.7, mlpclassifier__alpha=0.001, total=   2.7s\n",
      "[CV] mlpclassifier__max_iter=300, mlpclassifier__learning_rate_init=0.0001, mlpclassifier__hidden_layer_sizes=[5, 5, 5], mlpclassifier__epsilon=1e-08, mlpclassifier__beta_2=0.999, mlpclassifier__beta_1=0.9, mlpclassifier__alpha=0.001 \n"
     ]
    },
    {
     "name": "stderr",
     "output_type": "stream",
     "text": [
      "/home/diego/anaconda3/lib/python3.6/site-packages/sklearn/neural_network/multilayer_perceptron.py:564: ConvergenceWarning: Stochastic Optimizer: Maximum iterations (500) reached and the optimization hasn't converged yet.\n",
      "  % self.max_iter, ConvergenceWarning)\n"
     ]
    },
    {
     "name": "stdout",
     "output_type": "stream",
     "text": [
      "[CV]  mlpclassifier__max_iter=500, mlpclassifier__learning_rate_init=0.0001, mlpclassifier__hidden_layer_sizes=[10, 10, 10], mlpclassifier__epsilon=1e-06, mlpclassifier__beta_2=0.95, mlpclassifier__beta_1=0.7, mlpclassifier__alpha=0.001, total=   3.5s\n",
      "[CV] mlpclassifier__max_iter=300, mlpclassifier__learning_rate_init=0.0001, mlpclassifier__hidden_layer_sizes=[5, 5, 5], mlpclassifier__epsilon=1e-08, mlpclassifier__beta_2=0.999, mlpclassifier__beta_1=0.9, mlpclassifier__alpha=0.001 \n"
     ]
    },
    {
     "name": "stderr",
     "output_type": "stream",
     "text": [
      "/home/diego/anaconda3/lib/python3.6/site-packages/sklearn/neural_network/multilayer_perceptron.py:564: ConvergenceWarning: Stochastic Optimizer: Maximum iterations (500) reached and the optimization hasn't converged yet.\n",
      "  % self.max_iter, ConvergenceWarning)\n"
     ]
    },
    {
     "name": "stdout",
     "output_type": "stream",
     "text": [
      "[CV]  mlpclassifier__max_iter=500, mlpclassifier__learning_rate_init=0.0001, mlpclassifier__hidden_layer_sizes=[10, 10, 10], mlpclassifier__epsilon=1e-06, mlpclassifier__beta_2=0.95, mlpclassifier__beta_1=0.7, mlpclassifier__alpha=0.001, total=   4.3s\n",
      "[CV] mlpclassifier__max_iter=300, mlpclassifier__learning_rate_init=0.0001, mlpclassifier__hidden_layer_sizes=[5, 5, 5], mlpclassifier__epsilon=1e-08, mlpclassifier__beta_2=0.999, mlpclassifier__beta_1=0.9, mlpclassifier__alpha=0.001 \n"
     ]
    },
    {
     "name": "stderr",
     "output_type": "stream",
     "text": [
      "/home/diego/anaconda3/lib/python3.6/site-packages/sklearn/neural_network/multilayer_perceptron.py:564: ConvergenceWarning: Stochastic Optimizer: Maximum iterations (300) reached and the optimization hasn't converged yet.\n",
      "  % self.max_iter, ConvergenceWarning)\n"
     ]
    },
    {
     "name": "stdout",
     "output_type": "stream",
     "text": [
      "[CV]  mlpclassifier__max_iter=300, mlpclassifier__learning_rate_init=0.0001, mlpclassifier__hidden_layer_sizes=[5, 5, 5], mlpclassifier__epsilon=1e-08, mlpclassifier__beta_2=0.999, mlpclassifier__beta_1=0.9, mlpclassifier__alpha=0.001, total=   1.8s\n",
      "[CV] mlpclassifier__max_iter=300, mlpclassifier__learning_rate_init=0.0001, mlpclassifier__hidden_layer_sizes=[5, 5, 5], mlpclassifier__epsilon=1e-08, mlpclassifier__beta_2=0.999, mlpclassifier__beta_1=0.9, mlpclassifier__alpha=0.001 \n"
     ]
    },
    {
     "name": "stderr",
     "output_type": "stream",
     "text": [
      "/home/diego/anaconda3/lib/python3.6/site-packages/sklearn/neural_network/multilayer_perceptron.py:564: ConvergenceWarning: Stochastic Optimizer: Maximum iterations (300) reached and the optimization hasn't converged yet.\n",
      "  % self.max_iter, ConvergenceWarning)\n"
     ]
    },
    {
     "name": "stdout",
     "output_type": "stream",
     "text": [
      "[CV]  mlpclassifier__max_iter=300, mlpclassifier__learning_rate_init=0.0001, mlpclassifier__hidden_layer_sizes=[5, 5, 5], mlpclassifier__epsilon=1e-08, mlpclassifier__beta_2=0.999, mlpclassifier__beta_1=0.9, mlpclassifier__alpha=0.001, total=   2.1s\n",
      "[CV] mlpclassifier__max_iter=300, mlpclassifier__learning_rate_init=0.0001, mlpclassifier__hidden_layer_sizes=[5, 5, 5], mlpclassifier__epsilon=1e-08, mlpclassifier__beta_2=0.999, mlpclassifier__beta_1=0.9, mlpclassifier__alpha=0.001 \n"
     ]
    },
    {
     "name": "stderr",
     "output_type": "stream",
     "text": [
      "/home/diego/anaconda3/lib/python3.6/site-packages/sklearn/neural_network/multilayer_perceptron.py:564: ConvergenceWarning: Stochastic Optimizer: Maximum iterations (300) reached and the optimization hasn't converged yet.\n",
      "  % self.max_iter, ConvergenceWarning)\n"
     ]
    },
    {
     "name": "stdout",
     "output_type": "stream",
     "text": [
      "[CV]  mlpclassifier__max_iter=300, mlpclassifier__learning_rate_init=0.0001, mlpclassifier__hidden_layer_sizes=[5, 5, 5], mlpclassifier__epsilon=1e-08, mlpclassifier__beta_2=0.999, mlpclassifier__beta_1=0.9, mlpclassifier__alpha=0.001, total=   2.5s\n",
      "[CV] mlpclassifier__max_iter=300, mlpclassifier__learning_rate_init=0.0001, mlpclassifier__hidden_layer_sizes=[7, 7, 7], mlpclassifier__epsilon=1e-08, mlpclassifier__beta_2=0.999, mlpclassifier__beta_1=0.7, mlpclassifier__alpha=1e-05 \n"
     ]
    },
    {
     "name": "stderr",
     "output_type": "stream",
     "text": [
      "/home/diego/anaconda3/lib/python3.6/site-packages/sklearn/neural_network/multilayer_perceptron.py:564: ConvergenceWarning: Stochastic Optimizer: Maximum iterations (500) reached and the optimization hasn't converged yet.\n",
      "  % self.max_iter, ConvergenceWarning)\n"
     ]
    },
    {
     "name": "stdout",
     "output_type": "stream",
     "text": [
      "[CV]  mlpclassifier__max_iter=500, mlpclassifier__learning_rate_init=0.0001, mlpclassifier__hidden_layer_sizes=[10, 10, 10], mlpclassifier__epsilon=1e-06, mlpclassifier__beta_2=0.95, mlpclassifier__beta_1=0.7, mlpclassifier__alpha=0.001, total=   3.7s\n",
      "[CV] mlpclassifier__max_iter=300, mlpclassifier__learning_rate_init=0.0001, mlpclassifier__hidden_layer_sizes=[7, 7, 7], mlpclassifier__epsilon=1e-08, mlpclassifier__beta_2=0.999, mlpclassifier__beta_1=0.7, mlpclassifier__alpha=1e-05 \n"
     ]
    },
    {
     "name": "stderr",
     "output_type": "stream",
     "text": [
      "/home/diego/anaconda3/lib/python3.6/site-packages/sklearn/neural_network/multilayer_perceptron.py:564: ConvergenceWarning: Stochastic Optimizer: Maximum iterations (300) reached and the optimization hasn't converged yet.\n",
      "  % self.max_iter, ConvergenceWarning)\n"
     ]
    },
    {
     "name": "stdout",
     "output_type": "stream",
     "text": [
      "[CV]  mlpclassifier__max_iter=300, mlpclassifier__learning_rate_init=0.0001, mlpclassifier__hidden_layer_sizes=[5, 5, 5], mlpclassifier__epsilon=1e-08, mlpclassifier__beta_2=0.999, mlpclassifier__beta_1=0.9, mlpclassifier__alpha=0.001, total=   1.9s\n",
      "[CV] mlpclassifier__max_iter=300, mlpclassifier__learning_rate_init=0.0001, mlpclassifier__hidden_layer_sizes=[7, 7, 7], mlpclassifier__epsilon=1e-08, mlpclassifier__beta_2=0.999, mlpclassifier__beta_1=0.7, mlpclassifier__alpha=1e-05 \n"
     ]
    },
    {
     "name": "stderr",
     "output_type": "stream",
     "text": [
      "/home/diego/anaconda3/lib/python3.6/site-packages/sklearn/neural_network/multilayer_perceptron.py:564: ConvergenceWarning: Stochastic Optimizer: Maximum iterations (300) reached and the optimization hasn't converged yet.\n",
      "  % self.max_iter, ConvergenceWarning)\n"
     ]
    },
    {
     "name": "stdout",
     "output_type": "stream",
     "text": [
      "[CV]  mlpclassifier__max_iter=300, mlpclassifier__learning_rate_init=0.0001, mlpclassifier__hidden_layer_sizes=[5, 5, 5], mlpclassifier__epsilon=1e-08, mlpclassifier__beta_2=0.999, mlpclassifier__beta_1=0.9, mlpclassifier__alpha=0.001, total=   1.9s\n",
      "[CV] mlpclassifier__max_iter=300, mlpclassifier__learning_rate_init=0.0001, mlpclassifier__hidden_layer_sizes=[7, 7, 7], mlpclassifier__epsilon=1e-08, mlpclassifier__beta_2=0.999, mlpclassifier__beta_1=0.7, mlpclassifier__alpha=1e-05 \n"
     ]
    },
    {
     "name": "stderr",
     "output_type": "stream",
     "text": [
      "/home/diego/anaconda3/lib/python3.6/site-packages/sklearn/neural_network/multilayer_perceptron.py:564: ConvergenceWarning: Stochastic Optimizer: Maximum iterations (300) reached and the optimization hasn't converged yet.\n",
      "  % self.max_iter, ConvergenceWarning)\n"
     ]
    },
    {
     "name": "stdout",
     "output_type": "stream",
     "text": [
      "[CV]  mlpclassifier__max_iter=300, mlpclassifier__learning_rate_init=0.0001, mlpclassifier__hidden_layer_sizes=[7, 7, 7], mlpclassifier__epsilon=1e-08, mlpclassifier__beta_2=0.999, mlpclassifier__beta_1=0.7, mlpclassifier__alpha=1e-05, total=   2.2s\n",
      "[CV] mlpclassifier__max_iter=300, mlpclassifier__learning_rate_init=0.0001, mlpclassifier__hidden_layer_sizes=[7, 7, 7], mlpclassifier__epsilon=1e-08, mlpclassifier__beta_2=0.999, mlpclassifier__beta_1=0.7, mlpclassifier__alpha=1e-05 \n"
     ]
    },
    {
     "name": "stderr",
     "output_type": "stream",
     "text": [
      "/home/diego/anaconda3/lib/python3.6/site-packages/sklearn/neural_network/multilayer_perceptron.py:564: ConvergenceWarning: Stochastic Optimizer: Maximum iterations (300) reached and the optimization hasn't converged yet.\n",
      "  % self.max_iter, ConvergenceWarning)\n"
     ]
    },
    {
     "name": "stdout",
     "output_type": "stream",
     "text": [
      "[CV]  mlpclassifier__max_iter=300, mlpclassifier__learning_rate_init=0.0001, mlpclassifier__hidden_layer_sizes=[7, 7, 7], mlpclassifier__epsilon=1e-08, mlpclassifier__beta_2=0.999, mlpclassifier__beta_1=0.7, mlpclassifier__alpha=1e-05, total=   1.9s\n",
      "[CV] mlpclassifier__max_iter=400, mlpclassifier__learning_rate_init=0.0001, mlpclassifier__hidden_layer_sizes=[7, 7, 7], mlpclassifier__epsilon=1e-07, mlpclassifier__beta_2=0.9, mlpclassifier__beta_1=0.7, mlpclassifier__alpha=0.0001 \n"
     ]
    },
    {
     "name": "stderr",
     "output_type": "stream",
     "text": [
      "/home/diego/anaconda3/lib/python3.6/site-packages/sklearn/neural_network/multilayer_perceptron.py:564: ConvergenceWarning: Stochastic Optimizer: Maximum iterations (300) reached and the optimization hasn't converged yet.\n",
      "  % self.max_iter, ConvergenceWarning)\n"
     ]
    },
    {
     "name": "stdout",
     "output_type": "stream",
     "text": [
      "[CV]  mlpclassifier__max_iter=300, mlpclassifier__learning_rate_init=0.0001, mlpclassifier__hidden_layer_sizes=[7, 7, 7], mlpclassifier__epsilon=1e-08, mlpclassifier__beta_2=0.999, mlpclassifier__beta_1=0.7, mlpclassifier__alpha=1e-05, total=   2.2s\n",
      "[CV] mlpclassifier__max_iter=400, mlpclassifier__learning_rate_init=0.0001, mlpclassifier__hidden_layer_sizes=[7, 7, 7], mlpclassifier__epsilon=1e-07, mlpclassifier__beta_2=0.9, mlpclassifier__beta_1=0.7, mlpclassifier__alpha=0.0001 \n"
     ]
    },
    {
     "name": "stderr",
     "output_type": "stream",
     "text": [
      "/home/diego/anaconda3/lib/python3.6/site-packages/sklearn/neural_network/multilayer_perceptron.py:564: ConvergenceWarning: Stochastic Optimizer: Maximum iterations (300) reached and the optimization hasn't converged yet.\n",
      "  % self.max_iter, ConvergenceWarning)\n"
     ]
    },
    {
     "name": "stdout",
     "output_type": "stream",
     "text": [
      "[CV]  mlpclassifier__max_iter=300, mlpclassifier__learning_rate_init=0.0001, mlpclassifier__hidden_layer_sizes=[7, 7, 7], mlpclassifier__epsilon=1e-08, mlpclassifier__beta_2=0.999, mlpclassifier__beta_1=0.7, mlpclassifier__alpha=1e-05, total=   1.9s\n",
      "[CV] mlpclassifier__max_iter=400, mlpclassifier__learning_rate_init=0.0001, mlpclassifier__hidden_layer_sizes=[7, 7, 7], mlpclassifier__epsilon=1e-07, mlpclassifier__beta_2=0.9, mlpclassifier__beta_1=0.7, mlpclassifier__alpha=0.0001 \n"
     ]
    },
    {
     "name": "stderr",
     "output_type": "stream",
     "text": [
      "/home/diego/anaconda3/lib/python3.6/site-packages/sklearn/neural_network/multilayer_perceptron.py:564: ConvergenceWarning: Stochastic Optimizer: Maximum iterations (300) reached and the optimization hasn't converged yet.\n",
      "  % self.max_iter, ConvergenceWarning)\n"
     ]
    },
    {
     "name": "stdout",
     "output_type": "stream",
     "text": [
      "[CV]  mlpclassifier__max_iter=300, mlpclassifier__learning_rate_init=0.0001, mlpclassifier__hidden_layer_sizes=[7, 7, 7], mlpclassifier__epsilon=1e-08, mlpclassifier__beta_2=0.999, mlpclassifier__beta_1=0.7, mlpclassifier__alpha=1e-05, total=   2.3s\n",
      "[CV] mlpclassifier__max_iter=400, mlpclassifier__learning_rate_init=0.0001, mlpclassifier__hidden_layer_sizes=[7, 7, 7], mlpclassifier__epsilon=1e-07, mlpclassifier__beta_2=0.9, mlpclassifier__beta_1=0.7, mlpclassifier__alpha=0.0001 \n"
     ]
    },
    {
     "name": "stderr",
     "output_type": "stream",
     "text": [
      "/home/diego/anaconda3/lib/python3.6/site-packages/sklearn/neural_network/multilayer_perceptron.py:564: ConvergenceWarning: Stochastic Optimizer: Maximum iterations (400) reached and the optimization hasn't converged yet.\n",
      "  % self.max_iter, ConvergenceWarning)\n"
     ]
    },
    {
     "name": "stdout",
     "output_type": "stream",
     "text": [
      "[CV]  mlpclassifier__max_iter=400, mlpclassifier__learning_rate_init=0.0001, mlpclassifier__hidden_layer_sizes=[7, 7, 7], mlpclassifier__epsilon=1e-07, mlpclassifier__beta_2=0.9, mlpclassifier__beta_1=0.7, mlpclassifier__alpha=0.0001, total=   2.2s\n",
      "[CV] mlpclassifier__max_iter=400, mlpclassifier__learning_rate_init=0.0001, mlpclassifier__hidden_layer_sizes=[7, 7, 7], mlpclassifier__epsilon=1e-07, mlpclassifier__beta_2=0.9, mlpclassifier__beta_1=0.7, mlpclassifier__alpha=0.0001 \n"
     ]
    },
    {
     "name": "stderr",
     "output_type": "stream",
     "text": [
      "/home/diego/anaconda3/lib/python3.6/site-packages/sklearn/neural_network/multilayer_perceptron.py:564: ConvergenceWarning: Stochastic Optimizer: Maximum iterations (400) reached and the optimization hasn't converged yet.\n",
      "  % self.max_iter, ConvergenceWarning)\n"
     ]
    },
    {
     "name": "stdout",
     "output_type": "stream",
     "text": [
      "[CV]  mlpclassifier__max_iter=400, mlpclassifier__learning_rate_init=0.0001, mlpclassifier__hidden_layer_sizes=[7, 7, 7], mlpclassifier__epsilon=1e-07, mlpclassifier__beta_2=0.9, mlpclassifier__beta_1=0.7, mlpclassifier__alpha=0.0001, total=   2.5s\n",
      "[CV] mlpclassifier__max_iter=500, mlpclassifier__learning_rate_init=0.0001, mlpclassifier__hidden_layer_sizes=[10, 10, 10], mlpclassifier__epsilon=1e-07, mlpclassifier__beta_2=0.95, mlpclassifier__beta_1=0.1, mlpclassifier__alpha=0.0001 \n"
     ]
    },
    {
     "name": "stderr",
     "output_type": "stream",
     "text": [
      "/home/diego/anaconda3/lib/python3.6/site-packages/sklearn/neural_network/multilayer_perceptron.py:564: ConvergenceWarning: Stochastic Optimizer: Maximum iterations (400) reached and the optimization hasn't converged yet.\n",
      "  % self.max_iter, ConvergenceWarning)\n"
     ]
    },
    {
     "name": "stdout",
     "output_type": "stream",
     "text": [
      "[CV]  mlpclassifier__max_iter=400, mlpclassifier__learning_rate_init=0.0001, mlpclassifier__hidden_layer_sizes=[7, 7, 7], mlpclassifier__epsilon=1e-07, mlpclassifier__beta_2=0.9, mlpclassifier__beta_1=0.7, mlpclassifier__alpha=0.0001, total=   2.8s\n",
      "[CV] mlpclassifier__max_iter=500, mlpclassifier__learning_rate_init=0.0001, mlpclassifier__hidden_layer_sizes=[10, 10, 10], mlpclassifier__epsilon=1e-07, mlpclassifier__beta_2=0.95, mlpclassifier__beta_1=0.1, mlpclassifier__alpha=0.0001 \n"
     ]
    },
    {
     "name": "stderr",
     "output_type": "stream",
     "text": [
      "/home/diego/anaconda3/lib/python3.6/site-packages/sklearn/neural_network/multilayer_perceptron.py:564: ConvergenceWarning: Stochastic Optimizer: Maximum iterations (400) reached and the optimization hasn't converged yet.\n",
      "  % self.max_iter, ConvergenceWarning)\n"
     ]
    },
    {
     "name": "stdout",
     "output_type": "stream",
     "text": [
      "[CV]  mlpclassifier__max_iter=400, mlpclassifier__learning_rate_init=0.0001, mlpclassifier__hidden_layer_sizes=[7, 7, 7], mlpclassifier__epsilon=1e-07, mlpclassifier__beta_2=0.9, mlpclassifier__beta_1=0.7, mlpclassifier__alpha=0.0001, total=   2.1s\n",
      "[CV] mlpclassifier__max_iter=500, mlpclassifier__learning_rate_init=0.0001, mlpclassifier__hidden_layer_sizes=[10, 10, 10], mlpclassifier__epsilon=1e-07, mlpclassifier__beta_2=0.95, mlpclassifier__beta_1=0.1, mlpclassifier__alpha=0.0001 \n"
     ]
    },
    {
     "name": "stderr",
     "output_type": "stream",
     "text": [
      "/home/diego/anaconda3/lib/python3.6/site-packages/sklearn/neural_network/multilayer_perceptron.py:564: ConvergenceWarning: Stochastic Optimizer: Maximum iterations (400) reached and the optimization hasn't converged yet.\n",
      "  % self.max_iter, ConvergenceWarning)\n"
     ]
    },
    {
     "name": "stdout",
     "output_type": "stream",
     "text": [
      "[CV]  mlpclassifier__max_iter=400, mlpclassifier__learning_rate_init=0.0001, mlpclassifier__hidden_layer_sizes=[7, 7, 7], mlpclassifier__epsilon=1e-07, mlpclassifier__beta_2=0.9, mlpclassifier__beta_1=0.7, mlpclassifier__alpha=0.0001, total=   3.3s\n",
      "[CV] mlpclassifier__max_iter=500, mlpclassifier__learning_rate_init=0.0001, mlpclassifier__hidden_layer_sizes=[10, 10, 10], mlpclassifier__epsilon=1e-07, mlpclassifier__beta_2=0.95, mlpclassifier__beta_1=0.1, mlpclassifier__alpha=0.0001 \n"
     ]
    },
    {
     "name": "stderr",
     "output_type": "stream",
     "text": [
      "/home/diego/anaconda3/lib/python3.6/site-packages/sklearn/neural_network/multilayer_perceptron.py:564: ConvergenceWarning: Stochastic Optimizer: Maximum iterations (500) reached and the optimization hasn't converged yet.\n",
      "  % self.max_iter, ConvergenceWarning)\n"
     ]
    },
    {
     "name": "stdout",
     "output_type": "stream",
     "text": [
      "[CV]  mlpclassifier__max_iter=500, mlpclassifier__learning_rate_init=0.0001, mlpclassifier__hidden_layer_sizes=[10, 10, 10], mlpclassifier__epsilon=1e-07, mlpclassifier__beta_2=0.95, mlpclassifier__beta_1=0.1, mlpclassifier__alpha=0.0001, total=   3.5s\n",
      "[CV] mlpclassifier__max_iter=500, mlpclassifier__learning_rate_init=0.0001, mlpclassifier__hidden_layer_sizes=[10, 10, 10], mlpclassifier__epsilon=1e-07, mlpclassifier__beta_2=0.95, mlpclassifier__beta_1=0.1, mlpclassifier__alpha=0.0001 \n"
     ]
    },
    {
     "name": "stderr",
     "output_type": "stream",
     "text": [
      "/home/diego/anaconda3/lib/python3.6/site-packages/sklearn/neural_network/multilayer_perceptron.py:564: ConvergenceWarning: Stochastic Optimizer: Maximum iterations (500) reached and the optimization hasn't converged yet.\n",
      "  % self.max_iter, ConvergenceWarning)\n"
     ]
    },
    {
     "name": "stdout",
     "output_type": "stream",
     "text": [
      "[CV]  mlpclassifier__max_iter=500, mlpclassifier__learning_rate_init=0.0001, mlpclassifier__hidden_layer_sizes=[10, 10, 10], mlpclassifier__epsilon=1e-07, mlpclassifier__beta_2=0.95, mlpclassifier__beta_1=0.1, mlpclassifier__alpha=0.0001, total=   3.4s\n",
      "[CV] mlpclassifier__max_iter=500, mlpclassifier__learning_rate_init=0.0001, mlpclassifier__hidden_layer_sizes=[7, 7, 7], mlpclassifier__epsilon=1e-09, mlpclassifier__beta_2=0.95, mlpclassifier__beta_1=0.3, mlpclassifier__alpha=0.001 \n"
     ]
    },
    {
     "name": "stderr",
     "output_type": "stream",
     "text": [
      "/home/diego/anaconda3/lib/python3.6/site-packages/sklearn/neural_network/multilayer_perceptron.py:564: ConvergenceWarning: Stochastic Optimizer: Maximum iterations (500) reached and the optimization hasn't converged yet.\n",
      "  % self.max_iter, ConvergenceWarning)\n"
     ]
    },
    {
     "name": "stdout",
     "output_type": "stream",
     "text": [
      "[CV]  mlpclassifier__max_iter=500, mlpclassifier__learning_rate_init=0.0001, mlpclassifier__hidden_layer_sizes=[10, 10, 10], mlpclassifier__epsilon=1e-07, mlpclassifier__beta_2=0.95, mlpclassifier__beta_1=0.1, mlpclassifier__alpha=0.0001, total=   3.2s\n",
      "[CV] mlpclassifier__max_iter=500, mlpclassifier__learning_rate_init=0.0001, mlpclassifier__hidden_layer_sizes=[7, 7, 7], mlpclassifier__epsilon=1e-09, mlpclassifier__beta_2=0.95, mlpclassifier__beta_1=0.3, mlpclassifier__alpha=0.001 \n"
     ]
    },
    {
     "name": "stderr",
     "output_type": "stream",
     "text": [
      "/home/diego/anaconda3/lib/python3.6/site-packages/sklearn/neural_network/multilayer_perceptron.py:564: ConvergenceWarning: Stochastic Optimizer: Maximum iterations (500) reached and the optimization hasn't converged yet.\n",
      "  % self.max_iter, ConvergenceWarning)\n"
     ]
    },
    {
     "name": "stdout",
     "output_type": "stream",
     "text": [
      "[CV]  mlpclassifier__max_iter=500, mlpclassifier__learning_rate_init=0.0001, mlpclassifier__hidden_layer_sizes=[10, 10, 10], mlpclassifier__epsilon=1e-07, mlpclassifier__beta_2=0.95, mlpclassifier__beta_1=0.1, mlpclassifier__alpha=0.0001, total=   4.2s\n",
      "[CV] mlpclassifier__max_iter=500, mlpclassifier__learning_rate_init=0.0001, mlpclassifier__hidden_layer_sizes=[7, 7, 7], mlpclassifier__epsilon=1e-09, mlpclassifier__beta_2=0.95, mlpclassifier__beta_1=0.3, mlpclassifier__alpha=0.001 \n"
     ]
    },
    {
     "name": "stderr",
     "output_type": "stream",
     "text": [
      "/home/diego/anaconda3/lib/python3.6/site-packages/sklearn/neural_network/multilayer_perceptron.py:564: ConvergenceWarning: Stochastic Optimizer: Maximum iterations (500) reached and the optimization hasn't converged yet.\n",
      "  % self.max_iter, ConvergenceWarning)\n"
     ]
    },
    {
     "name": "stdout",
     "output_type": "stream",
     "text": [
      "[CV]  mlpclassifier__max_iter=500, mlpclassifier__learning_rate_init=0.0001, mlpclassifier__hidden_layer_sizes=[10, 10, 10], mlpclassifier__epsilon=1e-07, mlpclassifier__beta_2=0.95, mlpclassifier__beta_1=0.1, mlpclassifier__alpha=0.0001, total=   3.3s\n",
      "[CV] mlpclassifier__max_iter=500, mlpclassifier__learning_rate_init=0.0001, mlpclassifier__hidden_layer_sizes=[7, 7, 7], mlpclassifier__epsilon=1e-09, mlpclassifier__beta_2=0.95, mlpclassifier__beta_1=0.3, mlpclassifier__alpha=0.001 \n"
     ]
    },
    {
     "name": "stderr",
     "output_type": "stream",
     "text": [
      "/home/diego/anaconda3/lib/python3.6/site-packages/sklearn/neural_network/multilayer_perceptron.py:564: ConvergenceWarning: Stochastic Optimizer: Maximum iterations (500) reached and the optimization hasn't converged yet.\n",
      "  % self.max_iter, ConvergenceWarning)\n"
     ]
    },
    {
     "name": "stdout",
     "output_type": "stream",
     "text": [
      "[CV]  mlpclassifier__max_iter=500, mlpclassifier__learning_rate_init=0.0001, mlpclassifier__hidden_layer_sizes=[7, 7, 7], mlpclassifier__epsilon=1e-09, mlpclassifier__beta_2=0.95, mlpclassifier__beta_1=0.3, mlpclassifier__alpha=0.001, total=   3.4s\n",
      "[CV] mlpclassifier__max_iter=500, mlpclassifier__learning_rate_init=0.0001, mlpclassifier__hidden_layer_sizes=[7, 7, 7], mlpclassifier__epsilon=1e-09, mlpclassifier__beta_2=0.95, mlpclassifier__beta_1=0.3, mlpclassifier__alpha=0.001 \n"
     ]
    },
    {
     "name": "stderr",
     "output_type": "stream",
     "text": [
      "/home/diego/anaconda3/lib/python3.6/site-packages/sklearn/neural_network/multilayer_perceptron.py:564: ConvergenceWarning: Stochastic Optimizer: Maximum iterations (500) reached and the optimization hasn't converged yet.\n",
      "  % self.max_iter, ConvergenceWarning)\n"
     ]
    },
    {
     "name": "stdout",
     "output_type": "stream",
     "text": [
      "[CV]  mlpclassifier__max_iter=500, mlpclassifier__learning_rate_init=0.0001, mlpclassifier__hidden_layer_sizes=[7, 7, 7], mlpclassifier__epsilon=1e-09, mlpclassifier__beta_2=0.95, mlpclassifier__beta_1=0.3, mlpclassifier__alpha=0.001, total=   3.8s\n",
      "[CV] mlpclassifier__max_iter=500, mlpclassifier__learning_rate_init=0.0001, mlpclassifier__hidden_layer_sizes=[5, 5, 5], mlpclassifier__epsilon=1e-08, mlpclassifier__beta_2=0.999, mlpclassifier__beta_1=0.9, mlpclassifier__alpha=0.001 \n"
     ]
    },
    {
     "name": "stderr",
     "output_type": "stream",
     "text": [
      "/home/diego/anaconda3/lib/python3.6/site-packages/sklearn/neural_network/multilayer_perceptron.py:564: ConvergenceWarning: Stochastic Optimizer: Maximum iterations (500) reached and the optimization hasn't converged yet.\n",
      "  % self.max_iter, ConvergenceWarning)\n"
     ]
    },
    {
     "name": "stdout",
     "output_type": "stream",
     "text": [
      "[CV]  mlpclassifier__max_iter=500, mlpclassifier__learning_rate_init=0.0001, mlpclassifier__hidden_layer_sizes=[7, 7, 7], mlpclassifier__epsilon=1e-09, mlpclassifier__beta_2=0.95, mlpclassifier__beta_1=0.3, mlpclassifier__alpha=0.001, total=   2.9s\n",
      "[CV] mlpclassifier__max_iter=500, mlpclassifier__learning_rate_init=0.0001, mlpclassifier__hidden_layer_sizes=[5, 5, 5], mlpclassifier__epsilon=1e-08, mlpclassifier__beta_2=0.999, mlpclassifier__beta_1=0.9, mlpclassifier__alpha=0.001 \n"
     ]
    },
    {
     "name": "stderr",
     "output_type": "stream",
     "text": [
      "/home/diego/anaconda3/lib/python3.6/site-packages/sklearn/neural_network/multilayer_perceptron.py:564: ConvergenceWarning: Stochastic Optimizer: Maximum iterations (500) reached and the optimization hasn't converged yet.\n",
      "  % self.max_iter, ConvergenceWarning)\n"
     ]
    },
    {
     "name": "stdout",
     "output_type": "stream",
     "text": [
      "[CV]  mlpclassifier__max_iter=500, mlpclassifier__learning_rate_init=0.0001, mlpclassifier__hidden_layer_sizes=[7, 7, 7], mlpclassifier__epsilon=1e-09, mlpclassifier__beta_2=0.95, mlpclassifier__beta_1=0.3, mlpclassifier__alpha=0.001, total=   3.5s\n",
      "[CV] mlpclassifier__max_iter=500, mlpclassifier__learning_rate_init=0.0001, mlpclassifier__hidden_layer_sizes=[5, 5, 5], mlpclassifier__epsilon=1e-08, mlpclassifier__beta_2=0.999, mlpclassifier__beta_1=0.9, mlpclassifier__alpha=0.001 \n"
     ]
    },
    {
     "name": "stderr",
     "output_type": "stream",
     "text": [
      "/home/diego/anaconda3/lib/python3.6/site-packages/sklearn/neural_network/multilayer_perceptron.py:564: ConvergenceWarning: Stochastic Optimizer: Maximum iterations (500) reached and the optimization hasn't converged yet.\n",
      "  % self.max_iter, ConvergenceWarning)\n"
     ]
    },
    {
     "name": "stdout",
     "output_type": "stream",
     "text": [
      "[CV]  mlpclassifier__max_iter=500, mlpclassifier__learning_rate_init=0.0001, mlpclassifier__hidden_layer_sizes=[7, 7, 7], mlpclassifier__epsilon=1e-09, mlpclassifier__beta_2=0.95, mlpclassifier__beta_1=0.3, mlpclassifier__alpha=0.001, total=   3.5s\n",
      "[CV] mlpclassifier__max_iter=500, mlpclassifier__learning_rate_init=0.0001, mlpclassifier__hidden_layer_sizes=[5, 5, 5], mlpclassifier__epsilon=1e-08, mlpclassifier__beta_2=0.999, mlpclassifier__beta_1=0.9, mlpclassifier__alpha=0.001 \n"
     ]
    },
    {
     "name": "stderr",
     "output_type": "stream",
     "text": [
      "/home/diego/anaconda3/lib/python3.6/site-packages/sklearn/neural_network/multilayer_perceptron.py:564: ConvergenceWarning: Stochastic Optimizer: Maximum iterations (500) reached and the optimization hasn't converged yet.\n",
      "  % self.max_iter, ConvergenceWarning)\n"
     ]
    },
    {
     "name": "stdout",
     "output_type": "stream",
     "text": [
      "[CV]  mlpclassifier__max_iter=500, mlpclassifier__learning_rate_init=0.0001, mlpclassifier__hidden_layer_sizes=[5, 5, 5], mlpclassifier__epsilon=1e-08, mlpclassifier__beta_2=0.999, mlpclassifier__beta_1=0.9, mlpclassifier__alpha=0.001, total=   3.2s\n",
      "[CV] mlpclassifier__max_iter=500, mlpclassifier__learning_rate_init=0.0001, mlpclassifier__hidden_layer_sizes=[5, 5, 5], mlpclassifier__epsilon=1e-08, mlpclassifier__beta_2=0.999, mlpclassifier__beta_1=0.9, mlpclassifier__alpha=0.001 \n"
     ]
    },
    {
     "name": "stderr",
     "output_type": "stream",
     "text": [
      "/home/diego/anaconda3/lib/python3.6/site-packages/sklearn/neural_network/multilayer_perceptron.py:564: ConvergenceWarning: Stochastic Optimizer: Maximum iterations (500) reached and the optimization hasn't converged yet.\n",
      "  % self.max_iter, ConvergenceWarning)\n"
     ]
    },
    {
     "name": "stdout",
     "output_type": "stream",
     "text": [
      "[CV]  mlpclassifier__max_iter=500, mlpclassifier__learning_rate_init=0.0001, mlpclassifier__hidden_layer_sizes=[5, 5, 5], mlpclassifier__epsilon=1e-08, mlpclassifier__beta_2=0.999, mlpclassifier__beta_1=0.9, mlpclassifier__alpha=0.001, total=   2.9s\n",
      "[CV] mlpclassifier__max_iter=500, mlpclassifier__learning_rate_init=0.0001, mlpclassifier__hidden_layer_sizes=[7, 7, 7], mlpclassifier__epsilon=1e-06, mlpclassifier__beta_2=0.9, mlpclassifier__beta_1=0.01, mlpclassifier__alpha=0.0001 \n"
     ]
    },
    {
     "name": "stderr",
     "output_type": "stream",
     "text": [
      "/home/diego/anaconda3/lib/python3.6/site-packages/sklearn/neural_network/multilayer_perceptron.py:564: ConvergenceWarning: Stochastic Optimizer: Maximum iterations (500) reached and the optimization hasn't converged yet.\n",
      "  % self.max_iter, ConvergenceWarning)\n"
     ]
    },
    {
     "name": "stdout",
     "output_type": "stream",
     "text": [
      "[CV]  mlpclassifier__max_iter=500, mlpclassifier__learning_rate_init=0.0001, mlpclassifier__hidden_layer_sizes=[5, 5, 5], mlpclassifier__epsilon=1e-08, mlpclassifier__beta_2=0.999, mlpclassifier__beta_1=0.9, mlpclassifier__alpha=0.001, total=   3.3s\n",
      "[CV] mlpclassifier__max_iter=500, mlpclassifier__learning_rate_init=0.0001, mlpclassifier__hidden_layer_sizes=[7, 7, 7], mlpclassifier__epsilon=1e-06, mlpclassifier__beta_2=0.9, mlpclassifier__beta_1=0.01, mlpclassifier__alpha=0.0001 \n"
     ]
    },
    {
     "name": "stderr",
     "output_type": "stream",
     "text": [
      "/home/diego/anaconda3/lib/python3.6/site-packages/sklearn/neural_network/multilayer_perceptron.py:564: ConvergenceWarning: Stochastic Optimizer: Maximum iterations (500) reached and the optimization hasn't converged yet.\n",
      "  % self.max_iter, ConvergenceWarning)\n"
     ]
    },
    {
     "name": "stdout",
     "output_type": "stream",
     "text": [
      "[CV]  mlpclassifier__max_iter=500, mlpclassifier__learning_rate_init=0.0001, mlpclassifier__hidden_layer_sizes=[5, 5, 5], mlpclassifier__epsilon=1e-08, mlpclassifier__beta_2=0.999, mlpclassifier__beta_1=0.9, mlpclassifier__alpha=0.001, total=   4.3s\n",
      "[CV] mlpclassifier__max_iter=500, mlpclassifier__learning_rate_init=0.0001, mlpclassifier__hidden_layer_sizes=[7, 7, 7], mlpclassifier__epsilon=1e-06, mlpclassifier__beta_2=0.9, mlpclassifier__beta_1=0.01, mlpclassifier__alpha=0.0001 \n"
     ]
    },
    {
     "name": "stderr",
     "output_type": "stream",
     "text": [
      "/home/diego/anaconda3/lib/python3.6/site-packages/sklearn/neural_network/multilayer_perceptron.py:564: ConvergenceWarning: Stochastic Optimizer: Maximum iterations (500) reached and the optimization hasn't converged yet.\n",
      "  % self.max_iter, ConvergenceWarning)\n"
     ]
    },
    {
     "name": "stdout",
     "output_type": "stream",
     "text": [
      "[CV]  mlpclassifier__max_iter=500, mlpclassifier__learning_rate_init=0.0001, mlpclassifier__hidden_layer_sizes=[7, 7, 7], mlpclassifier__epsilon=1e-06, mlpclassifier__beta_2=0.9, mlpclassifier__beta_1=0.01, mlpclassifier__alpha=0.0001, total=   2.9s\n",
      "[CV] mlpclassifier__max_iter=500, mlpclassifier__learning_rate_init=0.0001, mlpclassifier__hidden_layer_sizes=[7, 7, 7], mlpclassifier__epsilon=1e-06, mlpclassifier__beta_2=0.9, mlpclassifier__beta_1=0.01, mlpclassifier__alpha=0.0001 \n"
     ]
    },
    {
     "name": "stderr",
     "output_type": "stream",
     "text": [
      "/home/diego/anaconda3/lib/python3.6/site-packages/sklearn/neural_network/multilayer_perceptron.py:564: ConvergenceWarning: Stochastic Optimizer: Maximum iterations (500) reached and the optimization hasn't converged yet.\n",
      "  % self.max_iter, ConvergenceWarning)\n"
     ]
    },
    {
     "name": "stdout",
     "output_type": "stream",
     "text": [
      "[CV]  mlpclassifier__max_iter=500, mlpclassifier__learning_rate_init=0.0001, mlpclassifier__hidden_layer_sizes=[5, 5, 5], mlpclassifier__epsilon=1e-08, mlpclassifier__beta_2=0.999, mlpclassifier__beta_1=0.9, mlpclassifier__alpha=0.001, total=   3.8s\n",
      "[CV] mlpclassifier__max_iter=500, mlpclassifier__learning_rate_init=0.0001, mlpclassifier__hidden_layer_sizes=[7, 7, 7], mlpclassifier__epsilon=1e-06, mlpclassifier__beta_2=0.9, mlpclassifier__beta_1=0.01, mlpclassifier__alpha=0.0001 \n"
     ]
    },
    {
     "name": "stderr",
     "output_type": "stream",
     "text": [
      "/home/diego/anaconda3/lib/python3.6/site-packages/sklearn/neural_network/multilayer_perceptron.py:564: ConvergenceWarning: Stochastic Optimizer: Maximum iterations (500) reached and the optimization hasn't converged yet.\n",
      "  % self.max_iter, ConvergenceWarning)\n"
     ]
    },
    {
     "name": "stdout",
     "output_type": "stream",
     "text": [
      "[CV]  mlpclassifier__max_iter=500, mlpclassifier__learning_rate_init=0.0001, mlpclassifier__hidden_layer_sizes=[7, 7, 7], mlpclassifier__epsilon=1e-06, mlpclassifier__beta_2=0.9, mlpclassifier__beta_1=0.01, mlpclassifier__alpha=0.0001, total=   4.1s\n",
      "[CV] mlpclassifier__max_iter=300, mlpclassifier__learning_rate_init=0.0001, mlpclassifier__hidden_layer_sizes=[10, 10, 10], mlpclassifier__epsilon=1e-08, mlpclassifier__beta_2=0.999, mlpclassifier__beta_1=0.3, mlpclassifier__alpha=0.0001 \n"
     ]
    },
    {
     "name": "stderr",
     "output_type": "stream",
     "text": [
      "/home/diego/anaconda3/lib/python3.6/site-packages/sklearn/neural_network/multilayer_perceptron.py:564: ConvergenceWarning: Stochastic Optimizer: Maximum iterations (500) reached and the optimization hasn't converged yet.\n",
      "  % self.max_iter, ConvergenceWarning)\n"
     ]
    },
    {
     "name": "stdout",
     "output_type": "stream",
     "text": [
      "[CV]  mlpclassifier__max_iter=500, mlpclassifier__learning_rate_init=0.0001, mlpclassifier__hidden_layer_sizes=[7, 7, 7], mlpclassifier__epsilon=1e-06, mlpclassifier__beta_2=0.9, mlpclassifier__beta_1=0.01, mlpclassifier__alpha=0.0001, total=   3.3s\n",
      "[CV] mlpclassifier__max_iter=300, mlpclassifier__learning_rate_init=0.0001, mlpclassifier__hidden_layer_sizes=[10, 10, 10], mlpclassifier__epsilon=1e-08, mlpclassifier__beta_2=0.999, mlpclassifier__beta_1=0.3, mlpclassifier__alpha=0.0001 \n"
     ]
    },
    {
     "name": "stderr",
     "output_type": "stream",
     "text": [
      "/home/diego/anaconda3/lib/python3.6/site-packages/sklearn/neural_network/multilayer_perceptron.py:564: ConvergenceWarning: Stochastic Optimizer: Maximum iterations (500) reached and the optimization hasn't converged yet.\n",
      "  % self.max_iter, ConvergenceWarning)\n"
     ]
    },
    {
     "name": "stdout",
     "output_type": "stream",
     "text": [
      "[CV]  mlpclassifier__max_iter=500, mlpclassifier__learning_rate_init=0.0001, mlpclassifier__hidden_layer_sizes=[7, 7, 7], mlpclassifier__epsilon=1e-06, mlpclassifier__beta_2=0.9, mlpclassifier__beta_1=0.01, mlpclassifier__alpha=0.0001, total=   3.4s\n",
      "[CV] mlpclassifier__max_iter=300, mlpclassifier__learning_rate_init=0.0001, mlpclassifier__hidden_layer_sizes=[10, 10, 10], mlpclassifier__epsilon=1e-08, mlpclassifier__beta_2=0.999, mlpclassifier__beta_1=0.3, mlpclassifier__alpha=0.0001 \n"
     ]
    },
    {
     "name": "stderr",
     "output_type": "stream",
     "text": [
      "/home/diego/anaconda3/lib/python3.6/site-packages/sklearn/neural_network/multilayer_perceptron.py:564: ConvergenceWarning: Stochastic Optimizer: Maximum iterations (500) reached and the optimization hasn't converged yet.\n",
      "  % self.max_iter, ConvergenceWarning)\n"
     ]
    },
    {
     "name": "stdout",
     "output_type": "stream",
     "text": [
      "[CV]  mlpclassifier__max_iter=500, mlpclassifier__learning_rate_init=0.0001, mlpclassifier__hidden_layer_sizes=[7, 7, 7], mlpclassifier__epsilon=1e-06, mlpclassifier__beta_2=0.9, mlpclassifier__beta_1=0.01, mlpclassifier__alpha=0.0001, total=   4.1s\n",
      "[CV] mlpclassifier__max_iter=300, mlpclassifier__learning_rate_init=0.0001, mlpclassifier__hidden_layer_sizes=[10, 10, 10], mlpclassifier__epsilon=1e-08, mlpclassifier__beta_2=0.999, mlpclassifier__beta_1=0.3, mlpclassifier__alpha=0.0001 \n"
     ]
    },
    {
     "name": "stderr",
     "output_type": "stream",
     "text": [
      "/home/diego/anaconda3/lib/python3.6/site-packages/sklearn/neural_network/multilayer_perceptron.py:564: ConvergenceWarning: Stochastic Optimizer: Maximum iterations (300) reached and the optimization hasn't converged yet.\n",
      "  % self.max_iter, ConvergenceWarning)\n"
     ]
    },
    {
     "name": "stdout",
     "output_type": "stream",
     "text": [
      "[CV]  mlpclassifier__max_iter=300, mlpclassifier__learning_rate_init=0.0001, mlpclassifier__hidden_layer_sizes=[10, 10, 10], mlpclassifier__epsilon=1e-08, mlpclassifier__beta_2=0.999, mlpclassifier__beta_1=0.3, mlpclassifier__alpha=0.0001, total=   2.2s\n",
      "[CV] mlpclassifier__max_iter=300, mlpclassifier__learning_rate_init=0.0001, mlpclassifier__hidden_layer_sizes=[10, 10, 10], mlpclassifier__epsilon=1e-08, mlpclassifier__beta_2=0.999, mlpclassifier__beta_1=0.3, mlpclassifier__alpha=0.0001 \n"
     ]
    },
    {
     "name": "stderr",
     "output_type": "stream",
     "text": [
      "/home/diego/anaconda3/lib/python3.6/site-packages/sklearn/neural_network/multilayer_perceptron.py:564: ConvergenceWarning: Stochastic Optimizer: Maximum iterations (300) reached and the optimization hasn't converged yet.\n",
      "  % self.max_iter, ConvergenceWarning)\n"
     ]
    },
    {
     "name": "stdout",
     "output_type": "stream",
     "text": [
      "[CV]  mlpclassifier__max_iter=300, mlpclassifier__learning_rate_init=0.0001, mlpclassifier__hidden_layer_sizes=[10, 10, 10], mlpclassifier__epsilon=1e-08, mlpclassifier__beta_2=0.999, mlpclassifier__beta_1=0.3, mlpclassifier__alpha=0.0001, total=   1.9s\n",
      "[CV] mlpclassifier__max_iter=500, mlpclassifier__learning_rate_init=0.0001, mlpclassifier__hidden_layer_sizes=[7, 7, 7], mlpclassifier__epsilon=1e-06, mlpclassifier__beta_2=0.95, mlpclassifier__beta_1=0.01, mlpclassifier__alpha=1e-05 \n"
     ]
    },
    {
     "name": "stderr",
     "output_type": "stream",
     "text": [
      "/home/diego/anaconda3/lib/python3.6/site-packages/sklearn/neural_network/multilayer_perceptron.py:564: ConvergenceWarning: Stochastic Optimizer: Maximum iterations (300) reached and the optimization hasn't converged yet.\n",
      "  % self.max_iter, ConvergenceWarning)\n"
     ]
    },
    {
     "name": "stdout",
     "output_type": "stream",
     "text": [
      "[CV]  mlpclassifier__max_iter=300, mlpclassifier__learning_rate_init=0.0001, mlpclassifier__hidden_layer_sizes=[10, 10, 10], mlpclassifier__epsilon=1e-08, mlpclassifier__beta_2=0.999, mlpclassifier__beta_1=0.3, mlpclassifier__alpha=0.0001, total=   2.4s\n",
      "[CV] mlpclassifier__max_iter=500, mlpclassifier__learning_rate_init=0.0001, mlpclassifier__hidden_layer_sizes=[7, 7, 7], mlpclassifier__epsilon=1e-06, mlpclassifier__beta_2=0.95, mlpclassifier__beta_1=0.01, mlpclassifier__alpha=1e-05 \n"
     ]
    },
    {
     "name": "stderr",
     "output_type": "stream",
     "text": [
      "/home/diego/anaconda3/lib/python3.6/site-packages/sklearn/neural_network/multilayer_perceptron.py:564: ConvergenceWarning: Stochastic Optimizer: Maximum iterations (300) reached and the optimization hasn't converged yet.\n",
      "  % self.max_iter, ConvergenceWarning)\n"
     ]
    },
    {
     "name": "stdout",
     "output_type": "stream",
     "text": [
      "[CV]  mlpclassifier__max_iter=300, mlpclassifier__learning_rate_init=0.0001, mlpclassifier__hidden_layer_sizes=[10, 10, 10], mlpclassifier__epsilon=1e-08, mlpclassifier__beta_2=0.999, mlpclassifier__beta_1=0.3, mlpclassifier__alpha=0.0001, total=   2.2s\n",
      "[CV] mlpclassifier__max_iter=500, mlpclassifier__learning_rate_init=0.0001, mlpclassifier__hidden_layer_sizes=[7, 7, 7], mlpclassifier__epsilon=1e-06, mlpclassifier__beta_2=0.95, mlpclassifier__beta_1=0.01, mlpclassifier__alpha=1e-05 \n"
     ]
    },
    {
     "name": "stderr",
     "output_type": "stream",
     "text": [
      "/home/diego/anaconda3/lib/python3.6/site-packages/sklearn/neural_network/multilayer_perceptron.py:564: ConvergenceWarning: Stochastic Optimizer: Maximum iterations (300) reached and the optimization hasn't converged yet.\n",
      "  % self.max_iter, ConvergenceWarning)\n"
     ]
    },
    {
     "name": "stdout",
     "output_type": "stream",
     "text": [
      "[CV]  mlpclassifier__max_iter=300, mlpclassifier__learning_rate_init=0.0001, mlpclassifier__hidden_layer_sizes=[10, 10, 10], mlpclassifier__epsilon=1e-08, mlpclassifier__beta_2=0.999, mlpclassifier__beta_1=0.3, mlpclassifier__alpha=0.0001, total=   2.5s\n",
      "[CV] mlpclassifier__max_iter=500, mlpclassifier__learning_rate_init=0.0001, mlpclassifier__hidden_layer_sizes=[7, 7, 7], mlpclassifier__epsilon=1e-06, mlpclassifier__beta_2=0.95, mlpclassifier__beta_1=0.01, mlpclassifier__alpha=1e-05 \n"
     ]
    },
    {
     "name": "stderr",
     "output_type": "stream",
     "text": [
      "/home/diego/anaconda3/lib/python3.6/site-packages/sklearn/neural_network/multilayer_perceptron.py:564: ConvergenceWarning: Stochastic Optimizer: Maximum iterations (500) reached and the optimization hasn't converged yet.\n",
      "  % self.max_iter, ConvergenceWarning)\n"
     ]
    },
    {
     "name": "stdout",
     "output_type": "stream",
     "text": [
      "[CV]  mlpclassifier__max_iter=500, mlpclassifier__learning_rate_init=0.0001, mlpclassifier__hidden_layer_sizes=[7, 7, 7], mlpclassifier__epsilon=1e-06, mlpclassifier__beta_2=0.95, mlpclassifier__beta_1=0.01, mlpclassifier__alpha=1e-05, total=   3.6s\n",
      "[CV] mlpclassifier__max_iter=500, mlpclassifier__learning_rate_init=0.0001, mlpclassifier__hidden_layer_sizes=[7, 7, 7], mlpclassifier__epsilon=1e-06, mlpclassifier__beta_2=0.95, mlpclassifier__beta_1=0.01, mlpclassifier__alpha=1e-05 \n"
     ]
    },
    {
     "name": "stderr",
     "output_type": "stream",
     "text": [
      "/home/diego/anaconda3/lib/python3.6/site-packages/sklearn/neural_network/multilayer_perceptron.py:564: ConvergenceWarning: Stochastic Optimizer: Maximum iterations (500) reached and the optimization hasn't converged yet.\n",
      "  % self.max_iter, ConvergenceWarning)\n"
     ]
    },
    {
     "name": "stdout",
     "output_type": "stream",
     "text": [
      "[CV]  mlpclassifier__max_iter=500, mlpclassifier__learning_rate_init=0.0001, mlpclassifier__hidden_layer_sizes=[7, 7, 7], mlpclassifier__epsilon=1e-06, mlpclassifier__beta_2=0.95, mlpclassifier__beta_1=0.01, mlpclassifier__alpha=1e-05, total=   3.2s\n",
      "[CV] mlpclassifier__max_iter=500, mlpclassifier__learning_rate_init=0.01, mlpclassifier__hidden_layer_sizes=[10, 10, 10], mlpclassifier__epsilon=1e-09, mlpclassifier__beta_2=0.9, mlpclassifier__beta_1=0.7, mlpclassifier__alpha=0.001 \n"
     ]
    },
    {
     "name": "stderr",
     "output_type": "stream",
     "text": [
      "/home/diego/anaconda3/lib/python3.6/site-packages/sklearn/neural_network/multilayer_perceptron.py:564: ConvergenceWarning: Stochastic Optimizer: Maximum iterations (500) reached and the optimization hasn't converged yet.\n",
      "  % self.max_iter, ConvergenceWarning)\n"
     ]
    },
    {
     "name": "stdout",
     "output_type": "stream",
     "text": [
      "[CV]  mlpclassifier__max_iter=500, mlpclassifier__learning_rate_init=0.01, mlpclassifier__hidden_layer_sizes=[10, 10, 10], mlpclassifier__epsilon=1e-09, mlpclassifier__beta_2=0.9, mlpclassifier__beta_1=0.7, mlpclassifier__alpha=0.001, total=   0.5s\n",
      "[CV]  mlpclassifier__max_iter=500, mlpclassifier__learning_rate_init=0.0001, mlpclassifier__hidden_layer_sizes=[7, 7, 7], mlpclassifier__epsilon=1e-06, mlpclassifier__beta_2=0.95, mlpclassifier__beta_1=0.01, mlpclassifier__alpha=1e-05, total=   3.6s\n",
      "[CV] mlpclassifier__max_iter=500, mlpclassifier__learning_rate_init=0.01, mlpclassifier__hidden_layer_sizes=[10, 10, 10], mlpclassifier__epsilon=1e-09, mlpclassifier__beta_2=0.9, mlpclassifier__beta_1=0.7, mlpclassifier__alpha=0.001 \n",
      "[CV] mlpclassifier__max_iter=500, mlpclassifier__learning_rate_init=0.01, mlpclassifier__hidden_layer_sizes=[10, 10, 10], mlpclassifier__epsilon=1e-09, mlpclassifier__beta_2=0.9, mlpclassifier__beta_1=0.7, mlpclassifier__alpha=0.001 \n",
      "[CV]  mlpclassifier__max_iter=500, mlpclassifier__learning_rate_init=0.01, mlpclassifier__hidden_layer_sizes=[10, 10, 10], mlpclassifier__epsilon=1e-09, mlpclassifier__beta_2=0.9, mlpclassifier__beta_1=0.7, mlpclassifier__alpha=0.001, total=   0.3s\n",
      "[CV] mlpclassifier__max_iter=500, mlpclassifier__learning_rate_init=0.01, mlpclassifier__hidden_layer_sizes=[10, 10, 10], mlpclassifier__epsilon=1e-09, mlpclassifier__beta_2=0.9, mlpclassifier__beta_1=0.7, mlpclassifier__alpha=0.001 \n",
      "[CV]  mlpclassifier__max_iter=500, mlpclassifier__learning_rate_init=0.01, mlpclassifier__hidden_layer_sizes=[10, 10, 10], mlpclassifier__epsilon=1e-09, mlpclassifier__beta_2=0.9, mlpclassifier__beta_1=0.7, mlpclassifier__alpha=0.001, total=   0.3s\n",
      "[CV] mlpclassifier__max_iter=500, mlpclassifier__learning_rate_init=0.01, mlpclassifier__hidden_layer_sizes=[10, 10, 10], mlpclassifier__epsilon=1e-09, mlpclassifier__beta_2=0.9, mlpclassifier__beta_1=0.7, mlpclassifier__alpha=0.001 \n"
     ]
    },
    {
     "name": "stderr",
     "output_type": "stream",
     "text": [
      "/home/diego/anaconda3/lib/python3.6/site-packages/sklearn/neural_network/multilayer_perceptron.py:564: ConvergenceWarning: Stochastic Optimizer: Maximum iterations (500) reached and the optimization hasn't converged yet.\n",
      "  % self.max_iter, ConvergenceWarning)\n"
     ]
    },
    {
     "name": "stdout",
     "output_type": "stream",
     "text": [
      "[CV]  mlpclassifier__max_iter=500, mlpclassifier__learning_rate_init=0.0001, mlpclassifier__hidden_layer_sizes=[7, 7, 7], mlpclassifier__epsilon=1e-06, mlpclassifier__beta_2=0.95, mlpclassifier__beta_1=0.01, mlpclassifier__alpha=1e-05, total=   3.5s\n",
      "[CV] mlpclassifier__max_iter=400, mlpclassifier__learning_rate_init=0.0001, mlpclassifier__hidden_layer_sizes=[5, 5, 5], mlpclassifier__epsilon=1e-09, mlpclassifier__beta_2=0.9, mlpclassifier__beta_1=0.01, mlpclassifier__alpha=0.001 \n",
      "[CV]  mlpclassifier__max_iter=500, mlpclassifier__learning_rate_init=0.01, mlpclassifier__hidden_layer_sizes=[10, 10, 10], mlpclassifier__epsilon=1e-09, mlpclassifier__beta_2=0.9, mlpclassifier__beta_1=0.7, mlpclassifier__alpha=0.001, total=   0.2s\n",
      "[CV] mlpclassifier__max_iter=400, mlpclassifier__learning_rate_init=0.0001, mlpclassifier__hidden_layer_sizes=[5, 5, 5], mlpclassifier__epsilon=1e-09, mlpclassifier__beta_2=0.9, mlpclassifier__beta_1=0.01, mlpclassifier__alpha=0.001 \n",
      "[CV]  mlpclassifier__max_iter=500, mlpclassifier__learning_rate_init=0.01, mlpclassifier__hidden_layer_sizes=[10, 10, 10], mlpclassifier__epsilon=1e-09, mlpclassifier__beta_2=0.9, mlpclassifier__beta_1=0.7, mlpclassifier__alpha=0.001, total=   0.2s\n",
      "[CV] mlpclassifier__max_iter=400, mlpclassifier__learning_rate_init=0.0001, mlpclassifier__hidden_layer_sizes=[5, 5, 5], mlpclassifier__epsilon=1e-09, mlpclassifier__beta_2=0.9, mlpclassifier__beta_1=0.01, mlpclassifier__alpha=0.001 \n"
     ]
    },
    {
     "name": "stderr",
     "output_type": "stream",
     "text": [
      "/home/diego/anaconda3/lib/python3.6/site-packages/sklearn/neural_network/multilayer_perceptron.py:564: ConvergenceWarning: Stochastic Optimizer: Maximum iterations (500) reached and the optimization hasn't converged yet.\n",
      "  % self.max_iter, ConvergenceWarning)\n"
     ]
    },
    {
     "name": "stdout",
     "output_type": "stream",
     "text": [
      "[CV]  mlpclassifier__max_iter=500, mlpclassifier__learning_rate_init=0.0001, mlpclassifier__hidden_layer_sizes=[7, 7, 7], mlpclassifier__epsilon=1e-06, mlpclassifier__beta_2=0.95, mlpclassifier__beta_1=0.01, mlpclassifier__alpha=1e-05, total=   3.4s\n",
      "[CV] mlpclassifier__max_iter=400, mlpclassifier__learning_rate_init=0.0001, mlpclassifier__hidden_layer_sizes=[5, 5, 5], mlpclassifier__epsilon=1e-09, mlpclassifier__beta_2=0.9, mlpclassifier__beta_1=0.01, mlpclassifier__alpha=0.001 \n"
     ]
    },
    {
     "name": "stderr",
     "output_type": "stream",
     "text": [
      "/home/diego/anaconda3/lib/python3.6/site-packages/sklearn/neural_network/multilayer_perceptron.py:564: ConvergenceWarning: Stochastic Optimizer: Maximum iterations (400) reached and the optimization hasn't converged yet.\n",
      "  % self.max_iter, ConvergenceWarning)\n"
     ]
    },
    {
     "name": "stdout",
     "output_type": "stream",
     "text": [
      "[CV]  mlpclassifier__max_iter=400, mlpclassifier__learning_rate_init=0.0001, mlpclassifier__hidden_layer_sizes=[5, 5, 5], mlpclassifier__epsilon=1e-09, mlpclassifier__beta_2=0.9, mlpclassifier__beta_1=0.01, mlpclassifier__alpha=0.001, total=   2.8s\n",
      "[CV] mlpclassifier__max_iter=400, mlpclassifier__learning_rate_init=0.0001, mlpclassifier__hidden_layer_sizes=[5, 5, 5], mlpclassifier__epsilon=1e-09, mlpclassifier__beta_2=0.9, mlpclassifier__beta_1=0.01, mlpclassifier__alpha=0.001 \n"
     ]
    },
    {
     "name": "stderr",
     "output_type": "stream",
     "text": [
      "/home/diego/anaconda3/lib/python3.6/site-packages/sklearn/neural_network/multilayer_perceptron.py:564: ConvergenceWarning: Stochastic Optimizer: Maximum iterations (400) reached and the optimization hasn't converged yet.\n",
      "  % self.max_iter, ConvergenceWarning)\n"
     ]
    },
    {
     "name": "stdout",
     "output_type": "stream",
     "text": [
      "[CV]  mlpclassifier__max_iter=400, mlpclassifier__learning_rate_init=0.0001, mlpclassifier__hidden_layer_sizes=[5, 5, 5], mlpclassifier__epsilon=1e-09, mlpclassifier__beta_2=0.9, mlpclassifier__beta_1=0.01, mlpclassifier__alpha=0.001, total=   3.0s\n",
      "[CV]  mlpclassifier__max_iter=400, mlpclassifier__learning_rate_init=0.0001, mlpclassifier__hidden_layer_sizes=[5, 5, 5], mlpclassifier__epsilon=1e-09, mlpclassifier__beta_2=0.9, mlpclassifier__beta_1=0.01, mlpclassifier__alpha=0.001, total=   1.1s\n",
      "[CV] mlpclassifier__max_iter=500, mlpclassifier__learning_rate_init=0.0001, mlpclassifier__hidden_layer_sizes=[7, 7, 7], mlpclassifier__epsilon=1e-07, mlpclassifier__beta_2=0.9, mlpclassifier__beta_1=0.1, mlpclassifier__alpha=0.0001 \n",
      "[CV] mlpclassifier__max_iter=500, mlpclassifier__learning_rate_init=0.0001, mlpclassifier__hidden_layer_sizes=[7, 7, 7], mlpclassifier__epsilon=1e-07, mlpclassifier__beta_2=0.9, mlpclassifier__beta_1=0.1, mlpclassifier__alpha=0.0001 \n"
     ]
    },
    {
     "name": "stderr",
     "output_type": "stream",
     "text": [
      "/home/diego/anaconda3/lib/python3.6/site-packages/sklearn/neural_network/multilayer_perceptron.py:564: ConvergenceWarning: Stochastic Optimizer: Maximum iterations (400) reached and the optimization hasn't converged yet.\n",
      "  % self.max_iter, ConvergenceWarning)\n"
     ]
    },
    {
     "name": "stdout",
     "output_type": "stream",
     "text": [
      "[CV]  mlpclassifier__max_iter=400, mlpclassifier__learning_rate_init=0.0001, mlpclassifier__hidden_layer_sizes=[5, 5, 5], mlpclassifier__epsilon=1e-09, mlpclassifier__beta_2=0.9, mlpclassifier__beta_1=0.01, mlpclassifier__alpha=0.001, total=   3.7s\n",
      "[CV] mlpclassifier__max_iter=500, mlpclassifier__learning_rate_init=0.0001, mlpclassifier__hidden_layer_sizes=[7, 7, 7], mlpclassifier__epsilon=1e-07, mlpclassifier__beta_2=0.9, mlpclassifier__beta_1=0.1, mlpclassifier__alpha=0.0001 \n"
     ]
    },
    {
     "name": "stderr",
     "output_type": "stream",
     "text": [
      "/home/diego/anaconda3/lib/python3.6/site-packages/sklearn/neural_network/multilayer_perceptron.py:564: ConvergenceWarning: Stochastic Optimizer: Maximum iterations (400) reached and the optimization hasn't converged yet.\n",
      "  % self.max_iter, ConvergenceWarning)\n"
     ]
    },
    {
     "name": "stdout",
     "output_type": "stream",
     "text": [
      "[CV]  mlpclassifier__max_iter=400, mlpclassifier__learning_rate_init=0.0001, mlpclassifier__hidden_layer_sizes=[5, 5, 5], mlpclassifier__epsilon=1e-09, mlpclassifier__beta_2=0.9, mlpclassifier__beta_1=0.01, mlpclassifier__alpha=0.001, total=   2.5s\n",
      "[CV] mlpclassifier__max_iter=500, mlpclassifier__learning_rate_init=0.0001, mlpclassifier__hidden_layer_sizes=[7, 7, 7], mlpclassifier__epsilon=1e-07, mlpclassifier__beta_2=0.9, mlpclassifier__beta_1=0.1, mlpclassifier__alpha=0.0001 \n"
     ]
    },
    {
     "name": "stderr",
     "output_type": "stream",
     "text": [
      "/home/diego/anaconda3/lib/python3.6/site-packages/sklearn/neural_network/multilayer_perceptron.py:564: ConvergenceWarning: Stochastic Optimizer: Maximum iterations (500) reached and the optimization hasn't converged yet.\n",
      "  % self.max_iter, ConvergenceWarning)\n",
      "/home/diego/anaconda3/lib/python3.6/site-packages/sklearn/neural_network/multilayer_perceptron.py:564: ConvergenceWarning: Stochastic Optimizer: Maximum iterations (500) reached and the optimization hasn't converged yet.\n",
      "  % self.max_iter, ConvergenceWarning)\n"
     ]
    },
    {
     "name": "stdout",
     "output_type": "stream",
     "text": [
      "[CV]  mlpclassifier__max_iter=500, mlpclassifier__learning_rate_init=0.0001, mlpclassifier__hidden_layer_sizes=[7, 7, 7], mlpclassifier__epsilon=1e-07, mlpclassifier__beta_2=0.9, mlpclassifier__beta_1=0.1, mlpclassifier__alpha=0.0001, total=   2.8s\n",
      "[CV]  mlpclassifier__max_iter=500, mlpclassifier__learning_rate_init=0.0001, mlpclassifier__hidden_layer_sizes=[7, 7, 7], mlpclassifier__epsilon=1e-07, mlpclassifier__beta_2=0.9, mlpclassifier__beta_1=0.1, mlpclassifier__alpha=0.0001, total=   3.4s\n",
      "[CV] mlpclassifier__max_iter=300, mlpclassifier__learning_rate_init=0.0001, mlpclassifier__hidden_layer_sizes=[5, 5, 5], mlpclassifier__epsilon=1e-09, mlpclassifier__beta_2=0.5, mlpclassifier__beta_1=0.9, mlpclassifier__alpha=0.001 \n",
      "[CV] mlpclassifier__max_iter=500, mlpclassifier__learning_rate_init=0.0001, mlpclassifier__hidden_layer_sizes=[7, 7, 7], mlpclassifier__epsilon=1e-07, mlpclassifier__beta_2=0.9, mlpclassifier__beta_1=0.1, mlpclassifier__alpha=0.0001 \n"
     ]
    },
    {
     "name": "stderr",
     "output_type": "stream",
     "text": [
      "/home/diego/anaconda3/lib/python3.6/site-packages/sklearn/neural_network/multilayer_perceptron.py:564: ConvergenceWarning: Stochastic Optimizer: Maximum iterations (500) reached and the optimization hasn't converged yet.\n",
      "  % self.max_iter, ConvergenceWarning)\n"
     ]
    },
    {
     "name": "stdout",
     "output_type": "stream",
     "text": [
      "[CV]  mlpclassifier__max_iter=500, mlpclassifier__learning_rate_init=0.0001, mlpclassifier__hidden_layer_sizes=[7, 7, 7], mlpclassifier__epsilon=1e-07, mlpclassifier__beta_2=0.9, mlpclassifier__beta_1=0.1, mlpclassifier__alpha=0.0001, total=   3.7s\n",
      "[CV] mlpclassifier__max_iter=300, mlpclassifier__learning_rate_init=0.0001, mlpclassifier__hidden_layer_sizes=[5, 5, 5], mlpclassifier__epsilon=1e-09, mlpclassifier__beta_2=0.5, mlpclassifier__beta_1=0.9, mlpclassifier__alpha=0.001 \n"
     ]
    },
    {
     "name": "stderr",
     "output_type": "stream",
     "text": [
      "/home/diego/anaconda3/lib/python3.6/site-packages/sklearn/neural_network/multilayer_perceptron.py:564: ConvergenceWarning: Stochastic Optimizer: Maximum iterations (300) reached and the optimization hasn't converged yet.\n",
      "  % self.max_iter, ConvergenceWarning)\n"
     ]
    },
    {
     "name": "stdout",
     "output_type": "stream",
     "text": [
      "[CV]  mlpclassifier__max_iter=300, mlpclassifier__learning_rate_init=0.0001, mlpclassifier__hidden_layer_sizes=[5, 5, 5], mlpclassifier__epsilon=1e-09, mlpclassifier__beta_2=0.5, mlpclassifier__beta_1=0.9, mlpclassifier__alpha=0.001, total=   1.9s\n",
      "[CV] mlpclassifier__max_iter=300, mlpclassifier__learning_rate_init=0.0001, mlpclassifier__hidden_layer_sizes=[5, 5, 5], mlpclassifier__epsilon=1e-09, mlpclassifier__beta_2=0.5, mlpclassifier__beta_1=0.9, mlpclassifier__alpha=0.001 \n"
     ]
    },
    {
     "name": "stderr",
     "output_type": "stream",
     "text": [
      "/home/diego/anaconda3/lib/python3.6/site-packages/sklearn/neural_network/multilayer_perceptron.py:564: ConvergenceWarning: Stochastic Optimizer: Maximum iterations (300) reached and the optimization hasn't converged yet.\n",
      "  % self.max_iter, ConvergenceWarning)\n"
     ]
    },
    {
     "name": "stdout",
     "output_type": "stream",
     "text": [
      "[CV]  mlpclassifier__max_iter=300, mlpclassifier__learning_rate_init=0.0001, mlpclassifier__hidden_layer_sizes=[5, 5, 5], mlpclassifier__epsilon=1e-09, mlpclassifier__beta_2=0.5, mlpclassifier__beta_1=0.9, mlpclassifier__alpha=0.001, total=   1.9s\n",
      "[CV] mlpclassifier__max_iter=300, mlpclassifier__learning_rate_init=0.0001, mlpclassifier__hidden_layer_sizes=[5, 5, 5], mlpclassifier__epsilon=1e-09, mlpclassifier__beta_2=0.5, mlpclassifier__beta_1=0.9, mlpclassifier__alpha=0.001 \n"
     ]
    },
    {
     "name": "stderr",
     "output_type": "stream",
     "text": [
      "/home/diego/anaconda3/lib/python3.6/site-packages/sklearn/neural_network/multilayer_perceptron.py:564: ConvergenceWarning: Stochastic Optimizer: Maximum iterations (500) reached and the optimization hasn't converged yet.\n",
      "  % self.max_iter, ConvergenceWarning)\n"
     ]
    },
    {
     "name": "stdout",
     "output_type": "stream",
     "text": [
      "[CV]  mlpclassifier__max_iter=500, mlpclassifier__learning_rate_init=0.0001, mlpclassifier__hidden_layer_sizes=[7, 7, 7], mlpclassifier__epsilon=1e-07, mlpclassifier__beta_2=0.9, mlpclassifier__beta_1=0.1, mlpclassifier__alpha=0.0001, total=   2.6s\n",
      "[CV] mlpclassifier__max_iter=300, mlpclassifier__learning_rate_init=0.0001, mlpclassifier__hidden_layer_sizes=[5, 5, 5], mlpclassifier__epsilon=1e-09, mlpclassifier__beta_2=0.5, mlpclassifier__beta_1=0.9, mlpclassifier__alpha=0.001 \n"
     ]
    },
    {
     "name": "stderr",
     "output_type": "stream",
     "text": [
      "/home/diego/anaconda3/lib/python3.6/site-packages/sklearn/neural_network/multilayer_perceptron.py:564: ConvergenceWarning: Stochastic Optimizer: Maximum iterations (500) reached and the optimization hasn't converged yet.\n",
      "  % self.max_iter, ConvergenceWarning)\n"
     ]
    },
    {
     "name": "stdout",
     "output_type": "stream",
     "text": [
      "[CV]  mlpclassifier__max_iter=500, mlpclassifier__learning_rate_init=0.0001, mlpclassifier__hidden_layer_sizes=[7, 7, 7], mlpclassifier__epsilon=1e-07, mlpclassifier__beta_2=0.9, mlpclassifier__beta_1=0.1, mlpclassifier__alpha=0.0001, total=   4.0s\n",
      "[CV] mlpclassifier__max_iter=500, mlpclassifier__learning_rate_init=0.01, mlpclassifier__hidden_layer_sizes=[5, 5, 5], mlpclassifier__epsilon=1e-09, mlpclassifier__beta_2=0.95, mlpclassifier__beta_1=0.9, mlpclassifier__alpha=0.01 \n"
     ]
    },
    {
     "name": "stderr",
     "output_type": "stream",
     "text": [
      "/home/diego/anaconda3/lib/python3.6/site-packages/sklearn/neural_network/multilayer_perceptron.py:564: ConvergenceWarning: Stochastic Optimizer: Maximum iterations (300) reached and the optimization hasn't converged yet.\n",
      "  % self.max_iter, ConvergenceWarning)\n"
     ]
    },
    {
     "name": "stdout",
     "output_type": "stream",
     "text": [
      "[CV]  mlpclassifier__max_iter=300, mlpclassifier__learning_rate_init=0.0001, mlpclassifier__hidden_layer_sizes=[5, 5, 5], mlpclassifier__epsilon=1e-09, mlpclassifier__beta_2=0.5, mlpclassifier__beta_1=0.9, mlpclassifier__alpha=0.001, total=   1.9s\n",
      "[CV] mlpclassifier__max_iter=500, mlpclassifier__learning_rate_init=0.01, mlpclassifier__hidden_layer_sizes=[5, 5, 5], mlpclassifier__epsilon=1e-09, mlpclassifier__beta_2=0.95, mlpclassifier__beta_1=0.9, mlpclassifier__alpha=0.01 \n",
      "[CV]  mlpclassifier__max_iter=500, mlpclassifier__learning_rate_init=0.01, mlpclassifier__hidden_layer_sizes=[5, 5, 5], mlpclassifier__epsilon=1e-09, mlpclassifier__beta_2=0.95, mlpclassifier__beta_1=0.9, mlpclassifier__alpha=0.01, total=   1.0s\n",
      "[CV] mlpclassifier__max_iter=500, mlpclassifier__learning_rate_init=0.01, mlpclassifier__hidden_layer_sizes=[5, 5, 5], mlpclassifier__epsilon=1e-09, mlpclassifier__beta_2=0.95, mlpclassifier__beta_1=0.9, mlpclassifier__alpha=0.01 \n"
     ]
    },
    {
     "name": "stderr",
     "output_type": "stream",
     "text": [
      "/home/diego/anaconda3/lib/python3.6/site-packages/sklearn/neural_network/multilayer_perceptron.py:564: ConvergenceWarning: Stochastic Optimizer: Maximum iterations (300) reached and the optimization hasn't converged yet.\n",
      "  % self.max_iter, ConvergenceWarning)\n"
     ]
    },
    {
     "name": "stdout",
     "output_type": "stream",
     "text": [
      "[CV]  mlpclassifier__max_iter=300, mlpclassifier__learning_rate_init=0.0001, mlpclassifier__hidden_layer_sizes=[5, 5, 5], mlpclassifier__epsilon=1e-09, mlpclassifier__beta_2=0.5, mlpclassifier__beta_1=0.9, mlpclassifier__alpha=0.001, total=   1.4s\n",
      "[CV] mlpclassifier__max_iter=500, mlpclassifier__learning_rate_init=0.01, mlpclassifier__hidden_layer_sizes=[5, 5, 5], mlpclassifier__epsilon=1e-09, mlpclassifier__beta_2=0.95, mlpclassifier__beta_1=0.9, mlpclassifier__alpha=0.01 \n"
     ]
    },
    {
     "name": "stderr",
     "output_type": "stream",
     "text": [
      "/home/diego/anaconda3/lib/python3.6/site-packages/sklearn/neural_network/multilayer_perceptron.py:564: ConvergenceWarning: Stochastic Optimizer: Maximum iterations (300) reached and the optimization hasn't converged yet.\n",
      "  % self.max_iter, ConvergenceWarning)\n"
     ]
    },
    {
     "name": "stdout",
     "output_type": "stream",
     "text": [
      "[CV]  mlpclassifier__max_iter=300, mlpclassifier__learning_rate_init=0.0001, mlpclassifier__hidden_layer_sizes=[5, 5, 5], mlpclassifier__epsilon=1e-09, mlpclassifier__beta_2=0.5, mlpclassifier__beta_1=0.9, mlpclassifier__alpha=0.001, total=   2.1s\n",
      "[CV] mlpclassifier__max_iter=500, mlpclassifier__learning_rate_init=0.01, mlpclassifier__hidden_layer_sizes=[5, 5, 5], mlpclassifier__epsilon=1e-09, mlpclassifier__beta_2=0.95, mlpclassifier__beta_1=0.9, mlpclassifier__alpha=0.01 \n",
      "[CV]  mlpclassifier__max_iter=500, mlpclassifier__learning_rate_init=0.01, mlpclassifier__hidden_layer_sizes=[5, 5, 5], mlpclassifier__epsilon=1e-09, mlpclassifier__beta_2=0.95, mlpclassifier__beta_1=0.9, mlpclassifier__alpha=0.01, total=   0.7s\n",
      "[CV] mlpclassifier__max_iter=300, mlpclassifier__learning_rate_init=0.01, mlpclassifier__hidden_layer_sizes=[10, 10, 10], mlpclassifier__epsilon=1e-09, mlpclassifier__beta_2=0.5, mlpclassifier__beta_1=0.7, mlpclassifier__alpha=0.01 \n",
      "[CV]  mlpclassifier__max_iter=500, mlpclassifier__learning_rate_init=0.01, mlpclassifier__hidden_layer_sizes=[5, 5, 5], mlpclassifier__epsilon=1e-09, mlpclassifier__beta_2=0.95, mlpclassifier__beta_1=0.9, mlpclassifier__alpha=0.01, total=   0.7s\n",
      "[CV]  mlpclassifier__max_iter=500, mlpclassifier__learning_rate_init=0.01, mlpclassifier__hidden_layer_sizes=[5, 5, 5], mlpclassifier__epsilon=1e-09, mlpclassifier__beta_2=0.95, mlpclassifier__beta_1=0.9, mlpclassifier__alpha=0.01, total=   0.8s\n",
      "[CV] mlpclassifier__max_iter=300, mlpclassifier__learning_rate_init=0.01, mlpclassifier__hidden_layer_sizes=[10, 10, 10], mlpclassifier__epsilon=1e-09, mlpclassifier__beta_2=0.5, mlpclassifier__beta_1=0.7, mlpclassifier__alpha=0.01 \n",
      "[CV] mlpclassifier__max_iter=300, mlpclassifier__learning_rate_init=0.01, mlpclassifier__hidden_layer_sizes=[10, 10, 10], mlpclassifier__epsilon=1e-09, mlpclassifier__beta_2=0.5, mlpclassifier__beta_1=0.7, mlpclassifier__alpha=0.01 \n"
     ]
    },
    {
     "name": "stderr",
     "output_type": "stream",
     "text": [
      "[Parallel(n_jobs=4)]: Done 154 tasks      | elapsed:  1.4min\n"
     ]
    },
    {
     "name": "stdout",
     "output_type": "stream",
     "text": [
      "[CV]  mlpclassifier__max_iter=300, mlpclassifier__learning_rate_init=0.01, mlpclassifier__hidden_layer_sizes=[10, 10, 10], mlpclassifier__epsilon=1e-09, mlpclassifier__beta_2=0.5, mlpclassifier__beta_1=0.7, mlpclassifier__alpha=0.01, total=   0.3s\n",
      "[CV] mlpclassifier__max_iter=300, mlpclassifier__learning_rate_init=0.01, mlpclassifier__hidden_layer_sizes=[10, 10, 10], mlpclassifier__epsilon=1e-09, mlpclassifier__beta_2=0.5, mlpclassifier__beta_1=0.7, mlpclassifier__alpha=0.01 \n",
      "[CV]  mlpclassifier__max_iter=500, mlpclassifier__learning_rate_init=0.01, mlpclassifier__hidden_layer_sizes=[5, 5, 5], mlpclassifier__epsilon=1e-09, mlpclassifier__beta_2=0.95, mlpclassifier__beta_1=0.9, mlpclassifier__alpha=0.01, total=   0.7s\n",
      "[CV] mlpclassifier__max_iter=300, mlpclassifier__learning_rate_init=0.01, mlpclassifier__hidden_layer_sizes=[10, 10, 10], mlpclassifier__epsilon=1e-09, mlpclassifier__beta_2=0.5, mlpclassifier__beta_1=0.7, mlpclassifier__alpha=0.01 \n",
      "[CV]  mlpclassifier__max_iter=300, mlpclassifier__learning_rate_init=0.01, mlpclassifier__hidden_layer_sizes=[10, 10, 10], mlpclassifier__epsilon=1e-09, mlpclassifier__beta_2=0.5, mlpclassifier__beta_1=0.7, mlpclassifier__alpha=0.01, total=   0.4s\n",
      "[CV] mlpclassifier__max_iter=500, mlpclassifier__learning_rate_init=0.01, mlpclassifier__hidden_layer_sizes=[5, 5, 5], mlpclassifier__epsilon=1e-08, mlpclassifier__beta_2=0.9, mlpclassifier__beta_1=0.01, mlpclassifier__alpha=0.01 \n",
      "[CV]  mlpclassifier__max_iter=300, mlpclassifier__learning_rate_init=0.01, mlpclassifier__hidden_layer_sizes=[10, 10, 10], mlpclassifier__epsilon=1e-09, mlpclassifier__beta_2=0.5, mlpclassifier__beta_1=0.7, mlpclassifier__alpha=0.01, total=   0.6s\n",
      "[CV] mlpclassifier__max_iter=500, mlpclassifier__learning_rate_init=0.01, mlpclassifier__hidden_layer_sizes=[5, 5, 5], mlpclassifier__epsilon=1e-08, mlpclassifier__beta_2=0.9, mlpclassifier__beta_1=0.01, mlpclassifier__alpha=0.01 \n",
      "[CV]  mlpclassifier__max_iter=300, mlpclassifier__learning_rate_init=0.01, mlpclassifier__hidden_layer_sizes=[10, 10, 10], mlpclassifier__epsilon=1e-09, mlpclassifier__beta_2=0.5, mlpclassifier__beta_1=0.7, mlpclassifier__alpha=0.01, total=   0.5s\n",
      "[CV] mlpclassifier__max_iter=500, mlpclassifier__learning_rate_init=0.01, mlpclassifier__hidden_layer_sizes=[5, 5, 5], mlpclassifier__epsilon=1e-08, mlpclassifier__beta_2=0.9, mlpclassifier__beta_1=0.01, mlpclassifier__alpha=0.01 \n",
      "[CV]  mlpclassifier__max_iter=500, mlpclassifier__learning_rate_init=0.01, mlpclassifier__hidden_layer_sizes=[5, 5, 5], mlpclassifier__epsilon=1e-08, mlpclassifier__beta_2=0.9, mlpclassifier__beta_1=0.01, mlpclassifier__alpha=0.01, total=   0.4s\n",
      "[CV] mlpclassifier__max_iter=500, mlpclassifier__learning_rate_init=0.01, mlpclassifier__hidden_layer_sizes=[5, 5, 5], mlpclassifier__epsilon=1e-08, mlpclassifier__beta_2=0.9, mlpclassifier__beta_1=0.01, mlpclassifier__alpha=0.01 \n",
      "[CV]  mlpclassifier__max_iter=300, mlpclassifier__learning_rate_init=0.01, mlpclassifier__hidden_layer_sizes=[10, 10, 10], mlpclassifier__epsilon=1e-09, mlpclassifier__beta_2=0.5, mlpclassifier__beta_1=0.7, mlpclassifier__alpha=0.01, total=   0.6s\n",
      "[CV] mlpclassifier__max_iter=500, mlpclassifier__learning_rate_init=0.01, mlpclassifier__hidden_layer_sizes=[5, 5, 5], mlpclassifier__epsilon=1e-08, mlpclassifier__beta_2=0.9, mlpclassifier__beta_1=0.01, mlpclassifier__alpha=0.01 \n",
      "[CV]  mlpclassifier__max_iter=500, mlpclassifier__learning_rate_init=0.01, mlpclassifier__hidden_layer_sizes=[5, 5, 5], mlpclassifier__epsilon=1e-08, mlpclassifier__beta_2=0.9, mlpclassifier__beta_1=0.01, mlpclassifier__alpha=0.01, total=   0.6s\n",
      "[CV] mlpclassifier__max_iter=300, mlpclassifier__learning_rate_init=0.0001, mlpclassifier__hidden_layer_sizes=[5, 5, 5], mlpclassifier__epsilon=1e-08, mlpclassifier__beta_2=0.5, mlpclassifier__beta_1=0.1, mlpclassifier__alpha=0.0001 \n",
      "[CV]  mlpclassifier__max_iter=500, mlpclassifier__learning_rate_init=0.01, mlpclassifier__hidden_layer_sizes=[5, 5, 5], mlpclassifier__epsilon=1e-08, mlpclassifier__beta_2=0.9, mlpclassifier__beta_1=0.01, mlpclassifier__alpha=0.01, total=   0.4s\n",
      "[CV] mlpclassifier__max_iter=300, mlpclassifier__learning_rate_init=0.0001, mlpclassifier__hidden_layer_sizes=[5, 5, 5], mlpclassifier__epsilon=1e-08, mlpclassifier__beta_2=0.5, mlpclassifier__beta_1=0.1, mlpclassifier__alpha=0.0001 \n",
      "[CV]  mlpclassifier__max_iter=500, mlpclassifier__learning_rate_init=0.01, mlpclassifier__hidden_layer_sizes=[5, 5, 5], mlpclassifier__epsilon=1e-08, mlpclassifier__beta_2=0.9, mlpclassifier__beta_1=0.01, mlpclassifier__alpha=0.01, total=   0.4s\n",
      "[CV] mlpclassifier__max_iter=300, mlpclassifier__learning_rate_init=0.0001, mlpclassifier__hidden_layer_sizes=[5, 5, 5], mlpclassifier__epsilon=1e-08, mlpclassifier__beta_2=0.5, mlpclassifier__beta_1=0.1, mlpclassifier__alpha=0.0001 \n",
      "[CV]  mlpclassifier__max_iter=500, mlpclassifier__learning_rate_init=0.01, mlpclassifier__hidden_layer_sizes=[5, 5, 5], mlpclassifier__epsilon=1e-08, mlpclassifier__beta_2=0.9, mlpclassifier__beta_1=0.01, mlpclassifier__alpha=0.01, total=   0.3s\n",
      "[CV] mlpclassifier__max_iter=300, mlpclassifier__learning_rate_init=0.0001, mlpclassifier__hidden_layer_sizes=[5, 5, 5], mlpclassifier__epsilon=1e-08, mlpclassifier__beta_2=0.5, mlpclassifier__beta_1=0.1, mlpclassifier__alpha=0.0001 \n"
     ]
    },
    {
     "name": "stderr",
     "output_type": "stream",
     "text": [
      "/home/diego/anaconda3/lib/python3.6/site-packages/sklearn/neural_network/multilayer_perceptron.py:564: ConvergenceWarning: Stochastic Optimizer: Maximum iterations (300) reached and the optimization hasn't converged yet.\n",
      "  % self.max_iter, ConvergenceWarning)\n"
     ]
    },
    {
     "name": "stdout",
     "output_type": "stream",
     "text": [
      "[CV]  mlpclassifier__max_iter=300, mlpclassifier__learning_rate_init=0.0001, mlpclassifier__hidden_layer_sizes=[5, 5, 5], mlpclassifier__epsilon=1e-08, mlpclassifier__beta_2=0.5, mlpclassifier__beta_1=0.1, mlpclassifier__alpha=0.0001, total=   1.1s\n",
      "[CV] mlpclassifier__max_iter=300, mlpclassifier__learning_rate_init=0.0001, mlpclassifier__hidden_layer_sizes=[5, 5, 5], mlpclassifier__epsilon=1e-08, mlpclassifier__beta_2=0.5, mlpclassifier__beta_1=0.1, mlpclassifier__alpha=0.0001 \n"
     ]
    },
    {
     "name": "stderr",
     "output_type": "stream",
     "text": [
      "/home/diego/anaconda3/lib/python3.6/site-packages/sklearn/neural_network/multilayer_perceptron.py:564: ConvergenceWarning: Stochastic Optimizer: Maximum iterations (300) reached and the optimization hasn't converged yet.\n",
      "  % self.max_iter, ConvergenceWarning)\n"
     ]
    },
    {
     "name": "stdout",
     "output_type": "stream",
     "text": [
      "[CV]  mlpclassifier__max_iter=300, mlpclassifier__learning_rate_init=0.0001, mlpclassifier__hidden_layer_sizes=[5, 5, 5], mlpclassifier__epsilon=1e-08, mlpclassifier__beta_2=0.5, mlpclassifier__beta_1=0.1, mlpclassifier__alpha=0.0001, total=   2.1s\n",
      "[CV] mlpclassifier__max_iter=400, mlpclassifier__learning_rate_init=0.01, mlpclassifier__hidden_layer_sizes=[5, 5, 5], mlpclassifier__epsilon=1e-09, mlpclassifier__beta_2=0.95, mlpclassifier__beta_1=0.5, mlpclassifier__alpha=0.01 \n"
     ]
    },
    {
     "name": "stderr",
     "output_type": "stream",
     "text": [
      "/home/diego/anaconda3/lib/python3.6/site-packages/sklearn/neural_network/multilayer_perceptron.py:564: ConvergenceWarning: Stochastic Optimizer: Maximum iterations (300) reached and the optimization hasn't converged yet.\n",
      "  % self.max_iter, ConvergenceWarning)\n"
     ]
    },
    {
     "name": "stdout",
     "output_type": "stream",
     "text": [
      "[CV]  mlpclassifier__max_iter=300, mlpclassifier__learning_rate_init=0.0001, mlpclassifier__hidden_layer_sizes=[5, 5, 5], mlpclassifier__epsilon=1e-08, mlpclassifier__beta_2=0.5, mlpclassifier__beta_1=0.1, mlpclassifier__alpha=0.0001, total=   2.3s\n",
      "[CV] mlpclassifier__max_iter=400, mlpclassifier__learning_rate_init=0.01, mlpclassifier__hidden_layer_sizes=[5, 5, 5], mlpclassifier__epsilon=1e-09, mlpclassifier__beta_2=0.95, mlpclassifier__beta_1=0.5, mlpclassifier__alpha=0.01 \n"
     ]
    },
    {
     "name": "stderr",
     "output_type": "stream",
     "text": [
      "/home/diego/anaconda3/lib/python3.6/site-packages/sklearn/neural_network/multilayer_perceptron.py:564: ConvergenceWarning: Stochastic Optimizer: Maximum iterations (300) reached and the optimization hasn't converged yet.\n",
      "  % self.max_iter, ConvergenceWarning)\n"
     ]
    },
    {
     "name": "stdout",
     "output_type": "stream",
     "text": [
      "[CV]  mlpclassifier__max_iter=300, mlpclassifier__learning_rate_init=0.0001, mlpclassifier__hidden_layer_sizes=[5, 5, 5], mlpclassifier__epsilon=1e-08, mlpclassifier__beta_2=0.5, mlpclassifier__beta_1=0.1, mlpclassifier__alpha=0.0001, total=   2.3s\n",
      "[CV] mlpclassifier__max_iter=400, mlpclassifier__learning_rate_init=0.01, mlpclassifier__hidden_layer_sizes=[5, 5, 5], mlpclassifier__epsilon=1e-09, mlpclassifier__beta_2=0.95, mlpclassifier__beta_1=0.5, mlpclassifier__alpha=0.01 \n",
      "[CV]  mlpclassifier__max_iter=400, mlpclassifier__learning_rate_init=0.01, mlpclassifier__hidden_layer_sizes=[5, 5, 5], mlpclassifier__epsilon=1e-09, mlpclassifier__beta_2=0.95, mlpclassifier__beta_1=0.5, mlpclassifier__alpha=0.01, total=   0.3s\n",
      "[CV] mlpclassifier__max_iter=400, mlpclassifier__learning_rate_init=0.01, mlpclassifier__hidden_layer_sizes=[5, 5, 5], mlpclassifier__epsilon=1e-09, mlpclassifier__beta_2=0.95, mlpclassifier__beta_1=0.5, mlpclassifier__alpha=0.01 \n",
      "[CV]  mlpclassifier__max_iter=400, mlpclassifier__learning_rate_init=0.01, mlpclassifier__hidden_layer_sizes=[5, 5, 5], mlpclassifier__epsilon=1e-09, mlpclassifier__beta_2=0.95, mlpclassifier__beta_1=0.5, mlpclassifier__alpha=0.01, total=   0.3s\n",
      "[CV] mlpclassifier__max_iter=400, mlpclassifier__learning_rate_init=0.01, mlpclassifier__hidden_layer_sizes=[5, 5, 5], mlpclassifier__epsilon=1e-09, mlpclassifier__beta_2=0.95, mlpclassifier__beta_1=0.5, mlpclassifier__alpha=0.01 \n",
      "[CV]  mlpclassifier__max_iter=400, mlpclassifier__learning_rate_init=0.01, mlpclassifier__hidden_layer_sizes=[5, 5, 5], mlpclassifier__epsilon=1e-09, mlpclassifier__beta_2=0.95, mlpclassifier__beta_1=0.5, mlpclassifier__alpha=0.01, total=   0.3s\n",
      "[CV] mlpclassifier__max_iter=500, mlpclassifier__learning_rate_init=0.0001, mlpclassifier__hidden_layer_sizes=[5, 5, 5], mlpclassifier__epsilon=1e-07, mlpclassifier__beta_2=0.999, mlpclassifier__beta_1=0.01, mlpclassifier__alpha=0.01 \n",
      "[CV]  mlpclassifier__max_iter=400, mlpclassifier__learning_rate_init=0.01, mlpclassifier__hidden_layer_sizes=[5, 5, 5], mlpclassifier__epsilon=1e-09, mlpclassifier__beta_2=0.95, mlpclassifier__beta_1=0.5, mlpclassifier__alpha=0.01, total=   0.2s\n",
      "[CV] mlpclassifier__max_iter=500, mlpclassifier__learning_rate_init=0.0001, mlpclassifier__hidden_layer_sizes=[5, 5, 5], mlpclassifier__epsilon=1e-07, mlpclassifier__beta_2=0.999, mlpclassifier__beta_1=0.01, mlpclassifier__alpha=0.01 \n",
      "[CV]  mlpclassifier__max_iter=400, mlpclassifier__learning_rate_init=0.01, mlpclassifier__hidden_layer_sizes=[5, 5, 5], mlpclassifier__epsilon=1e-09, mlpclassifier__beta_2=0.95, mlpclassifier__beta_1=0.5, mlpclassifier__alpha=0.01, total=   0.6s\n",
      "[CV] mlpclassifier__max_iter=500, mlpclassifier__learning_rate_init=0.0001, mlpclassifier__hidden_layer_sizes=[5, 5, 5], mlpclassifier__epsilon=1e-07, mlpclassifier__beta_2=0.999, mlpclassifier__beta_1=0.01, mlpclassifier__alpha=0.01 \n"
     ]
    },
    {
     "name": "stderr",
     "output_type": "stream",
     "text": [
      "/home/diego/anaconda3/lib/python3.6/site-packages/sklearn/neural_network/multilayer_perceptron.py:564: ConvergenceWarning: Stochastic Optimizer: Maximum iterations (300) reached and the optimization hasn't converged yet.\n",
      "  % self.max_iter, ConvergenceWarning)\n"
     ]
    },
    {
     "name": "stdout",
     "output_type": "stream",
     "text": [
      "[CV]  mlpclassifier__max_iter=300, mlpclassifier__learning_rate_init=0.0001, mlpclassifier__hidden_layer_sizes=[5, 5, 5], mlpclassifier__epsilon=1e-08, mlpclassifier__beta_2=0.5, mlpclassifier__beta_1=0.1, mlpclassifier__alpha=0.0001, total=   2.1s\n",
      "[CV] mlpclassifier__max_iter=500, mlpclassifier__learning_rate_init=0.0001, mlpclassifier__hidden_layer_sizes=[5, 5, 5], mlpclassifier__epsilon=1e-07, mlpclassifier__beta_2=0.999, mlpclassifier__beta_1=0.01, mlpclassifier__alpha=0.01 \n"
     ]
    },
    {
     "name": "stderr",
     "output_type": "stream",
     "text": [
      "/home/diego/anaconda3/lib/python3.6/site-packages/sklearn/neural_network/multilayer_perceptron.py:564: ConvergenceWarning: Stochastic Optimizer: Maximum iterations (500) reached and the optimization hasn't converged yet.\n",
      "  % self.max_iter, ConvergenceWarning)\n"
     ]
    },
    {
     "name": "stdout",
     "output_type": "stream",
     "text": [
      "[CV]  mlpclassifier__max_iter=500, mlpclassifier__learning_rate_init=0.0001, mlpclassifier__hidden_layer_sizes=[5, 5, 5], mlpclassifier__epsilon=1e-07, mlpclassifier__beta_2=0.999, mlpclassifier__beta_1=0.01, mlpclassifier__alpha=0.01, total=   2.7s\n",
      "[CV] mlpclassifier__max_iter=500, mlpclassifier__learning_rate_init=0.0001, mlpclassifier__hidden_layer_sizes=[5, 5, 5], mlpclassifier__epsilon=1e-07, mlpclassifier__beta_2=0.999, mlpclassifier__beta_1=0.01, mlpclassifier__alpha=0.01 \n"
     ]
    },
    {
     "name": "stderr",
     "output_type": "stream",
     "text": [
      "/home/diego/anaconda3/lib/python3.6/site-packages/sklearn/neural_network/multilayer_perceptron.py:564: ConvergenceWarning: Stochastic Optimizer: Maximum iterations (500) reached and the optimization hasn't converged yet.\n",
      "  % self.max_iter, ConvergenceWarning)\n"
     ]
    },
    {
     "name": "stdout",
     "output_type": "stream",
     "text": [
      "[CV]  mlpclassifier__max_iter=500, mlpclassifier__learning_rate_init=0.0001, mlpclassifier__hidden_layer_sizes=[5, 5, 5], mlpclassifier__epsilon=1e-07, mlpclassifier__beta_2=0.999, mlpclassifier__beta_1=0.01, mlpclassifier__alpha=0.01, total=   3.4s\n",
      "[CV] mlpclassifier__max_iter=500, mlpclassifier__learning_rate_init=0.01, mlpclassifier__hidden_layer_sizes=[7, 7, 7], mlpclassifier__epsilon=1e-06, mlpclassifier__beta_2=0.5, mlpclassifier__beta_1=0.5, mlpclassifier__alpha=0.01 \n",
      "[CV]  mlpclassifier__max_iter=500, mlpclassifier__learning_rate_init=0.01, mlpclassifier__hidden_layer_sizes=[7, 7, 7], mlpclassifier__epsilon=1e-06, mlpclassifier__beta_2=0.5, mlpclassifier__beta_1=0.5, mlpclassifier__alpha=0.01, total=   0.6s\n",
      "[CV] mlpclassifier__max_iter=500, mlpclassifier__learning_rate_init=0.01, mlpclassifier__hidden_layer_sizes=[7, 7, 7], mlpclassifier__epsilon=1e-06, mlpclassifier__beta_2=0.5, mlpclassifier__beta_1=0.5, mlpclassifier__alpha=0.01 \n"
     ]
    },
    {
     "name": "stderr",
     "output_type": "stream",
     "text": [
      "/home/diego/anaconda3/lib/python3.6/site-packages/sklearn/neural_network/multilayer_perceptron.py:564: ConvergenceWarning: Stochastic Optimizer: Maximum iterations (500) reached and the optimization hasn't converged yet.\n",
      "  % self.max_iter, ConvergenceWarning)\n"
     ]
    },
    {
     "name": "stdout",
     "output_type": "stream",
     "text": [
      "[CV]  mlpclassifier__max_iter=500, mlpclassifier__learning_rate_init=0.0001, mlpclassifier__hidden_layer_sizes=[5, 5, 5], mlpclassifier__epsilon=1e-07, mlpclassifier__beta_2=0.999, mlpclassifier__beta_1=0.01, mlpclassifier__alpha=0.01, total=   3.8s\n",
      "[CV]  mlpclassifier__max_iter=500, mlpclassifier__learning_rate_init=0.01, mlpclassifier__hidden_layer_sizes=[7, 7, 7], mlpclassifier__epsilon=1e-06, mlpclassifier__beta_2=0.5, mlpclassifier__beta_1=0.5, mlpclassifier__alpha=0.01, total=   0.2s\n"
     ]
    },
    {
     "name": "stderr",
     "output_type": "stream",
     "text": [
      "/home/diego/anaconda3/lib/python3.6/site-packages/sklearn/neural_network/multilayer_perceptron.py:564: ConvergenceWarning: Stochastic Optimizer: Maximum iterations (500) reached and the optimization hasn't converged yet.\n",
      "  % self.max_iter, ConvergenceWarning)\n"
     ]
    },
    {
     "name": "stdout",
     "output_type": "stream",
     "text": [
      "[CV] mlpclassifier__max_iter=500, mlpclassifier__learning_rate_init=0.01, mlpclassifier__hidden_layer_sizes=[7, 7, 7], mlpclassifier__epsilon=1e-06, mlpclassifier__beta_2=0.5, mlpclassifier__beta_1=0.5, mlpclassifier__alpha=0.01 \n",
      "[CV] mlpclassifier__max_iter=500, mlpclassifier__learning_rate_init=0.01, mlpclassifier__hidden_layer_sizes=[7, 7, 7], mlpclassifier__epsilon=1e-06, mlpclassifier__beta_2=0.5, mlpclassifier__beta_1=0.5, mlpclassifier__alpha=0.01 \n",
      "[CV]  mlpclassifier__max_iter=500, mlpclassifier__learning_rate_init=0.0001, mlpclassifier__hidden_layer_sizes=[5, 5, 5], mlpclassifier__epsilon=1e-07, mlpclassifier__beta_2=0.999, mlpclassifier__beta_1=0.01, mlpclassifier__alpha=0.01, total=   4.1s\n",
      "[CV] mlpclassifier__max_iter=500, mlpclassifier__learning_rate_init=0.01, mlpclassifier__hidden_layer_sizes=[7, 7, 7], mlpclassifier__epsilon=1e-06, mlpclassifier__beta_2=0.5, mlpclassifier__beta_1=0.5, mlpclassifier__alpha=0.01 \n",
      "[CV]  mlpclassifier__max_iter=500, mlpclassifier__learning_rate_init=0.01, mlpclassifier__hidden_layer_sizes=[7, 7, 7], mlpclassifier__epsilon=1e-06, mlpclassifier__beta_2=0.5, mlpclassifier__beta_1=0.5, mlpclassifier__alpha=0.01, total=   0.2s\n",
      "[CV] mlpclassifier__max_iter=400, mlpclassifier__learning_rate_init=0.01, mlpclassifier__hidden_layer_sizes=[5, 5, 5], mlpclassifier__epsilon=1e-09, mlpclassifier__beta_2=0.5, mlpclassifier__beta_1=0.3, mlpclassifier__alpha=0.001 \n",
      "[CV]  mlpclassifier__max_iter=500, mlpclassifier__learning_rate_init=0.01, mlpclassifier__hidden_layer_sizes=[7, 7, 7], mlpclassifier__epsilon=1e-06, mlpclassifier__beta_2=0.5, mlpclassifier__beta_1=0.5, mlpclassifier__alpha=0.01, total=   0.3s\n",
      "[CV] mlpclassifier__max_iter=400, mlpclassifier__learning_rate_init=0.01, mlpclassifier__hidden_layer_sizes=[5, 5, 5], mlpclassifier__epsilon=1e-09, mlpclassifier__beta_2=0.5, mlpclassifier__beta_1=0.3, mlpclassifier__alpha=0.001 \n",
      "[CV]  mlpclassifier__max_iter=500, mlpclassifier__learning_rate_init=0.01, mlpclassifier__hidden_layer_sizes=[7, 7, 7], mlpclassifier__epsilon=1e-06, mlpclassifier__beta_2=0.5, mlpclassifier__beta_1=0.5, mlpclassifier__alpha=0.01, total=   0.4s\n",
      "[CV] mlpclassifier__max_iter=400, mlpclassifier__learning_rate_init=0.01, mlpclassifier__hidden_layer_sizes=[5, 5, 5], mlpclassifier__epsilon=1e-09, mlpclassifier__beta_2=0.5, mlpclassifier__beta_1=0.3, mlpclassifier__alpha=0.001 \n",
      "[CV]  mlpclassifier__max_iter=400, mlpclassifier__learning_rate_init=0.01, mlpclassifier__hidden_layer_sizes=[5, 5, 5], mlpclassifier__epsilon=1e-09, mlpclassifier__beta_2=0.5, mlpclassifier__beta_1=0.3, mlpclassifier__alpha=0.001, total=   0.2s\n",
      "[CV] mlpclassifier__max_iter=400, mlpclassifier__learning_rate_init=0.01, mlpclassifier__hidden_layer_sizes=[5, 5, 5], mlpclassifier__epsilon=1e-09, mlpclassifier__beta_2=0.5, mlpclassifier__beta_1=0.3, mlpclassifier__alpha=0.001 \n",
      "[CV]  mlpclassifier__max_iter=400, mlpclassifier__learning_rate_init=0.01, mlpclassifier__hidden_layer_sizes=[5, 5, 5], mlpclassifier__epsilon=1e-09, mlpclassifier__beta_2=0.5, mlpclassifier__beta_1=0.3, mlpclassifier__alpha=0.001, total=   0.2s\n",
      "[CV] mlpclassifier__max_iter=400, mlpclassifier__learning_rate_init=0.01, mlpclassifier__hidden_layer_sizes=[5, 5, 5], mlpclassifier__epsilon=1e-09, mlpclassifier__beta_2=0.5, mlpclassifier__beta_1=0.3, mlpclassifier__alpha=0.001 \n",
      "[CV]  mlpclassifier__max_iter=400, mlpclassifier__learning_rate_init=0.01, mlpclassifier__hidden_layer_sizes=[5, 5, 5], mlpclassifier__epsilon=1e-09, mlpclassifier__beta_2=0.5, mlpclassifier__beta_1=0.3, mlpclassifier__alpha=0.001, total=   0.2s\n",
      "[CV] mlpclassifier__max_iter=500, mlpclassifier__learning_rate_init=0.001, mlpclassifier__hidden_layer_sizes=[5, 5, 5], mlpclassifier__epsilon=1e-06, mlpclassifier__beta_2=0.999, mlpclassifier__beta_1=0.9, mlpclassifier__alpha=0.01 \n",
      "[CV]  mlpclassifier__max_iter=400, mlpclassifier__learning_rate_init=0.01, mlpclassifier__hidden_layer_sizes=[5, 5, 5], mlpclassifier__epsilon=1e-09, mlpclassifier__beta_2=0.5, mlpclassifier__beta_1=0.3, mlpclassifier__alpha=0.001, total=   0.2s\n",
      "[CV] mlpclassifier__max_iter=500, mlpclassifier__learning_rate_init=0.001, mlpclassifier__hidden_layer_sizes=[5, 5, 5], mlpclassifier__epsilon=1e-06, mlpclassifier__beta_2=0.999, mlpclassifier__beta_1=0.9, mlpclassifier__alpha=0.01 \n",
      "[CV]  mlpclassifier__max_iter=400, mlpclassifier__learning_rate_init=0.01, mlpclassifier__hidden_layer_sizes=[5, 5, 5], mlpclassifier__epsilon=1e-09, mlpclassifier__beta_2=0.5, mlpclassifier__beta_1=0.3, mlpclassifier__alpha=0.001, total=   0.8s\n",
      "[CV] mlpclassifier__max_iter=500, mlpclassifier__learning_rate_init=0.001, mlpclassifier__hidden_layer_sizes=[5, 5, 5], mlpclassifier__epsilon=1e-06, mlpclassifier__beta_2=0.999, mlpclassifier__beta_1=0.9, mlpclassifier__alpha=0.01 \n"
     ]
    },
    {
     "name": "stderr",
     "output_type": "stream",
     "text": [
      "/home/diego/anaconda3/lib/python3.6/site-packages/sklearn/neural_network/multilayer_perceptron.py:564: ConvergenceWarning: Stochastic Optimizer: Maximum iterations (500) reached and the optimization hasn't converged yet.\n",
      "  % self.max_iter, ConvergenceWarning)\n"
     ]
    },
    {
     "name": "stdout",
     "output_type": "stream",
     "text": [
      "[CV]  mlpclassifier__max_iter=500, mlpclassifier__learning_rate_init=0.0001, mlpclassifier__hidden_layer_sizes=[5, 5, 5], mlpclassifier__epsilon=1e-07, mlpclassifier__beta_2=0.999, mlpclassifier__beta_1=0.01, mlpclassifier__alpha=0.01, total=   3.9s\n",
      "[CV] mlpclassifier__max_iter=500, mlpclassifier__learning_rate_init=0.001, mlpclassifier__hidden_layer_sizes=[5, 5, 5], mlpclassifier__epsilon=1e-06, mlpclassifier__beta_2=0.999, mlpclassifier__beta_1=0.9, mlpclassifier__alpha=0.01 \n",
      "[CV]  mlpclassifier__max_iter=500, mlpclassifier__learning_rate_init=0.001, mlpclassifier__hidden_layer_sizes=[5, 5, 5], mlpclassifier__epsilon=1e-06, mlpclassifier__beta_2=0.999, mlpclassifier__beta_1=0.9, mlpclassifier__alpha=0.01, total=   1.7s\n",
      "[CV] mlpclassifier__max_iter=500, mlpclassifier__learning_rate_init=0.001, mlpclassifier__hidden_layer_sizes=[5, 5, 5], mlpclassifier__epsilon=1e-06, mlpclassifier__beta_2=0.999, mlpclassifier__beta_1=0.9, mlpclassifier__alpha=0.01 \n",
      "[CV]  mlpclassifier__max_iter=500, mlpclassifier__learning_rate_init=0.001, mlpclassifier__hidden_layer_sizes=[5, 5, 5], mlpclassifier__epsilon=1e-06, mlpclassifier__beta_2=0.999, mlpclassifier__beta_1=0.9, mlpclassifier__alpha=0.01, total=   2.5s\n",
      "[CV] mlpclassifier__max_iter=500, mlpclassifier__learning_rate_init=0.0001, mlpclassifier__hidden_layer_sizes=[7, 7, 7], mlpclassifier__epsilon=1e-07, mlpclassifier__beta_2=0.9, mlpclassifier__beta_1=0.01, mlpclassifier__alpha=0.01 \n",
      "[CV]  mlpclassifier__max_iter=500, mlpclassifier__learning_rate_init=0.001, mlpclassifier__hidden_layer_sizes=[5, 5, 5], mlpclassifier__epsilon=1e-06, mlpclassifier__beta_2=0.999, mlpclassifier__beta_1=0.9, mlpclassifier__alpha=0.01, total=   2.4s\n",
      "[CV] mlpclassifier__max_iter=500, mlpclassifier__learning_rate_init=0.0001, mlpclassifier__hidden_layer_sizes=[7, 7, 7], mlpclassifier__epsilon=1e-07, mlpclassifier__beta_2=0.9, mlpclassifier__beta_1=0.01, mlpclassifier__alpha=0.01 \n",
      "[CV]  mlpclassifier__max_iter=500, mlpclassifier__learning_rate_init=0.001, mlpclassifier__hidden_layer_sizes=[5, 5, 5], mlpclassifier__epsilon=1e-06, mlpclassifier__beta_2=0.999, mlpclassifier__beta_1=0.9, mlpclassifier__alpha=0.01, total=   2.5s\n",
      "[CV] mlpclassifier__max_iter=500, mlpclassifier__learning_rate_init=0.0001, mlpclassifier__hidden_layer_sizes=[7, 7, 7], mlpclassifier__epsilon=1e-07, mlpclassifier__beta_2=0.9, mlpclassifier__beta_1=0.01, mlpclassifier__alpha=0.01 \n",
      "[CV]  mlpclassifier__max_iter=500, mlpclassifier__learning_rate_init=0.001, mlpclassifier__hidden_layer_sizes=[5, 5, 5], mlpclassifier__epsilon=1e-06, mlpclassifier__beta_2=0.999, mlpclassifier__beta_1=0.9, mlpclassifier__alpha=0.01, total=   4.0s\n",
      "[CV] mlpclassifier__max_iter=500, mlpclassifier__learning_rate_init=0.0001, mlpclassifier__hidden_layer_sizes=[7, 7, 7], mlpclassifier__epsilon=1e-07, mlpclassifier__beta_2=0.9, mlpclassifier__beta_1=0.01, mlpclassifier__alpha=0.01 \n"
     ]
    },
    {
     "name": "stderr",
     "output_type": "stream",
     "text": [
      "/home/diego/anaconda3/lib/python3.6/site-packages/sklearn/neural_network/multilayer_perceptron.py:564: ConvergenceWarning: Stochastic Optimizer: Maximum iterations (500) reached and the optimization hasn't converged yet.\n",
      "  % self.max_iter, ConvergenceWarning)\n"
     ]
    },
    {
     "name": "stdout",
     "output_type": "stream",
     "text": [
      "[CV]  mlpclassifier__max_iter=500, mlpclassifier__learning_rate_init=0.0001, mlpclassifier__hidden_layer_sizes=[7, 7, 7], mlpclassifier__epsilon=1e-07, mlpclassifier__beta_2=0.9, mlpclassifier__beta_1=0.01, mlpclassifier__alpha=0.01, total=   3.1s\n",
      "[CV] mlpclassifier__max_iter=500, mlpclassifier__learning_rate_init=0.0001, mlpclassifier__hidden_layer_sizes=[7, 7, 7], mlpclassifier__epsilon=1e-07, mlpclassifier__beta_2=0.9, mlpclassifier__beta_1=0.01, mlpclassifier__alpha=0.01 \n"
     ]
    },
    {
     "name": "stderr",
     "output_type": "stream",
     "text": [
      "/home/diego/anaconda3/lib/python3.6/site-packages/sklearn/neural_network/multilayer_perceptron.py:564: ConvergenceWarning: Stochastic Optimizer: Maximum iterations (500) reached and the optimization hasn't converged yet.\n",
      "  % self.max_iter, ConvergenceWarning)\n"
     ]
    },
    {
     "name": "stdout",
     "output_type": "stream",
     "text": [
      "[CV]  mlpclassifier__max_iter=500, mlpclassifier__learning_rate_init=0.0001, mlpclassifier__hidden_layer_sizes=[7, 7, 7], mlpclassifier__epsilon=1e-07, mlpclassifier__beta_2=0.9, mlpclassifier__beta_1=0.01, mlpclassifier__alpha=0.01, total=   3.5s\n"
     ]
    },
    {
     "name": "stderr",
     "output_type": "stream",
     "text": [
      "/home/diego/anaconda3/lib/python3.6/site-packages/sklearn/neural_network/multilayer_perceptron.py:564: ConvergenceWarning: Stochastic Optimizer: Maximum iterations (500) reached and the optimization hasn't converged yet.\n",
      "  % self.max_iter, ConvergenceWarning)\n"
     ]
    },
    {
     "name": "stdout",
     "output_type": "stream",
     "text": [
      "[CV]  mlpclassifier__max_iter=500, mlpclassifier__learning_rate_init=0.0001, mlpclassifier__hidden_layer_sizes=[7, 7, 7], mlpclassifier__epsilon=1e-07, mlpclassifier__beta_2=0.9, mlpclassifier__beta_1=0.01, mlpclassifier__alpha=0.01, total=   3.0s\n"
     ]
    },
    {
     "name": "stderr",
     "output_type": "stream",
     "text": [
      "/home/diego/anaconda3/lib/python3.6/site-packages/sklearn/neural_network/multilayer_perceptron.py:564: ConvergenceWarning: Stochastic Optimizer: Maximum iterations (500) reached and the optimization hasn't converged yet.\n",
      "  % self.max_iter, ConvergenceWarning)\n"
     ]
    },
    {
     "name": "stdout",
     "output_type": "stream",
     "text": [
      "[CV]  mlpclassifier__max_iter=500, mlpclassifier__learning_rate_init=0.0001, mlpclassifier__hidden_layer_sizes=[7, 7, 7], mlpclassifier__epsilon=1e-07, mlpclassifier__beta_2=0.9, mlpclassifier__beta_1=0.01, mlpclassifier__alpha=0.01, total=   2.2s\n"
     ]
    },
    {
     "name": "stderr",
     "output_type": "stream",
     "text": [
      "/home/diego/anaconda3/lib/python3.6/site-packages/sklearn/neural_network/multilayer_perceptron.py:564: ConvergenceWarning: Stochastic Optimizer: Maximum iterations (500) reached and the optimization hasn't converged yet.\n",
      "  % self.max_iter, ConvergenceWarning)\n"
     ]
    },
    {
     "name": "stdout",
     "output_type": "stream",
     "text": [
      "[CV]  mlpclassifier__max_iter=500, mlpclassifier__learning_rate_init=0.0001, mlpclassifier__hidden_layer_sizes=[7, 7, 7], mlpclassifier__epsilon=1e-07, mlpclassifier__beta_2=0.9, mlpclassifier__beta_1=0.01, mlpclassifier__alpha=0.01, total=   2.4s\n"
     ]
    },
    {
     "name": "stderr",
     "output_type": "stream",
     "text": [
      "[Parallel(n_jobs=4)]: Done 200 out of 200 | elapsed:  1.7min finished\n"
     ]
    },
    {
     "data": {
      "text/plain": [
       "RandomizedSearchCV(cv=5, error_score='raise',\n",
       "          estimator=Pipeline(memory=None,\n",
       "     steps=[('standardscaler', StandardScaler(copy=True, with_mean=True, with_std=True)), ('mlpclassifier', MLPClassifier(activation='relu', alpha=0.0001, batch_size='auto', beta_1=0.9,\n",
       "       beta_2=0.999, early_stopping=False, epsilon=1e-08,\n",
       "       hidden_layer_sizes=(100,), learning_rate='constant',\n",
       " ...=True, solver='adam', tol=0.0001, validation_fraction=0.1,\n",
       "       verbose=False, warm_start=False))]),\n",
       "          fit_params=None, iid=True, n_iter=40, n_jobs=4,\n",
       "          param_distributions={'mlpclassifier__hidden_layer_sizes': [[5, 5, 5], [7, 7, 7], [10, 10, 10]], 'mlpclassifier__alpha': [1e-05, 0.0001, 0.001, 0.01], 'mlpclassifier__beta_1': [0.01, 0.1, 0.3, 0.5, 0.7, 0.9], 'mlpclassifier__beta_2': [0.5, 0.9, 0.95, 0.999], 'mlpclassifier__epsilon': [1e-09, 1e-08, 1e-07, 1e-06], 'mlpclassifier__max_iter': [300, 400, 500], 'mlpclassifier__learning_rate_init': [0.0001, 0.001, 0.01]},\n",
       "          pre_dispatch='2*n_jobs', random_state=None, refit=True,\n",
       "          return_train_score='warn', scoring=None, verbose=2)"
      ]
     },
     "execution_count": 189,
     "metadata": {},
     "output_type": "execute_result"
    }
   ],
   "source": [
    "clf4.fit(X_train, y_train)"
   ]
  },
  {
   "cell_type": "code",
   "execution_count": 190,
   "metadata": {},
   "outputs": [
    {
     "name": "stdout",
     "output_type": "stream",
     "text": [
      "Model with rank: 1\n",
      "Mean validation score: 0.819 (std: 0.016)\n",
      "Parameters:\n",
      "{'mlpclassifier__alpha': 0.001,\n",
      " 'mlpclassifier__beta_1': 0.7,\n",
      " 'mlpclassifier__beta_2': 0.9,\n",
      " 'mlpclassifier__epsilon': 1e-09,\n",
      " 'mlpclassifier__hidden_layer_sizes': [10, 10, 10],\n",
      " 'mlpclassifier__learning_rate_init': 0.01,\n",
      " 'mlpclassifier__max_iter': 500}\n",
      "\n",
      "Model with rank: 2\n",
      "Mean validation score: 0.818 (std: 0.025)\n",
      "Parameters:\n",
      "{'mlpclassifier__alpha': 0.001,\n",
      " 'mlpclassifier__beta_1': 0.3,\n",
      " 'mlpclassifier__beta_2': 0.999,\n",
      " 'mlpclassifier__epsilon': 1e-09,\n",
      " 'mlpclassifier__hidden_layer_sizes': [5, 5, 5],\n",
      " 'mlpclassifier__learning_rate_init': 0.001,\n",
      " 'mlpclassifier__max_iter': 500}\n",
      "\n",
      "Model with rank: 2\n",
      "Mean validation score: 0.818 (std: 0.025)\n",
      "Parameters:\n",
      "{'mlpclassifier__alpha': 0.01,\n",
      " 'mlpclassifier__beta_1': 0.7,\n",
      " 'mlpclassifier__beta_2': 0.5,\n",
      " 'mlpclassifier__epsilon': 1e-09,\n",
      " 'mlpclassifier__hidden_layer_sizes': [10, 10, 10],\n",
      " 'mlpclassifier__learning_rate_init': 0.01,\n",
      " 'mlpclassifier__max_iter': 300}\n",
      "\n",
      "Best model score on whole training set: 0.852\n"
     ]
    }
   ],
   "source": [
    "report(clf4.cv_results_, 3)\n",
    "print(\"Best model score on whole training set: {0:.3f}\".format(clf4.score(X_train, y_train)))"
   ]
  },
  {
   "cell_type": "markdown",
   "metadata": {},
   "source": [
    "### Choose best model"
   ]
  },
  {
   "cell_type": "code",
   "execution_count": 198,
   "metadata": {},
   "outputs": [],
   "source": [
    "clfs = [clf0, clf1, clf2, clf3, clf4]"
   ]
  },
  {
   "cell_type": "code",
   "execution_count": 202,
   "metadata": {},
   "outputs": [
    {
     "name": "stdout",
     "output_type": "stream",
     "text": [
      "\n",
      "Model with rank: 1\n",
      "Mean validation score: 0.820 (std: 0.028)\n",
      "Parameters:\n",
      "{'randomforestclassifier__bootstrap': True,\n",
      " 'randomforestclassifier__criterion': 'entropy',\n",
      " 'randomforestclassifier__max_depth': None,\n",
      " 'randomforestclassifier__max_features': 7,\n",
      " 'randomforestclassifier__min_samples_leaf': 4,\n",
      " 'randomforestclassifier__min_samples_split': 10}\n",
      "\n",
      "Best model score on whole training set: 0.900\n",
      "_______________\n",
      "\n",
      "Model with rank: 1\n",
      "Mean validation score: 0.794 (std: 0.012)\n",
      "Parameters:\n",
      "{'logisticregression__C': 10, 'logisticregression__penalty': 'l1'}\n",
      "\n",
      "Model with rank: 1\n",
      "Mean validation score: 0.794 (std: 0.012)\n",
      "Parameters:\n",
      "{'logisticregression__C': 10, 'logisticregression__penalty': 'l2'}\n",
      "\n",
      "Model with rank: 1\n",
      "Mean validation score: 0.794 (std: 0.012)\n",
      "Parameters:\n",
      "{'logisticregression__C': 100, 'logisticregression__penalty': 'l1'}\n",
      "\n",
      "Model with rank: 1\n",
      "Mean validation score: 0.794 (std: 0.012)\n",
      "Parameters:\n",
      "{'logisticregression__C': 100, 'logisticregression__penalty': 'l2'}\n",
      "\n",
      "Best model score on whole training set: 0.805\n",
      "_______________\n",
      "\n",
      "Model with rank: 1\n",
      "Mean validation score: 0.820 (std: 0.020)\n",
      "Parameters:\n",
      "{'svc__C': 1, 'svc__gamma': 0.1, 'svc__kernel': 'rbf'}\n",
      "\n",
      "Best model score on whole training set: 0.845\n",
      "_______________\n",
      "\n",
      "Model with rank: 1\n",
      "Mean validation score: 0.816 (std: 0.023)\n",
      "Parameters:\n",
      "{'adaboostclassifier__learning_rate': 1.0,\n",
      " 'adaboostclassifier__n_estimators': 500}\n",
      "\n",
      "Best model score on whole training set: 0.861\n",
      "_______________\n",
      "\n",
      "Model with rank: 1\n",
      "Mean validation score: 0.819 (std: 0.016)\n",
      "Parameters:\n",
      "{'mlpclassifier__alpha': 0.001,\n",
      " 'mlpclassifier__beta_1': 0.7,\n",
      " 'mlpclassifier__beta_2': 0.9,\n",
      " 'mlpclassifier__epsilon': 1e-09,\n",
      " 'mlpclassifier__hidden_layer_sizes': [10, 10, 10],\n",
      " 'mlpclassifier__learning_rate_init': 0.01,\n",
      " 'mlpclassifier__max_iter': 500}\n",
      "\n",
      "Best model score on whole training set: 0.852\n",
      "_______________\n"
     ]
    }
   ],
   "source": [
    "for clf in clfs:\n",
    "    print('')\n",
    "    report(clf.cv_results_, 1)\n",
    "    print(\"Best model score on whole training set: {0:.3f}\".format(clf.score(X_train, y_train)))\n",
    "    print('_' * 15)"
   ]
  },
  {
   "cell_type": "markdown",
   "metadata": {},
   "source": [
    "### Make predictions on test data for submission"
   ]
  },
  {
   "cell_type": "code",
   "execution_count": 203,
   "metadata": {},
   "outputs": [],
   "source": [
    "y_test_pred = clf4.predict(X_test)"
   ]
  },
  {
   "cell_type": "code",
   "execution_count": 204,
   "metadata": {},
   "outputs": [],
   "source": [
    "predictions = pd.concat([passengerIds,\n",
    "                         pd.DataFrame({'Survived':y_test_pred})],\n",
    "                         axis=1)"
   ]
  },
  {
   "cell_type": "code",
   "execution_count": 205,
   "metadata": {},
   "outputs": [],
   "source": [
    "predictions.to_csv('titanic_predictions.csv', index=False)"
   ]
  },
  {
   "cell_type": "code",
   "execution_count": null,
   "metadata": {},
   "outputs": [],
   "source": []
  }
 ],
 "metadata": {
  "kernelspec": {
   "display_name": "Python 3",
   "language": "python",
   "name": "python3"
  },
  "language_info": {
   "codemirror_mode": {
    "name": "ipython",
    "version": 3
   },
   "file_extension": ".py",
   "mimetype": "text/x-python",
   "name": "python",
   "nbconvert_exporter": "python",
   "pygments_lexer": "ipython3",
   "version": "3.6.5"
  }
 },
 "nbformat": 4,
 "nbformat_minor": 2
}
